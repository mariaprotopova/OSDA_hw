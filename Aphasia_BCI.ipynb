{
 "cells": [
  {
   "cell_type": "code",
   "execution_count": 1,
   "id": "q0olqUXAbJHA",
   "metadata": {
    "colab": {
     "base_uri": "https://localhost:8080/"
    },
    "id": "q0olqUXAbJHA",
    "outputId": "a5315586-0462-449a-98a9-f922a9603cc0"
   },
   "outputs": [],
   "source": [
    "import os"
   ]
  },
  {
   "cell_type": "code",
   "execution_count": 9,
   "id": "d60e89c8",
   "metadata": {
    "id": "d60e89c8"
   },
   "outputs": [
    {
     "data": {
      "text/plain": [
       "'C:\\\\Users\\\\HP pavilion X360\\\\Desktop\\\\OSDA\\\\big_homework'"
      ]
     },
     "execution_count": 9,
     "metadata": {},
     "output_type": "execute_result"
    }
   ],
   "source": [
    "import numpy as np\n",
    "import pandas as pd\n",
    "import glob\n",
    "import random\n",
    "\n",
    "from sklearn import metrics\n",
    "from sklearn.metrics import f1_score, classification_report\n",
    "from sklearn.model_selection import train_test_split, cross_validate, StratifiedKFold, GridSearchCV, StratifiedShuffleSplit, KFold\n",
    "import matplotlib.pyplot as plt\n",
    "from sklearn.neighbors import KNeighborsClassifier\n",
    "from sklearn.linear_model import LogisticRegression\n",
    "from sklearn.ensemble import RandomForestClassifier\n",
    "from sklearn.preprocessing import LabelEncoder\n",
    "from sklearn.preprocessing import StandardScaler\n",
    "from sklearn.preprocessing import KBinsDiscretizer, OneHotEncoder\n",
    "from sklearn.metrics import accuracy_score, f1_score\n",
    "import fcalc\n",
    "from mlxtend.feature_selection import SequentialFeatureSelector\n",
    "import winsound\n",
    "import seaborn as snx\n",
    "import xgboost as xgb\n",
    "random.seed(42)\n",
    "\n",
    "os.getcwd()"
   ]
  },
  {
   "cell_type": "markdown",
   "id": "a09d255d-9102-4558-806b-82a138c4f774",
   "metadata": {
    "id": "a09d255d-9102-4558-806b-82a138c4f774"
   },
   "source": [
    "# Aphasia_BCI"
   ]
  },
  {
   "cell_type": "code",
   "execution_count": 10,
   "id": "4fcc497e-0717-4ad8-a1b1-33271bea4d5e",
   "metadata": {
    "id": "4fcc497e-0717-4ad8-a1b1-33271bea4d5e"
   },
   "outputs": [],
   "source": [
    "data = pd.read_csv('bci_s005.csv')"
   ]
  },
  {
   "cell_type": "code",
   "execution_count": 12,
   "id": "c854747d-a77e-4738-822d-e2a6287c5164",
   "metadata": {
    "colab": {
     "base_uri": "https://localhost:8080/"
    },
    "id": "c854747d-a77e-4738-822d-e2a6287c5164",
    "outputId": "06d5c60a-1ac3-4bfb-fd0c-a973ee95fad7"
   },
   "outputs": [
    {
     "name": "stdout",
     "output_type": "stream",
     "text": [
      "(array([0, 1]), array([3370,  767], dtype=int64))\n"
     ]
    }
   ],
   "source": [
    "y = (data['target'].values >=1).astype(int)\n",
    "data.drop(['Unnamed: 0', 'target'], axis = 1, inplace = True)\n",
    "X = data.values\n",
    "\n",
    "X = X[:, :150] + X[:, 150:]\n",
    "\n",
    "print(np.unique(y, return_counts = True))"
   ]
  },
  {
   "cell_type": "code",
   "execution_count": 13,
   "id": "47efd05c-780f-4eb4-bafb-42fd00e666a6",
   "metadata": {},
   "outputs": [],
   "source": [
    "X_train, X_test, y_train, y_test = train_test_split(np.array(X), y, test_size = 0.2, stratify = y)"
   ]
  },
  {
   "cell_type": "code",
   "execution_count": 14,
   "id": "a2e781ab-5adb-4b2c-b690-55c243e031f2",
   "metadata": {
    "id": "a2e781ab-5adb-4b2c-b690-55c243e031f2"
   },
   "outputs": [
    {
     "data": {
      "text/plain": [
       "(3309, 150)"
      ]
     },
     "execution_count": 14,
     "metadata": {},
     "output_type": "execute_result"
    }
   ],
   "source": [
    "stsc = StandardScaler()\n",
    "stsc.fit(X_train)\n",
    "train = stsc.transform(X_train)\n",
    "test = stsc.transform(X_test)\n",
    "\n",
    "train.shape"
   ]
  },
  {
   "cell_type": "code",
   "execution_count": 18,
   "id": "a385b216-b310-42ea-8a1b-20cc82f5ab71",
   "metadata": {
    "id": "a385b216-b310-42ea-8a1b-20cc82f5ab71"
   },
   "outputs": [
    {
     "name": "stdout",
     "output_type": "stream",
     "text": [
      "(3309, 300) (828, 300)\n"
     ]
    }
   ],
   "source": [
    "kbins = KBinsDiscretizer(n_bins=3, encode='ordinal', strategy='quantile', subsample=None).fit(train)\n",
    "new_train = pd.DataFrame(kbins.transform(train), columns = pd.DataFrame(train).columns)\n",
    "new_test = pd.DataFrame(kbins.transform(test), columns = pd.DataFrame(test).columns)\n",
    "\n",
    "ohe = OneHotEncoder(drop = 'first').fit(new_train)\n",
    "ohe_train = ohe.transform(new_train).toarray().astype(int)\n",
    "ohe_test = ohe.transform(new_test).toarray().astype(int)\n",
    "\n",
    "print(ohe_train.shape, ohe_test.shape)"
   ]
  },
  {
   "cell_type": "code",
   "execution_count": 16,
   "id": "6bf6e69c-6c85-40c9-8eae-71463083272b",
   "metadata": {
    "id": "6bf6e69c-6c85-40c9-8eae-71463083272b"
   },
   "outputs": [],
   "source": []
  },
  {
   "cell_type": "markdown",
   "id": "98fe1dcc-7ef7-4ec5-ba5c-f689c7662c33",
   "metadata": {
    "id": "98fe1dcc-7ef7-4ec5-ba5c-f689c7662c33"
   },
   "source": [
    "## 1. KNN"
   ]
  },
  {
   "cell_type": "code",
   "execution_count": 19,
   "id": "184eac5f-afed-4b2d-80c9-5094ea5c2666",
   "metadata": {
    "colab": {
     "base_uri": "https://localhost:8080/",
     "height": 465
    },
    "id": "184eac5f-afed-4b2d-80c9-5094ea5c2666",
    "outputId": "38a7ea25-538b-4eb4-fd30-44f37e938128"
   },
   "outputs": [
    {
     "name": "stdout",
     "output_type": "stream",
     "text": [
      "Best params: {'metric': 'manhattan', 'n_neighbors': 20, 'weights': 'distance'}\n"
     ]
    },
    {
     "data": {
      "text/plain": [
       "<Axes: >"
      ]
     },
     "execution_count": 19,
     "metadata": {},
     "output_type": "execute_result"
    },
    {
     "data": {
      "image/png": "[encoded data removed]",
      "text/plain": [
       "<Figure size 640x480 with 2 Axes>"
      ]
     },
     "metadata": {},
     "output_type": "display_data"
    }
   ],
   "source": [
    "knn = KNeighborsClassifier()\n",
    "parameters = {'n_neighbors':np.arange(1, 30, 1), 'metric': ('euclidean', 'manhattan'),\n",
    "             'weights':('uniform', 'distance')}\n",
    "grid = GridSearchCV(knn, parameters, cv = 4)\n",
    "\n",
    "grid.fit(train, y_train)\n",
    "print(f'Best params: {grid.best_params_}')\n",
    "knn_pred = KNeighborsClassifier(metric = grid.best_params_['metric'], n_neighbors = grid.best_params_['n_neighbors'],\n",
    "                               weights = grid.best_params_['weights'])\n",
    "knn_pred.fit(train, y_train)\n",
    "\n",
    "y_pred = knn_pred.predict(test)\n",
    "\n",
    "contingency_matrix = metrics.cluster.contingency_matrix(y_pred, y_test)\n",
    "snx.heatmap(contingency_matrix, annot = True, fmt='')"
   ]
  },
  {
   "cell_type": "code",
   "execution_count": 20,
   "id": "9ab73ac0-4251-4852-ae43-0531e08fb987",
   "metadata": {
    "colab": {
     "base_uri": "https://localhost:8080/"
    },
    "id": "9ab73ac0-4251-4852-ae43-0531e08fb987",
    "outputId": "aec5ae3b-9216-4ba1-a1f0-dbe95d8fcee8"
   },
   "outputs": [
    {
     "name": "stdout",
     "output_type": "stream",
     "text": [
      "Accuracy: 0.8128019323671497\n",
      "f1: 0.44836775483011326\n",
      "recall: 0.4992581602373887\n"
     ]
    }
   ],
   "source": [
    "print(f'Accuracy: {metrics.accuracy_score(y_pred = y_pred, y_true = y_test)}')\n",
    "print(f'f1: {metrics.f1_score(y_pred = y_pred, y_true = y_test, average = \"macro\")}')\n",
    "print(f'recall: {metrics.recall_score(y_pred = y_pred, y_true = y_test, average = \"macro\")}')"
   ]
  },
  {
   "cell_type": "markdown",
   "id": "eb0032ff-4ced-4bbb-9939-42a3a4e4d2c8",
   "metadata": {
    "id": "eb0032ff-4ced-4bbb-9939-42a3a4e4d2c8"
   },
   "source": [
    "## 2. Logistic Regression"
   ]
  },
  {
   "cell_type": "code",
   "execution_count": 21,
   "id": "c405e0e7-004f-4447-a8fc-e184c5b6aaf5",
   "metadata": {
    "id": "c405e0e7-004f-4447-a8fc-e184c5b6aaf5",
    "scrolled": true
   },
   "outputs": [
    {
     "name": "stdout",
     "output_type": "stream",
     "text": [
      "Best params: {'C': 3.1, 'class_weight': 'balanced', 'penalty': 'l1', 'solver': 'liblinear'}\n"
     ]
    },
    {
     "data": {
      "text/plain": [
       "<Axes: >"
      ]
     },
     "execution_count": 21,
     "metadata": {},
     "output_type": "execute_result"
    },
    {
     "data": {
      "image/png": "[encoded data removed]",
      "text/plain": [
       "<Figure size 640x480 with 2 Axes>"
      ]
     },
     "metadata": {},
     "output_type": "display_data"
    }
   ],
   "source": [
    "lr = LogisticRegression(max_iter = 10000, random_state = 42)\n",
    "parameters = {'C':np.arange(0.1, 5, 1), 'penalty': ('l2', 'l1'),\n",
    "             'class_weight': ['balanced'],\n",
    "             'solver' : ['saga', 'liblinear']}\n",
    "grid = GridSearchCV(lr, parameters, cv = 4, n_jobs = -2)\n",
    "\n",
    "grid.fit(train, y_train)\n",
    "print(f'Best params: {grid.best_params_}')\n",
    "\n",
    "lr_pred = LogisticRegression(C = grid.best_params_['C'], penalty = grid.best_params_['penalty'],\n",
    "                               class_weight = grid.best_params_['class_weight'],\n",
    "                            solver = grid.best_params_['solver'])\n",
    "lr_pred.fit(train, y_train)\n",
    "\n",
    "y_pred = lr_pred.predict_proba(test)[:, 1] > .55\n",
    "\n",
    "contingency_matrix = metrics.cluster.contingency_matrix(1*y_pred,\n",
    "                                                      y_test)\n",
    "snx.heatmap(contingency_matrix, annot = True, fmt='')"
   ]
  },
  {
   "cell_type": "code",
   "execution_count": 22,
   "id": "90b27054-7cdc-48f1-b90d-edfd51560939",
   "metadata": {
    "colab": {
     "base_uri": "https://localhost:8080/"
    },
    "id": "90b27054-7cdc-48f1-b90d-edfd51560939",
    "outputId": "3485568d-eac7-4bf3-d912-d4bfbbee3a22"
   },
   "outputs": [
    {
     "name": "stdout",
     "output_type": "stream",
     "text": [
      "Logistic Regression recall: 0.4716655747813018\n",
      "Logistic Regression f1: 0.6526531883680851\n"
     ]
    }
   ],
   "source": [
    "# print(f'Logistic Regression accuracy: {metrics.accuracy_score(y_test, y_pred)}')\n",
    "print(f'Logistic Regression recall: {metrics.recall_score(y_pred = y_pred, y_true = y_test, average = \"macro\")}')\n",
    "print(f'Logistic Regression f1: {f1_score(y_test, y_pred, average = \"weighted\")}')"
   ]
  },
  {
   "cell_type": "code",
   "execution_count": null,
   "id": "a5e9c187-478a-4069-8ffd-ab17561d4723",
   "metadata": {
    "id": "a5e9c187-478a-4069-8ffd-ab17561d4723"
   },
   "outputs": [],
   "source": []
  },
  {
   "cell_type": "markdown",
   "id": "01ebbabb-a757-4507-9e36-08b934d57373",
   "metadata": {
    "id": "01ebbabb-a757-4507-9e36-08b934d57373"
   },
   "source": [
    "## 3.a XGBoost"
   ]
  },
  {
   "cell_type": "code",
   "execution_count": 23,
   "id": "3f7ba928-1fec-4713-9495-01e220606173",
   "metadata": {
    "id": "3f7ba928-1fec-4713-9495-01e220606173"
   },
   "outputs": [],
   "source": [
    "import pandas as pd\n",
    "import numpy as np\n",
    "import xgboost as xgb\n",
    "from sklearn.model_selection import train_test_split\n",
    "\n",
    "\n",
    "data_dmatrix = xgb.DMatrix(data=train, label=y_train)\n",
    "params = {'objective':'binary:logistic','eval_metric':'logloss',\n",
    "          'eta':0.01,\n",
    "          'subsample':0.1}\n",
    "def fit_and_score(estimator, X_train, X_test, y_train, y_test):\n",
    "    \"\"\"Fit the estimator on the train set and score it on both sets\"\"\"\n",
    "    estimator.fit(X_train, y_train, eval_set=[(X_test, y_test)])\n",
    "\n",
    "    train_score = estimator.score(X_train, y_train)\n",
    "    test_score = estimator.score(X_test, y_test)\n",
    "\n",
    "    return estimator, train_score, test_score\n",
    "\n",
    "\n",
    "cv = StratifiedKFold(n_splits=4, shuffle=True, random_state=94)"
   ]
  },
  {
   "cell_type": "code",
   "execution_count": 24,
   "id": "RS_X1bZdnynW",
   "metadata": {
    "colab": {
     "base_uri": "https://localhost:8080/"
    },
    "id": "RS_X1bZdnynW",
    "outputId": "9aaa59bd-0e94-4956-83b8-875e69110f3a",
    "scrolled": true
   },
   "outputs": [
    {
     "name": "stdout",
     "output_type": "stream",
     "text": [
      "[0]\tvalidation_0-logloss:0.48469\n",
      "[1]\tvalidation_0-logloss:0.48030\n",
      "[2]\tvalidation_0-logloss:0.47894\n",
      "[3]\tvalidation_0-logloss:0.48412\n",
      "[4]\tvalidation_0-logloss:0.48693\n"
     ]
    },
    {
     "name": "stderr",
     "output_type": "stream",
     "text": [
      "C:\\Users\\HP pavilion X360\\AppData\\Local\\Programs\\Python\\Python311\\Lib\\site-packages\\xgboost\\core.py:160: UserWarning: [17:53:11] WARNING: C:\\buildkite-agent\\builds\\buildkite-windows-cpu-autoscaling-group-i-0750514818a16474a-1\\xgboost\\xgboost-ci-windows\\src\\learner.cc:742: \n",
      "Parameters: { \"metrics\", \"nfold\" } are not used.\n",
      "\n",
      "  warnings.warn(smsg, UserWarning)\n"
     ]
    },
    {
     "name": "stdout",
     "output_type": "stream",
     "text": [
      "[5]\tvalidation_0-logloss:0.48815\n",
      "[6]\tvalidation_0-logloss:0.48993\n",
      "[7]\tvalidation_0-logloss:0.48945\n",
      "[8]\tvalidation_0-logloss:0.49001\n",
      "[9]\tvalidation_0-logloss:0.49771\n",
      "[10]\tvalidation_0-logloss:0.49922\n",
      "[11]\tvalidation_0-logloss:0.50220\n",
      "[12]\tvalidation_0-logloss:0.50337\n",
      "[13]\tvalidation_0-logloss:0.50571\n",
      "[14]\tvalidation_0-logloss:0.50821\n",
      "[15]\tvalidation_0-logloss:0.51133\n",
      "[16]\tvalidation_0-logloss:0.51670\n",
      "[17]\tvalidation_0-logloss:0.52181\n",
      "[18]\tvalidation_0-logloss:0.52447\n",
      "[19]\tvalidation_0-logloss:0.52597\n",
      "[20]\tvalidation_0-logloss:0.52770\n",
      "[21]\tvalidation_0-logloss:0.53382\n",
      "[22]\tvalidation_0-logloss:0.53694\n",
      "[23]\tvalidation_0-logloss:0.53914\n",
      "[24]\tvalidation_0-logloss:0.53770\n",
      "[25]\tvalidation_0-logloss:0.54049\n",
      "[26]\tvalidation_0-logloss:0.54260\n",
      "[27]\tvalidation_0-logloss:0.54865\n",
      "[28]\tvalidation_0-logloss:0.55174\n",
      "[29]\tvalidation_0-logloss:0.55276\n",
      "[30]\tvalidation_0-logloss:0.55388\n",
      "[31]\tvalidation_0-logloss:0.55492\n",
      "[32]\tvalidation_0-logloss:0.55691\n",
      "[33]\tvalidation_0-logloss:0.55744\n",
      "[34]\tvalidation_0-logloss:0.56174\n",
      "[35]\tvalidation_0-logloss:0.56482\n",
      "[36]\tvalidation_0-logloss:0.56835\n",
      "[37]\tvalidation_0-logloss:0.56799\n",
      "[38]\tvalidation_0-logloss:0.57152\n",
      "[39]\tvalidation_0-logloss:0.57418\n",
      "[40]\tvalidation_0-logloss:0.57492\n",
      "[41]\tvalidation_0-logloss:0.57758\n",
      "[42]\tvalidation_0-logloss:0.57952\n",
      "[43]\tvalidation_0-logloss:0.57998\n",
      "[44]\tvalidation_0-logloss:0.58095\n",
      "[45]\tvalidation_0-logloss:0.58021\n",
      "[46]\tvalidation_0-logloss:0.58340\n",
      "[47]\tvalidation_0-logloss:0.58615\n",
      "[48]\tvalidation_0-logloss:0.58745\n",
      "[49]\tvalidation_0-logloss:0.58734\n",
      "[50]\tvalidation_0-logloss:0.58975\n",
      "[51]\tvalidation_0-logloss:0.58974\n",
      "[52]\tvalidation_0-logloss:0.59213\n",
      "[53]\tvalidation_0-logloss:0.59351\n",
      "[54]\tvalidation_0-logloss:0.59497\n",
      "[55]\tvalidation_0-logloss:0.59475\n",
      "[56]\tvalidation_0-logloss:0.59924\n",
      "[57]\tvalidation_0-logloss:0.60061\n",
      "[58]\tvalidation_0-logloss:0.60424\n",
      "[59]\tvalidation_0-logloss:0.60552\n",
      "[60]\tvalidation_0-logloss:0.60660\n",
      "[61]\tvalidation_0-logloss:0.60939\n",
      "[62]\tvalidation_0-logloss:0.61045\n",
      "[63]\tvalidation_0-logloss:0.61304\n",
      "[64]\tvalidation_0-logloss:0.61404\n",
      "[65]\tvalidation_0-logloss:0.61446\n",
      "[66]\tvalidation_0-logloss:0.61526\n",
      "[67]\tvalidation_0-logloss:0.61784\n",
      "[68]\tvalidation_0-logloss:0.62007\n",
      "[69]\tvalidation_0-logloss:0.62398\n",
      "[70]\tvalidation_0-logloss:0.62786\n",
      "[71]\tvalidation_0-logloss:0.62897\n",
      "[72]\tvalidation_0-logloss:0.62938\n",
      "[73]\tvalidation_0-logloss:0.63018\n",
      "[74]\tvalidation_0-logloss:0.63136\n",
      "[75]\tvalidation_0-logloss:0.63284\n",
      "[76]\tvalidation_0-logloss:0.63231\n",
      "[77]\tvalidation_0-logloss:0.63389\n",
      "[78]\tvalidation_0-logloss:0.63483\n",
      "[79]\tvalidation_0-logloss:0.63445\n",
      "[80]\tvalidation_0-logloss:0.63611\n",
      "[81]\tvalidation_0-logloss:0.63733\n",
      "[82]\tvalidation_0-logloss:0.64003\n",
      "[83]\tvalidation_0-logloss:0.64070\n",
      "[84]\tvalidation_0-logloss:0.64160\n",
      "[85]\tvalidation_0-logloss:0.64227\n",
      "[86]\tvalidation_0-logloss:0.64311\n",
      "[87]\tvalidation_0-logloss:0.64418\n",
      "[88]\tvalidation_0-logloss:0.64674\n",
      "[89]\tvalidation_0-logloss:0.64904\n",
      "[90]\tvalidation_0-logloss:0.65117\n",
      "[91]\tvalidation_0-logloss:0.65163\n",
      "[92]\tvalidation_0-logloss:0.65266\n",
      "[93]\tvalidation_0-logloss:0.65483\n",
      "[94]\tvalidation_0-logloss:0.65740\n",
      "[95]\tvalidation_0-logloss:0.65842\n",
      "[96]\tvalidation_0-logloss:0.66109\n",
      "[97]\tvalidation_0-logloss:0.66167\n",
      "[98]\tvalidation_0-logloss:0.66335\n",
      "[99]\tvalidation_0-logloss:0.66423\n",
      "[0]\tvalidation_0-logloss:0.48602\n",
      "[1]\tvalidation_0-logloss:0.48154\n",
      "[2]\tvalidation_0-logloss:0.47657\n",
      "[3]\tvalidation_0-logloss:0.48382\n",
      "[4]\tvalidation_0-logloss:0.48331\n",
      "[5]\tvalidation_0-logloss:0.49341\n"
     ]
    },
    {
     "name": "stderr",
     "output_type": "stream",
     "text": [
      "C:\\Users\\HP pavilion X360\\AppData\\Local\\Programs\\Python\\Python311\\Lib\\site-packages\\xgboost\\core.py:160: UserWarning: [17:53:13] WARNING: C:\\buildkite-agent\\builds\\buildkite-windows-cpu-autoscaling-group-i-0750514818a16474a-1\\xgboost\\xgboost-ci-windows\\src\\learner.cc:742: \n",
      "Parameters: { \"metrics\", \"nfold\" } are not used.\n",
      "\n",
      "  warnings.warn(smsg, UserWarning)\n"
     ]
    },
    {
     "name": "stdout",
     "output_type": "stream",
     "text": [
      "[6]\tvalidation_0-logloss:0.49695\n",
      "[7]\tvalidation_0-logloss:0.50114\n",
      "[8]\tvalidation_0-logloss:0.50415\n",
      "[9]\tvalidation_0-logloss:0.50180\n",
      "[10]\tvalidation_0-logloss:0.50311\n",
      "[11]\tvalidation_0-logloss:0.50557\n",
      "[12]\tvalidation_0-logloss:0.50865\n",
      "[13]\tvalidation_0-logloss:0.50947\n",
      "[14]\tvalidation_0-logloss:0.51114\n",
      "[15]\tvalidation_0-logloss:0.51485\n",
      "[16]\tvalidation_0-logloss:0.51670\n",
      "[17]\tvalidation_0-logloss:0.52125\n",
      "[18]\tvalidation_0-logloss:0.51935\n",
      "[19]\tvalidation_0-logloss:0.52192\n",
      "[20]\tvalidation_0-logloss:0.52528\n",
      "[21]\tvalidation_0-logloss:0.52777\n",
      "[22]\tvalidation_0-logloss:0.53016\n",
      "[23]\tvalidation_0-logloss:0.53113\n",
      "[24]\tvalidation_0-logloss:0.52984\n",
      "[25]\tvalidation_0-logloss:0.53162\n",
      "[26]\tvalidation_0-logloss:0.53263\n",
      "[27]\tvalidation_0-logloss:0.53784\n",
      "[28]\tvalidation_0-logloss:0.53983\n",
      "[29]\tvalidation_0-logloss:0.54000\n",
      "[30]\tvalidation_0-logloss:0.54158\n",
      "[31]\tvalidation_0-logloss:0.54372\n",
      "[32]\tvalidation_0-logloss:0.54900\n",
      "[33]\tvalidation_0-logloss:0.55436\n",
      "[34]\tvalidation_0-logloss:0.55640\n",
      "[35]\tvalidation_0-logloss:0.55991\n",
      "[36]\tvalidation_0-logloss:0.56112\n",
      "[37]\tvalidation_0-logloss:0.56735\n",
      "[38]\tvalidation_0-logloss:0.57009\n",
      "[39]\tvalidation_0-logloss:0.57221\n",
      "[40]\tvalidation_0-logloss:0.57472\n",
      "[41]\tvalidation_0-logloss:0.57900\n",
      "[42]\tvalidation_0-logloss:0.58339\n",
      "[43]\tvalidation_0-logloss:0.58777\n",
      "[44]\tvalidation_0-logloss:0.58819\n",
      "[45]\tvalidation_0-logloss:0.59048\n",
      "[46]\tvalidation_0-logloss:0.59156\n",
      "[47]\tvalidation_0-logloss:0.59326\n",
      "[48]\tvalidation_0-logloss:0.59488\n",
      "[49]\tvalidation_0-logloss:0.59442\n",
      "[50]\tvalidation_0-logloss:0.59702\n",
      "[51]\tvalidation_0-logloss:0.59808\n",
      "[52]\tvalidation_0-logloss:0.59993\n",
      "[53]\tvalidation_0-logloss:0.60403\n",
      "[54]\tvalidation_0-logloss:0.60459\n",
      "[55]\tvalidation_0-logloss:0.60722\n",
      "[56]\tvalidation_0-logloss:0.61027\n",
      "[57]\tvalidation_0-logloss:0.61174\n",
      "[58]\tvalidation_0-logloss:0.61391\n",
      "[59]\tvalidation_0-logloss:0.61881\n",
      "[60]\tvalidation_0-logloss:0.61982\n",
      "[61]\tvalidation_0-logloss:0.62169\n",
      "[62]\tvalidation_0-logloss:0.62560\n",
      "[63]\tvalidation_0-logloss:0.62891\n",
      "[64]\tvalidation_0-logloss:0.63132\n",
      "[65]\tvalidation_0-logloss:0.63436\n",
      "[66]\tvalidation_0-logloss:0.63660\n",
      "[67]\tvalidation_0-logloss:0.64036\n",
      "[68]\tvalidation_0-logloss:0.64104\n",
      "[69]\tvalidation_0-logloss:0.64138\n",
      "[70]\tvalidation_0-logloss:0.64262\n",
      "[71]\tvalidation_0-logloss:0.64443\n",
      "[72]\tvalidation_0-logloss:0.64614\n",
      "[73]\tvalidation_0-logloss:0.64825\n",
      "[74]\tvalidation_0-logloss:0.65139\n",
      "[75]\tvalidation_0-logloss:0.65122\n",
      "[76]\tvalidation_0-logloss:0.65521\n",
      "[77]\tvalidation_0-logloss:0.65784\n",
      "[78]\tvalidation_0-logloss:0.65942\n",
      "[79]\tvalidation_0-logloss:0.66003\n",
      "[80]\tvalidation_0-logloss:0.66129\n",
      "[81]\tvalidation_0-logloss:0.66215\n",
      "[82]\tvalidation_0-logloss:0.66562\n",
      "[83]\tvalidation_0-logloss:0.66799\n",
      "[84]\tvalidation_0-logloss:0.67095\n",
      "[85]\tvalidation_0-logloss:0.67282\n",
      "[86]\tvalidation_0-logloss:0.67323\n",
      "[87]\tvalidation_0-logloss:0.67466\n",
      "[88]\tvalidation_0-logloss:0.67581\n",
      "[89]\tvalidation_0-logloss:0.67681\n",
      "[90]\tvalidation_0-logloss:0.67955\n",
      "[91]\tvalidation_0-logloss:0.67935\n",
      "[92]\tvalidation_0-logloss:0.68285\n",
      "[93]\tvalidation_0-logloss:0.68597\n",
      "[94]\tvalidation_0-logloss:0.68640\n",
      "[95]\tvalidation_0-logloss:0.68778\n",
      "[96]\tvalidation_0-logloss:0.68853\n",
      "[97]\tvalidation_0-logloss:0.68951\n",
      "[98]\tvalidation_0-logloss:0.69057\n",
      "[99]\tvalidation_0-logloss:0.69164\n",
      "[0]\tvalidation_0-logloss:0.48961\n",
      "[1]\tvalidation_0-logloss:0.49236\n",
      "[2]\tvalidation_0-logloss:0.49378\n",
      "[3]\tvalidation_0-logloss:0.49828\n",
      "[4]\tvalidation_0-logloss:0.50363\n",
      "[5]\tvalidation_0-logloss:0.50931\n",
      "[6]\tvalidation_0-logloss:0.50853\n"
     ]
    },
    {
     "name": "stderr",
     "output_type": "stream",
     "text": [
      "C:\\Users\\HP pavilion X360\\AppData\\Local\\Programs\\Python\\Python311\\Lib\\site-packages\\xgboost\\core.py:160: UserWarning: [17:53:15] WARNING: C:\\buildkite-agent\\builds\\buildkite-windows-cpu-autoscaling-group-i-0750514818a16474a-1\\xgboost\\xgboost-ci-windows\\src\\learner.cc:742: \n",
      "Parameters: { \"metrics\", \"nfold\" } are not used.\n",
      "\n",
      "  warnings.warn(smsg, UserWarning)\n"
     ]
    },
    {
     "name": "stdout",
     "output_type": "stream",
     "text": [
      "[7]\tvalidation_0-logloss:0.51896\n",
      "[8]\tvalidation_0-logloss:0.52570\n",
      "[9]\tvalidation_0-logloss:0.53104\n",
      "[10]\tvalidation_0-logloss:0.53654\n",
      "[11]\tvalidation_0-logloss:0.53702\n",
      "[12]\tvalidation_0-logloss:0.53694\n",
      "[13]\tvalidation_0-logloss:0.53802\n",
      "[14]\tvalidation_0-logloss:0.54291\n",
      "[15]\tvalidation_0-logloss:0.55384\n",
      "[16]\tvalidation_0-logloss:0.55411\n",
      "[17]\tvalidation_0-logloss:0.55157\n",
      "[18]\tvalidation_0-logloss:0.55348\n",
      "[19]\tvalidation_0-logloss:0.55592\n",
      "[20]\tvalidation_0-logloss:0.55633\n",
      "[21]\tvalidation_0-logloss:0.56042\n",
      "[22]\tvalidation_0-logloss:0.56113\n",
      "[23]\tvalidation_0-logloss:0.56596\n",
      "[24]\tvalidation_0-logloss:0.57003\n",
      "[25]\tvalidation_0-logloss:0.57640\n",
      "[26]\tvalidation_0-logloss:0.57496\n",
      "[27]\tvalidation_0-logloss:0.57427\n",
      "[28]\tvalidation_0-logloss:0.57404\n",
      "[29]\tvalidation_0-logloss:0.58104\n",
      "[30]\tvalidation_0-logloss:0.58314\n",
      "[31]\tvalidation_0-logloss:0.58543\n",
      "[32]\tvalidation_0-logloss:0.58657\n",
      "[33]\tvalidation_0-logloss:0.59010\n",
      "[34]\tvalidation_0-logloss:0.59169\n",
      "[35]\tvalidation_0-logloss:0.59561\n",
      "[36]\tvalidation_0-logloss:0.60275\n",
      "[37]\tvalidation_0-logloss:0.60746\n",
      "[38]\tvalidation_0-logloss:0.60719\n",
      "[39]\tvalidation_0-logloss:0.61011\n",
      "[40]\tvalidation_0-logloss:0.60909\n",
      "[41]\tvalidation_0-logloss:0.61244\n",
      "[42]\tvalidation_0-logloss:0.61449\n",
      "[43]\tvalidation_0-logloss:0.61707\n",
      "[44]\tvalidation_0-logloss:0.62054\n",
      "[45]\tvalidation_0-logloss:0.62035\n",
      "[46]\tvalidation_0-logloss:0.62527\n",
      "[47]\tvalidation_0-logloss:0.62651\n",
      "[48]\tvalidation_0-logloss:0.62926\n",
      "[49]\tvalidation_0-logloss:0.63152\n",
      "[50]\tvalidation_0-logloss:0.63265\n",
      "[51]\tvalidation_0-logloss:0.63461\n",
      "[52]\tvalidation_0-logloss:0.63514\n",
      "[53]\tvalidation_0-logloss:0.63569\n",
      "[54]\tvalidation_0-logloss:0.63860\n",
      "[55]\tvalidation_0-logloss:0.64522\n",
      "[56]\tvalidation_0-logloss:0.65061\n",
      "[57]\tvalidation_0-logloss:0.65256\n",
      "[58]\tvalidation_0-logloss:0.65254\n",
      "[59]\tvalidation_0-logloss:0.65533\n",
      "[60]\tvalidation_0-logloss:0.66091\n",
      "[61]\tvalidation_0-logloss:0.66317\n",
      "[62]\tvalidation_0-logloss:0.66319\n",
      "[63]\tvalidation_0-logloss:0.66300\n",
      "[64]\tvalidation_0-logloss:0.66485\n",
      "[65]\tvalidation_0-logloss:0.66798\n",
      "[66]\tvalidation_0-logloss:0.67185\n",
      "[67]\tvalidation_0-logloss:0.67387\n",
      "[68]\tvalidation_0-logloss:0.67395\n",
      "[69]\tvalidation_0-logloss:0.67642\n",
      "[70]\tvalidation_0-logloss:0.67718\n",
      "[71]\tvalidation_0-logloss:0.67986\n",
      "[72]\tvalidation_0-logloss:0.68181\n",
      "[73]\tvalidation_0-logloss:0.68286\n",
      "[74]\tvalidation_0-logloss:0.68541\n",
      "[75]\tvalidation_0-logloss:0.68650\n",
      "[76]\tvalidation_0-logloss:0.68764\n",
      "[77]\tvalidation_0-logloss:0.68978\n",
      "[78]\tvalidation_0-logloss:0.69320\n",
      "[79]\tvalidation_0-logloss:0.69399\n",
      "[80]\tvalidation_0-logloss:0.69384\n",
      "[81]\tvalidation_0-logloss:0.69676\n",
      "[82]\tvalidation_0-logloss:0.69894\n",
      "[83]\tvalidation_0-logloss:0.70105\n",
      "[84]\tvalidation_0-logloss:0.70416\n",
      "[85]\tvalidation_0-logloss:0.70652\n",
      "[86]\tvalidation_0-logloss:0.70782\n",
      "[87]\tvalidation_0-logloss:0.70888\n",
      "[88]\tvalidation_0-logloss:0.71042\n",
      "[89]\tvalidation_0-logloss:0.71307\n",
      "[90]\tvalidation_0-logloss:0.71585\n",
      "[91]\tvalidation_0-logloss:0.71705\n",
      "[92]\tvalidation_0-logloss:0.71824\n",
      "[93]\tvalidation_0-logloss:0.71900\n",
      "[94]\tvalidation_0-logloss:0.72078\n",
      "[95]\tvalidation_0-logloss:0.72268\n",
      "[96]\tvalidation_0-logloss:0.72399\n",
      "[97]\tvalidation_0-logloss:0.72573\n",
      "[98]\tvalidation_0-logloss:0.72744\n",
      "[99]\tvalidation_0-logloss:0.72852\n",
      "[0]\tvalidation_0-logloss:0.47950\n",
      "[1]\tvalidation_0-logloss:0.47958\n",
      "[2]\tvalidation_0-logloss:0.47920\n",
      "[3]\tvalidation_0-logloss:0.48274\n",
      "[4]\tvalidation_0-logloss:0.48565\n",
      "[5]\tvalidation_0-logloss:0.48820\n",
      "[6]\tvalidation_0-logloss:0.49027\n"
     ]
    },
    {
     "name": "stderr",
     "output_type": "stream",
     "text": [
      "C:\\Users\\HP pavilion X360\\AppData\\Local\\Programs\\Python\\Python311\\Lib\\site-packages\\xgboost\\core.py:160: UserWarning: [17:53:17] WARNING: C:\\buildkite-agent\\builds\\buildkite-windows-cpu-autoscaling-group-i-0750514818a16474a-1\\xgboost\\xgboost-ci-windows\\src\\learner.cc:742: \n",
      "Parameters: { \"metrics\", \"nfold\" } are not used.\n",
      "\n",
      "  warnings.warn(smsg, UserWarning)\n"
     ]
    },
    {
     "name": "stdout",
     "output_type": "stream",
     "text": [
      "[7]\tvalidation_0-logloss:0.49337\n",
      "[8]\tvalidation_0-logloss:0.49284\n",
      "[9]\tvalidation_0-logloss:0.49558\n",
      "[10]\tvalidation_0-logloss:0.49971\n",
      "[11]\tvalidation_0-logloss:0.50285\n",
      "[12]\tvalidation_0-logloss:0.50501\n",
      "[13]\tvalidation_0-logloss:0.50513\n",
      "[14]\tvalidation_0-logloss:0.50826\n",
      "[15]\tvalidation_0-logloss:0.50780\n",
      "[16]\tvalidation_0-logloss:0.50836\n",
      "[17]\tvalidation_0-logloss:0.50849\n",
      "[18]\tvalidation_0-logloss:0.51041\n",
      "[19]\tvalidation_0-logloss:0.51205\n",
      "[20]\tvalidation_0-logloss:0.51851\n",
      "[21]\tvalidation_0-logloss:0.52354\n",
      "[22]\tvalidation_0-logloss:0.52501\n",
      "[23]\tvalidation_0-logloss:0.52505\n",
      "[24]\tvalidation_0-logloss:0.52750\n",
      "[25]\tvalidation_0-logloss:0.53269\n",
      "[26]\tvalidation_0-logloss:0.53538\n",
      "[27]\tvalidation_0-logloss:0.53731\n",
      "[28]\tvalidation_0-logloss:0.53840\n",
      "[29]\tvalidation_0-logloss:0.54178\n",
      "[30]\tvalidation_0-logloss:0.54524\n",
      "[31]\tvalidation_0-logloss:0.54726\n",
      "[32]\tvalidation_0-logloss:0.54984\n",
      "[33]\tvalidation_0-logloss:0.55030\n",
      "[34]\tvalidation_0-logloss:0.55173\n",
      "[35]\tvalidation_0-logloss:0.55438\n",
      "[36]\tvalidation_0-logloss:0.55660\n",
      "[37]\tvalidation_0-logloss:0.55673\n",
      "[38]\tvalidation_0-logloss:0.55968\n",
      "[39]\tvalidation_0-logloss:0.56119\n",
      "[40]\tvalidation_0-logloss:0.56379\n",
      "[41]\tvalidation_0-logloss:0.56318\n",
      "[42]\tvalidation_0-logloss:0.56691\n",
      "[43]\tvalidation_0-logloss:0.56908\n",
      "[44]\tvalidation_0-logloss:0.57334\n",
      "[45]\tvalidation_0-logloss:0.57698\n",
      "[46]\tvalidation_0-logloss:0.58068\n",
      "[47]\tvalidation_0-logloss:0.58082\n",
      "[48]\tvalidation_0-logloss:0.58371\n",
      "[49]\tvalidation_0-logloss:0.58537\n",
      "[50]\tvalidation_0-logloss:0.58699\n",
      "[51]\tvalidation_0-logloss:0.59319\n",
      "[52]\tvalidation_0-logloss:0.59504\n",
      "[53]\tvalidation_0-logloss:0.59805\n",
      "[54]\tvalidation_0-logloss:0.59974\n",
      "[55]\tvalidation_0-logloss:0.60177\n",
      "[56]\tvalidation_0-logloss:0.60521\n",
      "[57]\tvalidation_0-logloss:0.60547\n",
      "[58]\tvalidation_0-logloss:0.60651\n",
      "[59]\tvalidation_0-logloss:0.61202\n",
      "[60]\tvalidation_0-logloss:0.61605\n",
      "[61]\tvalidation_0-logloss:0.61807\n",
      "[62]\tvalidation_0-logloss:0.61853\n",
      "[63]\tvalidation_0-logloss:0.62023\n",
      "[64]\tvalidation_0-logloss:0.62146\n",
      "[65]\tvalidation_0-logloss:0.62422\n",
      "[66]\tvalidation_0-logloss:0.62440\n",
      "[67]\tvalidation_0-logloss:0.62582\n",
      "[68]\tvalidation_0-logloss:0.63039\n",
      "[69]\tvalidation_0-logloss:0.63119\n",
      "[70]\tvalidation_0-logloss:0.63218\n",
      "[71]\tvalidation_0-logloss:0.63367\n",
      "[72]\tvalidation_0-logloss:0.63729\n",
      "[73]\tvalidation_0-logloss:0.63945\n",
      "[74]\tvalidation_0-logloss:0.63981\n",
      "[75]\tvalidation_0-logloss:0.64098\n",
      "[76]\tvalidation_0-logloss:0.64143\n",
      "[77]\tvalidation_0-logloss:0.64166\n",
      "[78]\tvalidation_0-logloss:0.64230\n",
      "[79]\tvalidation_0-logloss:0.64383\n",
      "[80]\tvalidation_0-logloss:0.64508\n",
      "[81]\tvalidation_0-logloss:0.64774\n",
      "[82]\tvalidation_0-logloss:0.64671\n",
      "[83]\tvalidation_0-logloss:0.64893\n",
      "[84]\tvalidation_0-logloss:0.65071\n",
      "[85]\tvalidation_0-logloss:0.65184\n",
      "[86]\tvalidation_0-logloss:0.65622\n",
      "[87]\tvalidation_0-logloss:0.65728\n",
      "[88]\tvalidation_0-logloss:0.65787\n",
      "[89]\tvalidation_0-logloss:0.65915\n",
      "[90]\tvalidation_0-logloss:0.65995\n",
      "[91]\tvalidation_0-logloss:0.66239\n",
      "[92]\tvalidation_0-logloss:0.66511\n",
      "[93]\tvalidation_0-logloss:0.66696\n",
      "[94]\tvalidation_0-logloss:0.67037\n",
      "[95]\tvalidation_0-logloss:0.67215\n",
      "[96]\tvalidation_0-logloss:0.67337\n",
      "[97]\tvalidation_0-logloss:0.67673\n",
      "[98]\tvalidation_0-logloss:0.67793\n",
      "[99]\tvalidation_0-logloss:0.67896\n"
     ]
    },
    {
     "name": "stderr",
     "output_type": "stream",
     "text": [
      "C:\\Users\\HP pavilion X360\\AppData\\Local\\Programs\\Python\\Python311\\Lib\\site-packages\\xgboost\\core.py:160: UserWarning: [17:57:43] WARNING: C:\\buildkite-agent\\builds\\buildkite-windows-cpu-autoscaling-group-i-0750514818a16474a-1\\xgboost\\xgboost-ci-windows\\src\\learner.cc:742: \n",
      "Parameters: { \"metrics\", \"nfold\" } are not used.\n",
      "\n",
      "  warnings.warn(smsg, UserWarning)\n"
     ]
    },
    {
     "name": "stdout",
     "output_type": "stream",
     "text": [
      "Best params: {'alpha': 25.0, 'eta': 0.1, 'eval_metric': 'logloss', 'max_depth': 10, 'objective': 'binary:logistic', 'subsample': 0.5}\n"
     ]
    }
   ],
   "source": [
    "from sklearn.base import clone\n",
    "clf = xgb.XGBClassifier(tree_method=\"hist\", nfold=4, metrics = 'logloss', seed=42)\n",
    "\n",
    "resutls = {}\n",
    "\n",
    "for train_id, test_id in cv.split(train, y_train):\n",
    "    X_train = train[train_id]\n",
    "    X_test = train[test_id]\n",
    "    y_train_cv = y_train[train_id]\n",
    "    y_test_cv = y_train[test_id]\n",
    "    est, train_score, test_score = fit_and_score(\n",
    "        clone(clf), X_train, X_test, y_train_cv, y_test_cv\n",
    "    )\n",
    "    resutls[est] = (train_score, test_score)\n",
    "\n",
    "params = {'eta':np.linspace(0.1, 1.0, 2),\n",
    "          'subsample':[0.5, 0.7],\n",
    "          'max_depth': [10, 20],\n",
    "          'eval_metric':['logloss'],\n",
    "          'alpha':np.linspace(1, 25, 5),\n",
    "         'objective':['binary:logistic', 'reg:logistic']}\n",
    "\n",
    "grid = GridSearchCV(clf, params, cv = 4,  n_jobs = -2)\n",
    "\n",
    "grid.fit(train, y_train)\n",
    "print(f'Best params: {grid.best_params_}')"
   ]
  },
  {
   "cell_type": "code",
   "execution_count": 25,
   "id": "af326bef-2bb7-4df3-b7d6-8ced152c992d",
   "metadata": {},
   "outputs": [
    {
     "data": {
      "text/plain": [
       "<Axes: >"
      ]
     },
     "execution_count": 25,
     "metadata": {},
     "output_type": "execute_result"
    },
    {
     "data": {
      "image/png": "[encoded data removed]",
      "text/plain": [
       "<Figure size 640x480 with 2 Axes>"
      ]
     },
     "metadata": {},
     "output_type": "display_data"
    }
   ],
   "source": [
    "xgb_reg = xgb.XGBClassifier(objective= grid.best_params_['objective'],\n",
    "                           eval_metric = grid.best_params_['eval_metric'],\n",
    "                           eta = grid.best_params_['eta'],\n",
    "                           subsample = grid.best_params_['subsample'],\n",
    "                           max_depth = grid.best_params_['max_depth'],\n",
    "                           alpha = grid.best_params_['alpha']-10)\n",
    "\n",
    "xgb_reg.fit(train, y_train)\n",
    "y_pred = xgb_reg.predict_proba(test)[:, 1] > .25\n",
    "contingency_matrix = metrics.cluster.contingency_matrix(y_test, y_pred)\n",
    "snx.heatmap(contingency_matrix, annot = True, fmt='')"
   ]
  },
  {
   "cell_type": "code",
   "execution_count": 26,
   "id": "cefa068b-6be9-4c33-b3c8-cf893d8777ce",
   "metadata": {
    "colab": {
     "base_uri": "https://localhost:8080/"
    },
    "id": "cefa068b-6be9-4c33-b3c8-cf893d8777ce",
    "outputId": "fd10ac03-1cb4-489d-e16a-17e125b59a97",
    "scrolled": true
   },
   "outputs": [
    {
     "name": "stdout",
     "output_type": "stream",
     "text": [
      "NB accuracy: 0.7234299516908212\n",
      "NB f1: 0.5226464257392093\n"
     ]
    }
   ],
   "source": [
    "print(f'NB accuracy: {metrics.accuracy_score(y_test, y_pred)}')\n",
    "print(f'NB f1: {f1_score(y_test, y_pred, average = \"macro\")}')"
   ]
  },
  {
   "cell_type": "code",
   "execution_count": null,
   "id": "a4a77973-d8d0-4e87-b1d8-af639c3ab807",
   "metadata": {
    "id": "a4a77973-d8d0-4e87-b1d8-af639c3ab807"
   },
   "outputs": [],
   "source": []
  },
  {
   "cell_type": "markdown",
   "id": "8c1fc4cc-f4c7-4627-bac9-89b702d0cec6",
   "metadata": {
    "id": "8c1fc4cc-f4c7-4627-bac9-89b702d0cec6"
   },
   "source": [
    "## 4. Random Forest"
   ]
  },
  {
   "cell_type": "code",
   "execution_count": 27,
   "id": "bf1a5748-33d1-4584-b544-0bb38c6fac05",
   "metadata": {
    "colab": {
     "base_uri": "https://localhost:8080/",
     "height": 465
    },
    "id": "bf1a5748-33d1-4584-b544-0bb38c6fac05",
    "outputId": "d27ca6a2-f14c-4803-a556-487c782cd908"
   },
   "outputs": [
    {
     "name": "stdout",
     "output_type": "stream",
     "text": [
      "Best params: {'class_weight': 'balanced', 'criterion': 'entropy', 'max_depth': 23, 'min_samples_split': 3}\n"
     ]
    },
    {
     "data": {
      "image/png": "[encoded data removed]",
      "text/plain": [
       "<Figure size 640x480 with 2 Axes>"
      ]
     },
     "metadata": {},
     "output_type": "display_data"
    }
   ],
   "source": [
    "rfc = RandomForestClassifier(random_state = 42, n_jobs = -2)\n",
    "parameters = {'max_depth':np.arange(3, 30, 5),\n",
    "             'criterion':['gini', 'entropy'], 'min_samples_split': np.arange(3, 30, 5),\n",
    "             'class_weight':['balanced', 'balanced_subsample']}\n",
    "grid = GridSearchCV(rfc, parameters, cv = 4)\n",
    "\n",
    "grid.fit(train, y_train)\n",
    "print(f'Best params: {grid.best_params_}')\n",
    "rfc_pred = RandomForestClassifier(random_state = 42, max_depth = grid.best_params_['max_depth'],\n",
    "                                 criterion = grid.best_params_['criterion'],\n",
    "                                 min_samples_split = grid.best_params_['min_samples_split'],\n",
    "                                 class_weight = grid.best_params_['class_weight'])\n",
    "rfc_pred.fit(train, y_train)\n",
    "y_pred = rfc_pred.predict_proba(test)[:, 1]> .5\n",
    "\n",
    "contingency_matrix = metrics.cluster.contingency_matrix(y_pred,y_test)\n",
    "snx.heatmap(contingency_matrix, annot = True, fmt='')\n",
    "\n",
    "winsound.Beep(1500, 1500)"
   ]
  },
  {
   "cell_type": "code",
   "execution_count": 266,
   "id": "2afc4cc9-5c3c-4aa7-9eaa-5f0ccf9df142",
   "metadata": {},
   "outputs": [],
   "source": []
  },
  {
   "cell_type": "code",
   "execution_count": 33,
   "id": "f3cc584b-522f-4873-bb8a-289d48bba9ac",
   "metadata": {
    "id": "f3cc584b-522f-4873-bb8a-289d48bba9ac",
    "scrolled": true
   },
   "outputs": [
    {
     "name": "stdout",
     "output_type": "stream",
     "text": [
      "1654\n",
      "0.1\n",
      "fitted\n",
      "predicted\n",
      "0.2\n",
      "fitted\n",
      "predicted\n",
      "0.3\n",
      "fitted\n",
      "predicted\n",
      "0.4\n",
      "fitted\n",
      "predicted\n",
      "0.5\n",
      "fitted\n",
      "predicted\n",
      "1985\n",
      "0.1\n",
      "fitted\n",
      "predicted\n",
      "0.2\n",
      "fitted\n",
      "predicted\n",
      "0.3\n",
      "fitted\n",
      "predicted\n",
      "0.4\n",
      "fitted\n",
      "predicted\n",
      "0.5\n",
      "fitted\n",
      "predicted\n",
      "2316\n",
      "0.1\n",
      "fitted\n",
      "predicted\n",
      "0.2\n",
      "fitted\n",
      "predicted\n",
      "0.3\n",
      "fitted\n",
      "predicted\n",
      "0.4\n",
      "fitted\n",
      "predicted\n",
      "0.5\n",
      "fitted\n",
      "predicted\n",
      "2647\n",
      "0.1\n",
      "fitted\n",
      "predicted\n",
      "0.2\n",
      "fitted\n",
      "predicted\n",
      "0.3\n",
      "fitted\n",
      "predicted\n",
      "0.4\n",
      "fitted\n",
      "predicted\n",
      "0.5\n",
      "fitted\n",
      "predicted\n",
      "2978\n",
      "0.1\n",
      "fitted\n",
      "predicted\n",
      "0.2\n",
      "fitted\n",
      "predicted\n",
      "0.3\n",
      "fitted\n",
      "predicted\n",
      "0.4\n",
      "fitted\n",
      "predicted\n",
      "0.5\n",
      "fitted\n",
      "predicted\n"
     ]
    }
   ],
   "source": [
    "from sklearn.model_selection import ShuffleSplit\n",
    "from sklearn.model_selection import train_test_split, cross_validate, GridSearchCV, learning_curve, ShuffleSplit, KFold, StratifiedKFold\n",
    "\n",
    "x = train\n",
    "y = y_train\n",
    "train_size = np.linspace(0.5 * x.shape[0], .9 * x.shape[0], 5)\n",
    "index = np.arange(0, x.shape[0])\n",
    "np.random.shuffle(index)\n",
    "\n",
    "model_rocauc = dict()\n",
    "model_recall = dict()\n",
    "model_f1 = dict()\n",
    "model_rocauc['KNN_test'] = []\n",
    "model_rocauc['LR_test'] = []\n",
    "model_rocauc['XGB_test'] = []\n",
    "model_rocauc['RF_test'] = []\n",
    "\n",
    "model_recall['KNN_test'] = []\n",
    "model_recall['LR_test'] = []\n",
    "model_recall['XGB_test'] = []\n",
    "model_recall['RF_test'] = []\n",
    "\n",
    "model_f1['KNN_test'] = []\n",
    "model_f1['LR_test'] = []\n",
    "model_f1['XGB_test'] = []\n",
    "model_f1['RF_test'] = []\n",
    "\n",
    "model_rocauc['threshold'] = []\n",
    "model_f1['threshold'] = []\n",
    "model_recall['threshold'] = []\n",
    "model_rocauc['train_size'] = []\n",
    "model_recall['train_size'] = []\n",
    "model_f1['train_size'] = []\n",
    "\n",
    "kf = KFold(n_splits=4, shuffle = True, random_state=42)\n",
    "for size in train_size:\n",
    "    size = size.astype(int)\n",
    "    train_id = index[:size]\n",
    "    test_id = index [size:]\n",
    "    print(len(train_id))\n",
    "    for threshold in [.1, .2, .3, .4, .5]:\n",
    "        print(threshold)\n",
    "        x_tr = x[train_id]\n",
    "        y_tr = y[train_id]\n",
    "        \n",
    "        x_ts = x[test_id]\n",
    "        y_ts = y[test_id]\n",
    "        rfc_pred.fit(x_tr, y_tr)\n",
    "        xgb_reg.fit(x_tr, y_tr)\n",
    "        lr_pred.fit(x_tr, y_tr)\n",
    "        knn_pred.fit(x_tr, y_tr)\n",
    "        print('fitted')\n",
    "        y_knn = knn_pred.predict_proba(x_ts)[:, 1] >threshold\n",
    "        y_lr = lr_pred.predict_proba(x_ts)[:, 1] >threshold\n",
    "        y_xgb = xgb_reg.predict_proba(x_ts)[:, 1] >threshold\n",
    "        y_rfc = rfc_pred.predict_proba(x_ts)[:, 1] >threshold\n",
    "        print('predicted')\n",
    "        model_rocauc['KNN_test'].append(metrics.roc_auc_score(y_ts, y_knn))\n",
    "        model_rocauc['LR_test'].append(metrics.roc_auc_score(y_ts, y_lr))\n",
    "        model_rocauc['XGB_test'].append(metrics.roc_auc_score(y_ts, y_xgb))\n",
    "        model_rocauc['RF_test'].append(metrics.roc_auc_score(y_ts, y_rfc))\n",
    "        model_rocauc['threshold'].append(threshold)\n",
    "        model_rocauc['train_size'].append(len(train_id))\n",
    "    \n",
    "        model_recall['KNN_test'].append(metrics.recall_score(y_ts, y_knn))\n",
    "        model_recall['LR_test'].append(metrics.recall_score(y_ts, y_lr))\n",
    "        model_recall['XGB_test'].append(metrics.recall_score(y_ts, y_xgb))\n",
    "        model_recall['RF_test'].append(metrics.recall_score(y_ts, y_rfc))\n",
    "        model_recall['threshold'].append(threshold)\n",
    "        model_recall['train_size'].append(len(train_id))\n",
    "    \n",
    "        model_f1['KNN_test'].append(metrics.f1_score(y_ts, y_knn, average = \"macro\"))\n",
    "        model_f1['LR_test'].append(metrics.f1_score(y_ts, y_lr, average = \"macro\"))\n",
    "        model_f1['XGB_test'].append(metrics.f1_score(y_ts, y_xgb, average = \"macro\"))\n",
    "        model_f1['RF_test'].append(metrics.f1_score(y_ts, y_rfc, average = \"macro\"))\n",
    "        model_f1['threshold'].append(threshold)\n",
    "        model_f1['train_size'].append(len(train_id))"
   ]
  },
  {
   "cell_type": "code",
   "execution_count": 34,
   "id": "7f6c6cde-e087-4d69-93ca-e8c1c83a97ff",
   "metadata": {
    "scrolled": true
   },
   "outputs": [
    {
     "data": {
      "text/html": [
       "<div>\n",
       "<style scoped>\n",
       "    .dataframe tbody tr th:only-of-type {\n",
       "        vertical-align: middle;\n",
       "    }\n",
       "\n",
       "    .dataframe tbody tr th {\n",
       "        vertical-align: top;\n",
       "    }\n",
       "\n",
       "    .dataframe thead th {\n",
       "        text-align: right;\n",
       "    }\n",
       "</style>\n",
       "<table border=\"1\" class=\"dataframe\">\n",
       "  <thead>\n",
       "    <tr style=\"text-align: right;\">\n",
       "      <th></th>\n",
       "      <th>KNN_test</th>\n",
       "      <th>LR_test</th>\n",
       "      <th>XGB_test</th>\n",
       "      <th>RF_test</th>\n",
       "      <th>threshold</th>\n",
       "      <th>train_size</th>\n",
       "    </tr>\n",
       "  </thead>\n",
       "  <tbody>\n",
       "    <tr>\n",
       "      <th>0</th>\n",
       "      <td>0.539456</td>\n",
       "      <td>0.505895</td>\n",
       "      <td>0.519751</td>\n",
       "      <td>0.529173</td>\n",
       "      <td>0.1</td>\n",
       "      <td>1654</td>\n",
       "    </tr>\n",
       "    <tr>\n",
       "      <th>1</th>\n",
       "      <td>0.513553</td>\n",
       "      <td>0.520515</td>\n",
       "      <td>0.554683</td>\n",
       "      <td>0.540346</td>\n",
       "      <td>0.2</td>\n",
       "      <td>1654</td>\n",
       "    </tr>\n",
       "    <tr>\n",
       "      <th>2</th>\n",
       "      <td>0.505344</td>\n",
       "      <td>0.541286</td>\n",
       "      <td>0.529900</td>\n",
       "      <td>0.516188</td>\n",
       "      <td>0.3</td>\n",
       "      <td>1654</td>\n",
       "    </tr>\n",
       "    <tr>\n",
       "      <th>3</th>\n",
       "      <td>0.496927</td>\n",
       "      <td>0.543777</td>\n",
       "      <td>0.509284</td>\n",
       "      <td>0.500244</td>\n",
       "      <td>0.4</td>\n",
       "      <td>1654</td>\n",
       "    </tr>\n",
       "    <tr>\n",
       "      <th>4</th>\n",
       "      <td>0.498526</td>\n",
       "      <td>0.540636</td>\n",
       "      <td>0.502823</td>\n",
       "      <td>0.500000</td>\n",
       "      <td>0.5</td>\n",
       "      <td>1654</td>\n",
       "    </tr>\n",
       "    <tr>\n",
       "      <th>5</th>\n",
       "      <td>0.557155</td>\n",
       "      <td>0.503670</td>\n",
       "      <td>0.522850</td>\n",
       "      <td>0.520289</td>\n",
       "      <td>0.1</td>\n",
       "      <td>1985</td>\n",
       "    </tr>\n",
       "    <tr>\n",
       "      <th>6</th>\n",
       "      <td>0.524708</td>\n",
       "      <td>0.511793</td>\n",
       "      <td>0.565608</td>\n",
       "      <td>0.552741</td>\n",
       "      <td>0.2</td>\n",
       "      <td>1985</td>\n",
       "    </tr>\n",
       "    <tr>\n",
       "      <th>7</th>\n",
       "      <td>0.516118</td>\n",
       "      <td>0.539050</td>\n",
       "      <td>0.535784</td>\n",
       "      <td>0.527852</td>\n",
       "      <td>0.3</td>\n",
       "      <td>1985</td>\n",
       "    </tr>\n",
       "    <tr>\n",
       "      <th>8</th>\n",
       "      <td>0.494954</td>\n",
       "      <td>0.560425</td>\n",
       "      <td>0.511264</td>\n",
       "      <td>0.503960</td>\n",
       "      <td>0.4</td>\n",
       "      <td>1985</td>\n",
       "    </tr>\n",
       "    <tr>\n",
       "      <th>9</th>\n",
       "      <td>0.500000</td>\n",
       "      <td>0.552584</td>\n",
       "      <td>0.507014</td>\n",
       "      <td>0.500000</td>\n",
       "      <td>0.5</td>\n",
       "      <td>1985</td>\n",
       "    </tr>\n",
       "    <tr>\n",
       "      <th>10</th>\n",
       "      <td>0.556871</td>\n",
       "      <td>0.499137</td>\n",
       "      <td>0.523010</td>\n",
       "      <td>0.520315</td>\n",
       "      <td>0.1</td>\n",
       "      <td>2316</td>\n",
       "    </tr>\n",
       "    <tr>\n",
       "      <th>11</th>\n",
       "      <td>0.537830</td>\n",
       "      <td>0.512315</td>\n",
       "      <td>0.542209</td>\n",
       "      <td>0.582375</td>\n",
       "      <td>0.2</td>\n",
       "      <td>2316</td>\n",
       "    </tr>\n",
       "    <tr>\n",
       "      <th>12</th>\n",
       "      <td>0.533378</td>\n",
       "      <td>0.531020</td>\n",
       "      <td>0.539125</td>\n",
       "      <td>0.531620</td>\n",
       "      <td>0.3</td>\n",
       "      <td>2316</td>\n",
       "    </tr>\n",
       "    <tr>\n",
       "      <th>13</th>\n",
       "      <td>0.500863</td>\n",
       "      <td>0.555461</td>\n",
       "      <td>0.511821</td>\n",
       "      <td>0.500432</td>\n",
       "      <td>0.4</td>\n",
       "      <td>2316</td>\n",
       "    </tr>\n",
       "    <tr>\n",
       "      <th>14</th>\n",
       "      <td>0.500000</td>\n",
       "      <td>0.542861</td>\n",
       "      <td>0.507831</td>\n",
       "      <td>0.500000</td>\n",
       "      <td>0.5</td>\n",
       "      <td>2316</td>\n",
       "    </tr>\n",
       "    <tr>\n",
       "      <th>15</th>\n",
       "      <td>0.582269</td>\n",
       "      <td>0.504596</td>\n",
       "      <td>0.509612</td>\n",
       "      <td>0.557499</td>\n",
       "      <td>0.1</td>\n",
       "      <td>2647</td>\n",
       "    </tr>\n",
       "    <tr>\n",
       "      <th>16</th>\n",
       "      <td>0.546314</td>\n",
       "      <td>0.517822</td>\n",
       "      <td>0.577206</td>\n",
       "      <td>0.579698</td>\n",
       "      <td>0.2</td>\n",
       "      <td>2647</td>\n",
       "    </tr>\n",
       "    <tr>\n",
       "      <th>17</th>\n",
       "      <td>0.531593</td>\n",
       "      <td>0.534116</td>\n",
       "      <td>0.525720</td>\n",
       "      <td>0.537512</td>\n",
       "      <td>0.3</td>\n",
       "      <td>2647</td>\n",
       "    </tr>\n",
       "    <tr>\n",
       "      <th>18</th>\n",
       "      <td>0.498723</td>\n",
       "      <td>0.558995</td>\n",
       "      <td>0.524910</td>\n",
       "      <td>0.511793</td>\n",
       "      <td>0.4</td>\n",
       "      <td>2647</td>\n",
       "    </tr>\n",
       "    <tr>\n",
       "      <th>19</th>\n",
       "      <td>0.500000</td>\n",
       "      <td>0.525533</td>\n",
       "      <td>0.507197</td>\n",
       "      <td>0.500000</td>\n",
       "      <td>0.5</td>\n",
       "      <td>2647</td>\n",
       "    </tr>\n",
       "    <tr>\n",
       "      <th>20</th>\n",
       "      <td>0.568586</td>\n",
       "      <td>0.500000</td>\n",
       "      <td>0.496460</td>\n",
       "      <td>0.541140</td>\n",
       "      <td>0.1</td>\n",
       "      <td>2978</td>\n",
       "    </tr>\n",
       "    <tr>\n",
       "      <th>21</th>\n",
       "      <td>0.565250</td>\n",
       "      <td>0.514981</td>\n",
       "      <td>0.579266</td>\n",
       "      <td>0.593077</td>\n",
       "      <td>0.2</td>\n",
       "      <td>2978</td>\n",
       "    </tr>\n",
       "    <tr>\n",
       "      <th>22</th>\n",
       "      <td>0.560686</td>\n",
       "      <td>0.532742</td>\n",
       "      <td>0.540994</td>\n",
       "      <td>0.519751</td>\n",
       "      <td>0.3</td>\n",
       "      <td>2978</td>\n",
       "    </tr>\n",
       "    <tr>\n",
       "      <th>23</th>\n",
       "      <td>0.498127</td>\n",
       "      <td>0.554512</td>\n",
       "      <td>0.529699</td>\n",
       "      <td>0.502195</td>\n",
       "      <td>0.4</td>\n",
       "      <td>2978</td>\n",
       "    </tr>\n",
       "    <tr>\n",
       "      <th>24</th>\n",
       "      <td>0.500000</td>\n",
       "      <td>0.568089</td>\n",
       "      <td>0.504067</td>\n",
       "      <td>0.500000</td>\n",
       "      <td>0.5</td>\n",
       "      <td>2978</td>\n",
       "    </tr>\n",
       "  </tbody>\n",
       "</table>\n",
       "</div>"
      ],
      "text/plain": [
       "    KNN_test   LR_test  XGB_test   RF_test  threshold  train_size\n",
       "0   0.539456  0.505895  0.519751  0.529173        0.1        1654\n",
       "1   0.513553  0.520515  0.554683  0.540346        0.2        1654\n",
       "2   0.505344  0.541286  0.529900  0.516188        0.3        1654\n",
       "3   0.496927  0.543777  0.509284  0.500244        0.4        1654\n",
       "4   0.498526  0.540636  0.502823  0.500000        0.5        1654\n",
       "5   0.557155  0.503670  0.522850  0.520289        0.1        1985\n",
       "6   0.524708  0.511793  0.565608  0.552741        0.2        1985\n",
       "7   0.516118  0.539050  0.535784  0.527852        0.3        1985\n",
       "8   0.494954  0.560425  0.511264  0.503960        0.4        1985\n",
       "9   0.500000  0.552584  0.507014  0.500000        0.5        1985\n",
       "10  0.556871  0.499137  0.523010  0.520315        0.1        2316\n",
       "11  0.537830  0.512315  0.542209  0.582375        0.2        2316\n",
       "12  0.533378  0.531020  0.539125  0.531620        0.3        2316\n",
       "13  0.500863  0.555461  0.511821  0.500432        0.4        2316\n",
       "14  0.500000  0.542861  0.507831  0.500000        0.5        2316\n",
       "15  0.582269  0.504596  0.509612  0.557499        0.1        2647\n",
       "16  0.546314  0.517822  0.577206  0.579698        0.2        2647\n",
       "17  0.531593  0.534116  0.525720  0.537512        0.3        2647\n",
       "18  0.498723  0.558995  0.524910  0.511793        0.4        2647\n",
       "19  0.500000  0.525533  0.507197  0.500000        0.5        2647\n",
       "20  0.568586  0.500000  0.496460  0.541140        0.1        2978\n",
       "21  0.565250  0.514981  0.579266  0.593077        0.2        2978\n",
       "22  0.560686  0.532742  0.540994  0.519751        0.3        2978\n",
       "23  0.498127  0.554512  0.529699  0.502195        0.4        2978\n",
       "24  0.500000  0.568089  0.504067  0.500000        0.5        2978"
      ]
     },
     "execution_count": 34,
     "metadata": {},
     "output_type": "execute_result"
    }
   ],
   "source": [
    "pd.DataFrame(model_rocauc)"
   ]
  },
  {
   "cell_type": "code",
   "execution_count": null,
   "id": "992e7184-a473-4a52-a02f-2bf2dea08c6f",
   "metadata": {},
   "outputs": [],
   "source": []
  },
  {
   "cell_type": "code",
   "execution_count": null,
   "id": "899eb68a-d6b6-4c0f-b6ce-cf29936525b2",
   "metadata": {},
   "outputs": [],
   "source": []
  },
  {
   "cell_type": "code",
   "execution_count": null,
   "id": "P7Ml6iv8zfAR",
   "metadata": {
    "id": "P7Ml6iv8zfAR"
   },
   "outputs": [],
   "source": []
  },
  {
   "cell_type": "markdown",
   "id": "5d010c19-274d-47fe-b5a4-b9acaa9c68e6",
   "metadata": {
    "id": "5d010c19-274d-47fe-b5a4-b9acaa9c68e6"
   },
   "source": [
    "## 6. FCALC"
   ]
  },
  {
   "cell_type": "code",
   "execution_count": 37,
   "id": "c6062503-54b4-46a1-b743-f0e306a9cf55",
   "metadata": {
    "colab": {
     "background_save": true,
     "base_uri": "https://localhost:8080/"
    },
    "id": "c6062503-54b4-46a1-b743-f0e306a9cf55",
    "outputId": "080eec82-3f5b-408a-99ff-d5553a590f20"
   },
   "outputs": [
    {
     "name": "stdout",
     "output_type": "stream",
     "text": [
      "standard\n"
     ]
    },
    {
     "name": "stderr",
     "output_type": "stream",
     "text": [
      "\n",
      "KeyboardInterrupt\n",
      "\n"
     ]
    }
   ],
   "source": [
    "best_params_f1 = dict()\n",
    "best_params_acc = dict()\n",
    "best_params_rec = dict()\n",
    "kf = KFold(n_splits=4, shuffle = True, random_state=42)\n",
    "for train, test in kf.split(ohe_train):\n",
    "    for alpha in np.arange(0, 10, 3):\n",
    "        for method in ['standard', 'standard-support', 'standard-ratio']:\n",
    "            print(method)\n",
    "            if str(alpha) not in list(best_params_f1.keys()):\n",
    "                best_params_f1[f'method: {method}, alpha: {alpha}']=[]\n",
    "                best_params_acc[f'method: {method}, alpha: {alpha}']=[]\n",
    "                best_params_rec[f'method: {method}, alpha: {alpha}']=[]\n",
    "            bin_cls = fcalc.classifier.BinarizedBinaryClassifier(ohe_train[train].astype(int), y_train.astype(int)[train], method = method, alpha = alpha)\n",
    "            bin_cls.predict(ohe_train[test].astype(int))\n",
    "            f1 = f1_score(y_train.astype(int)[test], bin_cls.predictions, average = None)\n",
    "            acc = accuracy_score(y_train.astype(int)[test], bin_cls.predictions)\n",
    "            rec = metrics.recall_score(y_train.astype(int)[test], bin_cls.predictions)\n",
    "            best_params_f1[f'method: {method}, alpha: {alpha}'].append(f1)\n",
    "            best_params_rec[f'method: {method}, alpha: {alpha}'].append(rec)\n",
    "\n",
    "print(best_params_f1)\n",
    "print(best_params_acc)\n",
    "print(best_params_rec)"
   ]
  },
  {
   "cell_type": "code",
   "execution_count": null,
   "id": "1u7N4wvReWQZ",
   "metadata": {
    "id": "1u7N4wvReWQZ"
   },
   "outputs": [],
   "source": [
    "best_params_acc"
   ]
  },
  {
   "cell_type": "code",
   "execution_count": null,
   "id": "sNoUoVZyebRH",
   "metadata": {
    "id": "sNoUoVZyebRH"
   },
   "outputs": [],
   "source": []
  },
  {
   "cell_type": "code",
   "execution_count": null,
   "id": "o_8DLmNLec_Z",
   "metadata": {
    "id": "o_8DLmNLec_Z"
   },
   "outputs": [],
   "source": [
    "from sklearn.metrics import recall_score, roc_auc_score\n",
    "index = np.arange(0, ohe_train.shape[0])\n",
    "np.random.shuffle(index)\n",
    "kf = KFold(n_splits=10, shuffle = True, random_state=42)\n",
    "\n",
    "bin_cls_quality = dict()\n",
    "bin_cls_quality['train_score_acc'] = []\n",
    "bin_cls_quality['train_score_f1'] = []\n",
    "bin_cls_quality['train_score_recall'] = []\n",
    "bin_cls_quality['train_score_rocauc'] = []\n",
    "\n",
    "bin_cls_quality['test_score_acc'] = []\n",
    "bin_cls_quality['test_score_f1'] = []\n",
    "bin_cls_quality['test_score_recall'] = []\n",
    "bin_cls_quality['test_score_rocauc'] = []\n",
    "\n",
    "for size in train_size:\n",
    "  bin_cls = fcalc.classifier.BinarizedBinaryClassifier(ohe_train[index[:size]].astype(int), y_train[index[:size]].astype(int), method = 'standard', alpha = 0)\n",
    "  bin_cls.predict(ohe_train[index[:size]].astype(int))\n",
    "  y_pred_tr = bin_cls.predictions\n",
    "  bin_cls_quality['train_score_acc'].append(accuracy_score(y_train[index[:size]], y_pred_tr))\n",
    "  bin_cls_quality['train_score_f1'].append(f1_score(y_train[index[:size]], y_pred_tr, average = None))\n",
    "  bin_cls_quality['train_score_f1'].append(recall_score(y_train[index[:size]], y_pred_tr, average = None))\n",
    "  bin_cls_quality['test_score_rocauc'].append(roc_auc_score(y_train[index[:size]], y_pred, average = None))\n",
    "\n",
    "  bin_cls.predict(ohe_train[index[size:]].astype(int))\n",
    "  y_pred = bin_cls.predictions\n",
    "  bin_cls_quality['test_score_acc'].append(accuracy_score(y_train[index[size:]], y_pred))\n",
    "  bin_cls_quality['test_score_f1'].append(f1_score(y_train[index[size:]], y_pred, average = None))\n",
    "  bin_cls_quality['test_score_recall'].append(recall_score(y_train[index[size:]], y_pred, average = None))\n",
    "  bin_cls_quality['test_score_rocauc'].append(roc_auc_score(y_train[index[size:]], y_pred, average = None))\n",
    "\n",
    "# contingency_matrix = metrics.cluster.contingency_matrix(y_test, y_pred)\n",
    "# snx.heatmap(contingency_matrix, annot = True, fmt='')"
   ]
  },
  {
   "cell_type": "code",
   "execution_count": null,
   "id": "kABmq7JCDcfG",
   "metadata": {
    "id": "kABmq7JCDcfG"
   },
   "outputs": [],
   "source": []
  },
  {
   "cell_type": "code",
   "execution_count": null,
   "id": "2oxrFy7HDccr",
   "metadata": {
    "id": "2oxrFy7HDccr"
   },
   "outputs": [],
   "source": [
    "model_quality['KNeighborsClassifier']['train_scores']\n",
    "knn_train_score = model_quality['KNeighborsClassifier']['train_scores']\n",
    "knn_test_score = model_quality['KNeighborsClassifier']['test_scores']\n",
    "\n",
    "lg_train_score = model_quality['LogisticRegression']['train_scores']\n",
    "lg_test_score = model_quality['LogisticRegression']['test_scores']\n",
    "\n",
    "xgb_train_score = model_quality['XGBClassifier']['train_scores']\n",
    "xgb_test_score = model_quality['XGBClassifier']['test_scores']\n",
    "\n",
    "rf_train_score = model_quality['RandomForestClassifier']['train_scores']\n",
    "rf_test_score = model_quality['RandomForestClassifier']['test_scores']\n",
    "\n",
    "bin_train_score = bin_cls_quality['train_score_acc']\n",
    "bin_test_score = bin_cls_quality['test_score_acc']\n",
    "\n",
    "import matplotlib.pyplot as plt\n",
    "\n",
    "plt.plot(train_size, knn_train_score, label = 'knn train set', linewidth = 2)\n",
    "plt.plot(train_size, knn_test_score, label = 'knn test set', linewidth = 2)\n",
    "\n",
    "plt.plot(train_size, lg_train_score, label = 'lg train set', linewidth = 2)\n",
    "plt.plot(train_size, lg_test_score, label = 'lg test set', linewidth = 2)\n",
    "\n",
    "plt.plot(train_size, xgb_train_score, label = 'xgb train set', linewidth = 2)\n",
    "plt.plot(train_size, xgb_test_score, label = 'xgb test set', linewidth = 2)\n",
    "\n",
    "plt.plot(train_size, rf_train_score, label = 'rf train set', linewidth = 2)\n",
    "plt.plot(train_size, rf_test_score, label = 'rf test set', linewidth = 2)\n",
    "\n",
    "plt.plot(train_size, bin_train_score, label = 'bin train set', linewidth = 2)\n",
    "plt.plot(train_size, bin_test_score, label = 'bin test set', linewidth = 2)\n",
    "\n",
    "plt.legend()\n",
    "plt.ylabel('Accuracy')\n",
    "plt.xlabel('# of train objects')\n",
    "plt.show()"
   ]
  },
  {
   "cell_type": "code",
   "execution_count": null,
   "id": "l3vugaEuDcaE",
   "metadata": {
    "id": "l3vugaEuDcaE"
   },
   "outputs": [],
   "source": []
  },
  {
   "cell_type": "code",
   "execution_count": null,
   "id": "JkclARW4ealm",
   "metadata": {
    "id": "JkclARW4ealm"
   },
   "outputs": [],
   "source": []
  },
  {
   "cell_type": "code",
   "execution_count": null,
   "id": "9708a9f1-c2db-4402-85c3-da9280634c17",
   "metadata": {
    "id": "9708a9f1-c2db-4402-85c3-da9280634c17"
   },
   "outputs": [],
   "source": [
    "bin_cls = fcalc.classifier.BinarizedBinaryClassifier(ohe_train_sel, y_train, method = 'standard', alpha = 0)\n",
    "# y_pred = bin_cls.predict(ohe_test.toarray().astype(int))"
   ]
  },
  {
   "cell_type": "code",
   "execution_count": null,
   "id": "3621b807-6e07-4d56-acfb-a83555e9be8c",
   "metadata": {
    "id": "3621b807-6e07-4d56-acfb-a83555e9be8c"
   },
   "outputs": [],
   "source": [
    "bin_cls.predict(ohe_test_sel)\n",
    "y_pred = bin_cls.predictions"
   ]
  },
  {
   "cell_type": "code",
   "execution_count": null,
   "id": "051425f1-522c-4153-a050-43579e77c35e",
   "metadata": {
    "id": "051425f1-522c-4153-a050-43579e77c35e",
    "outputId": "152d8acf-1f9e-4283-a2ee-9577853b34aa"
   },
   "outputs": [
    {
     "data": {
      "text/plain": [
       "array([-1.,  0.,  1.])"
      ]
     },
     "execution_count": 154,
     "metadata": {},
     "output_type": "execute_result"
    }
   ],
   "source": [
    "np.unique(y_pred)"
   ]
  },
  {
   "cell_type": "code",
   "execution_count": null,
   "id": "b8a417b2-7473-4d48-ab51-fc2739dd6589",
   "metadata": {
    "id": "b8a417b2-7473-4d48-ab51-fc2739dd6589",
    "outputId": "bfb61c41-9cad-4ec7-d051-0c082d298a0d"
   },
   "outputs": [
    {
     "data": {
      "text/plain": [
       "<Axes: >"
      ]
     },
     "execution_count": 155,
     "metadata": {},
     "output_type": "execute_result"
    },
    {
     "data": {
      "image/png": "[encoded data removed]",
      "text/plain": [
       "<Figure size 640x480 with 2 Axes>"
      ]
     },
     "metadata": {},
     "output_type": "display_data"
    }
   ],
   "source": [
    "contingency_matrix = metrics.cluster.contingency_matrix(y_test, y_pred)\n",
    "snx.heatmap(contingency_matrix, annot = True, fmt='')"
   ]
  },
  {
   "cell_type": "code",
   "execution_count": null,
   "id": "bf8973bb-f753-4954-b6a3-c200dd972a03",
   "metadata": {
    "id": "bf8973bb-f753-4954-b6a3-c200dd972a03",
    "outputId": "7b13cfd0-9068-489c-b437-75b795e651bc",
    "scrolled": true
   },
   "outputs": [
    {
     "name": "stdout",
     "output_type": "stream",
     "text": [
      "0.013071895424836602\n",
      "0.0308571861275178\n"
     ]
    }
   ],
   "source": [
    "print(accuracy_score(y_test, y_pred))\n",
    "print(f1_score(y_test, y_pred, average = 'macro'))"
   ]
  },
  {
   "cell_type": "markdown",
   "id": "0df28389-c8db-4d96-90df-0745a5139e3a",
   "metadata": {
    "id": "0df28389-c8db-4d96-90df-0745a5139e3a"
   },
   "source": [
    "## Pattern Structure"
   ]
  },
  {
   "cell_type": "code",
   "execution_count": null,
   "id": "0d313761-fc99-46f6-8885-cb617661c732",
   "metadata": {
    "id": "0d313761-fc99-46f6-8885-cb617661c732"
   },
   "outputs": [],
   "source": [
    "pat_cls = fcalc.classifier.PatternBinaryClassifier(ohe_train_sel, y_train,\n",
    "                                             categorical=np.arange(ohe_train_sel.shape[1]))"
   ]
  },
  {
   "cell_type": "code",
   "execution_count": null,
   "id": "c02587ad-e75b-4237-bd65-cb4d0a8ae933",
   "metadata": {
    "id": "c02587ad-e75b-4237-bd65-cb4d0a8ae933"
   },
   "outputs": [],
   "source": [
    "pat_cls.predict(ohe_test_sel)"
   ]
  },
  {
   "cell_type": "code",
   "execution_count": null,
   "id": "4721352d-462b-4af1-95e1-e4edd3b6a177",
   "metadata": {
    "id": "4721352d-462b-4af1-95e1-e4edd3b6a177",
    "outputId": "5dc781e5-181c-4ac7-b577-6351cab93c11"
   },
   "outputs": [
    {
     "data": {
      "text/plain": [
       "<Axes: >"
      ]
     },
     "execution_count": 160,
     "metadata": {},
     "output_type": "execute_result"
    },
    {
     "data": {
      "image/png": "[encoded data removed]",
      "text/plain": [
       "<Figure size 640x480 with 2 Axes>"
      ]
     },
     "metadata": {},
     "output_type": "display_data"
    }
   ],
   "source": [
    "y_pred = pat_cls.predictions\n",
    "contingency_matrix = metrics.cluster.contingency_matrix(y_pred, y_test)\n",
    "snx.heatmap(contingency_matrix, annot = True, fmt='')"
   ]
  },
  {
   "cell_type": "code",
   "execution_count": null,
   "id": "cc49620a-f371-43f9-9d92-7d0b2819d2e6",
   "metadata": {
    "id": "cc49620a-f371-43f9-9d92-7d0b2819d2e6",
    "outputId": "6f49f41a-643d-460c-a8f3-124aa2f0cbcf"
   },
   "outputs": [
    {
     "name": "stdout",
     "output_type": "stream",
     "text": [
      "0.0\n",
      "[0. 0. 0.]\n"
     ]
    }
   ],
   "source": [
    "print(accuracy_score(y_test, y_pred))\n",
    "print(f1_score(y_test, y_pred, average = None))"
   ]
  },
  {
   "cell_type": "code",
   "execution_count": null,
   "id": "92c28596-c0a8-47cd-9515-e7d61df00cef",
   "metadata": {
    "id": "92c28596-c0a8-47cd-9515-e7d61df00cef"
   },
   "outputs": [],
   "source": []
  },
  {
   "cell_type": "code",
   "execution_count": null,
   "id": "a4bf2c72-3743-4e39-ba4c-1846bfc61ff6",
   "metadata": {
    "id": "a4bf2c72-3743-4e39-ba4c-1846bfc61ff6"
   },
   "outputs": [],
   "source": []
  }
 ],
 "metadata": {
  "colab": {
   "provenance": []
  },
  "kernelspec": {
   "display_name": "Python 3",
   "language": "python",
   "name": "python3"
  },
  "language_info": {
   "codemirror_mode": {
    "name": "ipython",
    "version": 3
   },
   "file_extension": ".py",
   "mimetype": "text/x-python",
   "name": "python",
   "nbconvert_exporter": "python",
   "pygments_lexer": "ipython3",
   "version": "3.11.5"
  }
 },
 "nbformat": 4,
 "nbformat_minor": 5
}
