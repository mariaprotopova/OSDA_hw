{
 "cells": [
  {
   "cell_type": "code",
   "execution_count": 1,
   "id": "d60e89c8",
   "metadata": {},
   "outputs": [],
   "source": [
    "import numpy as np\n",
    "import pandas as pd\n",
    "import glob\n",
    "import os\n",
    "import random\n",
    "\n",
    "from sklearn import metrics\n",
    "from sklearn.metrics import f1_score, classification_report\n",
    "from sklearn.model_selection import train_test_split, cross_validate\n",
    "from sklearn.neighbors import KNeighborsClassifier\n",
    "from sklearn.linear_model import LogisticRegression\n",
    "from sklearn.model_selection import GridSearchCV\n",
    "from sklearn.ensemble import RandomForestClassifier\n",
    "from sklearn.preprocessing import LabelEncoder\n",
    "from sklearn.preprocessing import StandardScaler\n",
    "from sklearn.preprocessing import KBinsDiscretizer, OneHotEncoder\n",
    "from sklearn.model_selection import KFold\n",
    "from sklearn.metrics import accuracy_score, f1_score\n",
    "import fcalc\n",
    "from mlxtend.feature_selection import SequentialFeatureSelector\n",
    "\n",
    "import seaborn as snx\n",
    "import xgboost as xgb\n",
    "random.seed(42)"
   ]
  },
  {
   "cell_type": "code",
   "execution_count": 2,
   "id": "79870a58",
   "metadata": {},
   "outputs": [],
   "source": [
    "# import mne\n",
    "# os.chdir(\"C:\\stern_NEW\")\n",
    "# ch_names = ['Fp1', 'Fz','F3', 'F7', 'FT9', 'FC5', 'FC1', 'C3', 'T7', 'CP5', 'CP1','Pz', 'P3', 'P7', 'O1', 'Oz', 'O2',\n",
    "#                'P4', 'P8', 'CP6', 'CP2', 'C4', 'T8', 'FT10', 'FC6', 'FC2', 'F4', 'F8', 'Fp2', 'AF7', 'AF3', 'AFz', 'F1',\n",
    "#                'F5', 'FT7', 'FC3', 'FCz', 'C1', 'C5', 'TP7', 'CP3', 'P1', 'P5', 'PO7', 'PO3', 'POz', 'PO4', 'PO8', 'P6',\n",
    "#                'P2', 'CPz', 'CP4', 'TP8', 'C6', 'C2', 'FC4', 'FT8', 'F6', 'F2', 'AF4', 'AF8', 'TP9', 'TP10', 'Cz']\n",
    "# # picked = ['EEG ' + i for i in ch_names if 'FC' in i] + ['EEG Cz', 'EEG Fz']\n",
    "# picked = ['EEG ' + i for i in ch_names]"
   ]
  },
  {
   "cell_type": "code",
   "execution_count": 3,
   "id": "1dd1827f",
   "metadata": {},
   "outputs": [],
   "source": [
    "# beh_data = pd.read_csv(\"all_behavioural_data.csv\")"
   ]
  },
  {
   "cell_type": "code",
   "execution_count": null,
   "id": "e5e053f2-da83-41a5-abac-29ea16b52373",
   "metadata": {},
   "outputs": [],
   "source": []
  },
  {
   "cell_type": "code",
   "execution_count": 4,
   "id": "aebbaec4",
   "metadata": {
    "scrolled": true
   },
   "outputs": [],
   "source": [
    "# data_total = pd.DataFrame()\n",
    "# toi = [2.5, 3.5]\n",
    "# for setsize in ['3', '15']:\n",
    "#     for subj in glob.glob('theta_power/*'):\n",
    "#         d = mne.time_frequency.read_tfrs(subj)[0][setsize]\n",
    "#         data = pd.DataFrame(d.crop(tmin = toi[0], tmax = None).pick_channels(picked).data.sum(axis = 2).mean(axis = 2))\n",
    "#         data.columns = ch_names\n",
    "#         data['target'] = [setsize] * len(data)\n",
    "#         data['rt'] = list(beh_data[(beh_data['sub'] == int(subj.split('NZ_')[1].split('_epo')[0])) & (beh_data['setSize'] == int(setsize))]['resp.rt_raw'][:len(data)])\n",
    "#         data['trial'] = np.arange(1, len(d)+1)\n",
    "#         data_total = pd.concat([data_total, data], axis = 0)"
   ]
  },
  {
   "cell_type": "code",
   "execution_count": 5,
   "id": "c360164d",
   "metadata": {},
   "outputs": [],
   "source": [
    "# data_total.to_csv(\"C:/Users/HP pavilion X360/Desktop/OSDA/big_homework/sternberg_diff_data.csv\")"
   ]
  },
  {
   "cell_type": "markdown",
   "id": "0177cd06-4bcc-4ddd-b212-9981ea64ac0b",
   "metadata": {},
   "source": [
    "# Sternberg_data"
   ]
  },
  {
   "cell_type": "code",
   "execution_count": 39,
   "id": "1aff4979",
   "metadata": {},
   "outputs": [
    {
     "data": {
      "text/html": [
       "<div>\n",
       "<style scoped>\n",
       "    .dataframe tbody tr th:only-of-type {\n",
       "        vertical-align: middle;\n",
       "    }\n",
       "\n",
       "    .dataframe tbody tr th {\n",
       "        vertical-align: top;\n",
       "    }\n",
       "\n",
       "    .dataframe thead th {\n",
       "        text-align: right;\n",
       "    }\n",
       "</style>\n",
       "<table border=\"1\" class=\"dataframe\">\n",
       "  <thead>\n",
       "    <tr style=\"text-align: right;\">\n",
       "      <th></th>\n",
       "      <th>Unnamed: 0</th>\n",
       "      <th>Fp1</th>\n",
       "      <th>Fz</th>\n",
       "      <th>F3</th>\n",
       "      <th>F7</th>\n",
       "      <th>FT9</th>\n",
       "      <th>FC5</th>\n",
       "      <th>FC1</th>\n",
       "      <th>C3</th>\n",
       "      <th>T7</th>\n",
       "      <th>...</th>\n",
       "      <th>F6</th>\n",
       "      <th>F2</th>\n",
       "      <th>AF4</th>\n",
       "      <th>AF8</th>\n",
       "      <th>TP9</th>\n",
       "      <th>TP10</th>\n",
       "      <th>Cz</th>\n",
       "      <th>target</th>\n",
       "      <th>rt</th>\n",
       "      <th>trial</th>\n",
       "    </tr>\n",
       "  </thead>\n",
       "  <tbody>\n",
       "    <tr>\n",
       "      <th>0</th>\n",
       "      <td>0</td>\n",
       "      <td>0.000120</td>\n",
       "      <td>0.000249</td>\n",
       "      <td>0.000266</td>\n",
       "      <td>0.000320</td>\n",
       "      <td>0.000147</td>\n",
       "      <td>0.000192</td>\n",
       "      <td>0.000142</td>\n",
       "      <td>0.000087</td>\n",
       "      <td>0.000244</td>\n",
       "      <td>...</td>\n",
       "      <td>0.000184</td>\n",
       "      <td>0.000185</td>\n",
       "      <td>0.000222</td>\n",
       "      <td>0.000307</td>\n",
       "      <td>0.000193</td>\n",
       "      <td>0.000245</td>\n",
       "      <td>0.000213</td>\n",
       "      <td>3</td>\n",
       "      <td>0.520900</td>\n",
       "      <td>1</td>\n",
       "    </tr>\n",
       "    <tr>\n",
       "      <th>1</th>\n",
       "      <td>1</td>\n",
       "      <td>0.000077</td>\n",
       "      <td>0.000254</td>\n",
       "      <td>0.000188</td>\n",
       "      <td>0.000246</td>\n",
       "      <td>0.000135</td>\n",
       "      <td>0.000126</td>\n",
       "      <td>0.000168</td>\n",
       "      <td>0.000092</td>\n",
       "      <td>0.000197</td>\n",
       "      <td>...</td>\n",
       "      <td>0.000256</td>\n",
       "      <td>0.000282</td>\n",
       "      <td>0.000277</td>\n",
       "      <td>0.000299</td>\n",
       "      <td>0.000232</td>\n",
       "      <td>0.000291</td>\n",
       "      <td>0.000190</td>\n",
       "      <td>3</td>\n",
       "      <td>0.496360</td>\n",
       "      <td>2</td>\n",
       "    </tr>\n",
       "    <tr>\n",
       "      <th>2</th>\n",
       "      <td>2</td>\n",
       "      <td>0.000110</td>\n",
       "      <td>0.000139</td>\n",
       "      <td>0.000242</td>\n",
       "      <td>0.000183</td>\n",
       "      <td>0.000104</td>\n",
       "      <td>0.000101</td>\n",
       "      <td>0.000180</td>\n",
       "      <td>0.000082</td>\n",
       "      <td>0.000126</td>\n",
       "      <td>...</td>\n",
       "      <td>0.000230</td>\n",
       "      <td>0.000304</td>\n",
       "      <td>0.000249</td>\n",
       "      <td>0.000423</td>\n",
       "      <td>0.000222</td>\n",
       "      <td>0.000193</td>\n",
       "      <td>0.000248</td>\n",
       "      <td>3</td>\n",
       "      <td>0.559581</td>\n",
       "      <td>3</td>\n",
       "    </tr>\n",
       "    <tr>\n",
       "      <th>3</th>\n",
       "      <td>3</td>\n",
       "      <td>0.000166</td>\n",
       "      <td>0.000274</td>\n",
       "      <td>0.000200</td>\n",
       "      <td>0.000235</td>\n",
       "      <td>0.000139</td>\n",
       "      <td>0.000087</td>\n",
       "      <td>0.000107</td>\n",
       "      <td>0.000096</td>\n",
       "      <td>0.000152</td>\n",
       "      <td>...</td>\n",
       "      <td>0.000290</td>\n",
       "      <td>0.000294</td>\n",
       "      <td>0.000244</td>\n",
       "      <td>0.000594</td>\n",
       "      <td>0.000291</td>\n",
       "      <td>0.000264</td>\n",
       "      <td>0.000160</td>\n",
       "      <td>3</td>\n",
       "      <td>0.462914</td>\n",
       "      <td>4</td>\n",
       "    </tr>\n",
       "    <tr>\n",
       "      <th>4</th>\n",
       "      <td>4</td>\n",
       "      <td>0.000105</td>\n",
       "      <td>0.000187</td>\n",
       "      <td>0.000176</td>\n",
       "      <td>0.000260</td>\n",
       "      <td>0.000093</td>\n",
       "      <td>0.000105</td>\n",
       "      <td>0.000102</td>\n",
       "      <td>0.000060</td>\n",
       "      <td>0.000146</td>\n",
       "      <td>...</td>\n",
       "      <td>0.000327</td>\n",
       "      <td>0.000276</td>\n",
       "      <td>0.000220</td>\n",
       "      <td>0.000494</td>\n",
       "      <td>0.000238</td>\n",
       "      <td>0.000189</td>\n",
       "      <td>0.000136</td>\n",
       "      <td>3</td>\n",
       "      <td>0.514266</td>\n",
       "      <td>5</td>\n",
       "    </tr>\n",
       "  </tbody>\n",
       "</table>\n",
       "<p>5 rows × 68 columns</p>\n",
       "</div>"
      ],
      "text/plain": [
       "   Unnamed: 0       Fp1        Fz        F3        F7       FT9       FC5  \\\n",
       "0           0  0.000120  0.000249  0.000266  0.000320  0.000147  0.000192   \n",
       "1           1  0.000077  0.000254  0.000188  0.000246  0.000135  0.000126   \n",
       "2           2  0.000110  0.000139  0.000242  0.000183  0.000104  0.000101   \n",
       "3           3  0.000166  0.000274  0.000200  0.000235  0.000139  0.000087   \n",
       "4           4  0.000105  0.000187  0.000176  0.000260  0.000093  0.000105   \n",
       "\n",
       "        FC1        C3        T7  ...        F6        F2       AF4       AF8  \\\n",
       "0  0.000142  0.000087  0.000244  ...  0.000184  0.000185  0.000222  0.000307   \n",
       "1  0.000168  0.000092  0.000197  ...  0.000256  0.000282  0.000277  0.000299   \n",
       "2  0.000180  0.000082  0.000126  ...  0.000230  0.000304  0.000249  0.000423   \n",
       "3  0.000107  0.000096  0.000152  ...  0.000290  0.000294  0.000244  0.000594   \n",
       "4  0.000102  0.000060  0.000146  ...  0.000327  0.000276  0.000220  0.000494   \n",
       "\n",
       "        TP9      TP10        Cz  target        rt  trial  \n",
       "0  0.000193  0.000245  0.000213       3  0.520900      1  \n",
       "1  0.000232  0.000291  0.000190       3  0.496360      2  \n",
       "2  0.000222  0.000193  0.000248       3  0.559581      3  \n",
       "3  0.000291  0.000264  0.000160       3  0.462914      4  \n",
       "4  0.000238  0.000189  0.000136       3  0.514266      5  \n",
       "\n",
       "[5 rows x 68 columns]"
      ]
     },
     "execution_count": 39,
     "metadata": {},
     "output_type": "execute_result"
    }
   ],
   "source": [
    "os.chdir(\"C:/Users/HP pavilion X360/Desktop/OSDA/big_homework/\")\n",
    "data = pd.read_csv('sternberg_diff_data.csv')\n",
    "data.head()"
   ]
  },
  {
   "cell_type": "code",
   "execution_count": null,
   "id": "b267111c-3b7c-49d5-b403-7b02f3eb921f",
   "metadata": {},
   "outputs": [],
   "source": []
  },
  {
   "cell_type": "code",
   "execution_count": 40,
   "id": "6c94b0fa",
   "metadata": {},
   "outputs": [],
   "source": [
    "data_3 = data[data.target == 3][:len(data[data.target ==15])]\n",
    "data_3_15 = pd.concat([data_3, data[data.target ==15]], axis = 0)"
   ]
  },
  {
   "cell_type": "code",
   "execution_count": 41,
   "id": "49505fac",
   "metadata": {},
   "outputs": [],
   "source": [
    "y = data_3_15['target']\n",
    "y = 1*(y==15).values\n",
    "data_3_15.drop(['Unnamed: 0', 'target', 'trial'], axis = 1, inplace = True)\n",
    "X = data_3_15"
   ]
  },
  {
   "cell_type": "code",
   "execution_count": 42,
   "id": "14920681-9e68-4edf-b156-6f549a0f7218",
   "metadata": {},
   "outputs": [
    {
     "data": {
      "text/html": [
       "<div>\n",
       "<style scoped>\n",
       "    .dataframe tbody tr th:only-of-type {\n",
       "        vertical-align: middle;\n",
       "    }\n",
       "\n",
       "    .dataframe tbody tr th {\n",
       "        vertical-align: top;\n",
       "    }\n",
       "\n",
       "    .dataframe thead th {\n",
       "        text-align: right;\n",
       "    }\n",
       "</style>\n",
       "<table border=\"1\" class=\"dataframe\">\n",
       "  <thead>\n",
       "    <tr style=\"text-align: right;\">\n",
       "      <th></th>\n",
       "      <th>Fp1</th>\n",
       "      <th>Fz</th>\n",
       "      <th>F3</th>\n",
       "      <th>F7</th>\n",
       "      <th>FT9</th>\n",
       "      <th>FC5</th>\n",
       "      <th>FC1</th>\n",
       "      <th>C3</th>\n",
       "      <th>T7</th>\n",
       "      <th>CP5</th>\n",
       "      <th>...</th>\n",
       "      <th>FC4</th>\n",
       "      <th>FT8</th>\n",
       "      <th>F6</th>\n",
       "      <th>F2</th>\n",
       "      <th>AF4</th>\n",
       "      <th>AF8</th>\n",
       "      <th>TP9</th>\n",
       "      <th>TP10</th>\n",
       "      <th>Cz</th>\n",
       "      <th>rt</th>\n",
       "    </tr>\n",
       "  </thead>\n",
       "  <tbody>\n",
       "    <tr>\n",
       "      <th>0</th>\n",
       "      <td>0.000120</td>\n",
       "      <td>0.000249</td>\n",
       "      <td>0.000266</td>\n",
       "      <td>0.000320</td>\n",
       "      <td>0.000147</td>\n",
       "      <td>0.000192</td>\n",
       "      <td>0.000142</td>\n",
       "      <td>0.000087</td>\n",
       "      <td>0.000244</td>\n",
       "      <td>0.000116</td>\n",
       "      <td>...</td>\n",
       "      <td>0.000226</td>\n",
       "      <td>0.000054</td>\n",
       "      <td>0.000184</td>\n",
       "      <td>0.000185</td>\n",
       "      <td>0.000222</td>\n",
       "      <td>0.000307</td>\n",
       "      <td>0.000193</td>\n",
       "      <td>0.000245</td>\n",
       "      <td>0.000213</td>\n",
       "      <td>0.520900</td>\n",
       "    </tr>\n",
       "    <tr>\n",
       "      <th>1</th>\n",
       "      <td>0.000077</td>\n",
       "      <td>0.000254</td>\n",
       "      <td>0.000188</td>\n",
       "      <td>0.000246</td>\n",
       "      <td>0.000135</td>\n",
       "      <td>0.000126</td>\n",
       "      <td>0.000168</td>\n",
       "      <td>0.000092</td>\n",
       "      <td>0.000197</td>\n",
       "      <td>0.000109</td>\n",
       "      <td>...</td>\n",
       "      <td>0.000144</td>\n",
       "      <td>0.000152</td>\n",
       "      <td>0.000256</td>\n",
       "      <td>0.000282</td>\n",
       "      <td>0.000277</td>\n",
       "      <td>0.000299</td>\n",
       "      <td>0.000232</td>\n",
       "      <td>0.000291</td>\n",
       "      <td>0.000190</td>\n",
       "      <td>0.496360</td>\n",
       "    </tr>\n",
       "    <tr>\n",
       "      <th>2</th>\n",
       "      <td>0.000110</td>\n",
       "      <td>0.000139</td>\n",
       "      <td>0.000242</td>\n",
       "      <td>0.000183</td>\n",
       "      <td>0.000104</td>\n",
       "      <td>0.000101</td>\n",
       "      <td>0.000180</td>\n",
       "      <td>0.000082</td>\n",
       "      <td>0.000126</td>\n",
       "      <td>0.000086</td>\n",
       "      <td>...</td>\n",
       "      <td>0.000224</td>\n",
       "      <td>0.000130</td>\n",
       "      <td>0.000230</td>\n",
       "      <td>0.000304</td>\n",
       "      <td>0.000249</td>\n",
       "      <td>0.000423</td>\n",
       "      <td>0.000222</td>\n",
       "      <td>0.000193</td>\n",
       "      <td>0.000248</td>\n",
       "      <td>0.559581</td>\n",
       "    </tr>\n",
       "    <tr>\n",
       "      <th>3</th>\n",
       "      <td>0.000166</td>\n",
       "      <td>0.000274</td>\n",
       "      <td>0.000200</td>\n",
       "      <td>0.000235</td>\n",
       "      <td>0.000139</td>\n",
       "      <td>0.000087</td>\n",
       "      <td>0.000107</td>\n",
       "      <td>0.000096</td>\n",
       "      <td>0.000152</td>\n",
       "      <td>0.000086</td>\n",
       "      <td>...</td>\n",
       "      <td>0.000192</td>\n",
       "      <td>0.000084</td>\n",
       "      <td>0.000290</td>\n",
       "      <td>0.000294</td>\n",
       "      <td>0.000244</td>\n",
       "      <td>0.000594</td>\n",
       "      <td>0.000291</td>\n",
       "      <td>0.000264</td>\n",
       "      <td>0.000160</td>\n",
       "      <td>0.462914</td>\n",
       "    </tr>\n",
       "    <tr>\n",
       "      <th>4</th>\n",
       "      <td>0.000105</td>\n",
       "      <td>0.000187</td>\n",
       "      <td>0.000176</td>\n",
       "      <td>0.000260</td>\n",
       "      <td>0.000093</td>\n",
       "      <td>0.000105</td>\n",
       "      <td>0.000102</td>\n",
       "      <td>0.000060</td>\n",
       "      <td>0.000146</td>\n",
       "      <td>0.000107</td>\n",
       "      <td>...</td>\n",
       "      <td>0.000284</td>\n",
       "      <td>0.000105</td>\n",
       "      <td>0.000327</td>\n",
       "      <td>0.000276</td>\n",
       "      <td>0.000220</td>\n",
       "      <td>0.000494</td>\n",
       "      <td>0.000238</td>\n",
       "      <td>0.000189</td>\n",
       "      <td>0.000136</td>\n",
       "      <td>0.514266</td>\n",
       "    </tr>\n",
       "    <tr>\n",
       "      <th>...</th>\n",
       "      <td>...</td>\n",
       "      <td>...</td>\n",
       "      <td>...</td>\n",
       "      <td>...</td>\n",
       "      <td>...</td>\n",
       "      <td>...</td>\n",
       "      <td>...</td>\n",
       "      <td>...</td>\n",
       "      <td>...</td>\n",
       "      <td>...</td>\n",
       "      <td>...</td>\n",
       "      <td>...</td>\n",
       "      <td>...</td>\n",
       "      <td>...</td>\n",
       "      <td>...</td>\n",
       "      <td>...</td>\n",
       "      <td>...</td>\n",
       "      <td>...</td>\n",
       "      <td>...</td>\n",
       "      <td>...</td>\n",
       "      <td>...</td>\n",
       "    </tr>\n",
       "    <tr>\n",
       "      <th>2607</th>\n",
       "      <td>0.000396</td>\n",
       "      <td>0.000332</td>\n",
       "      <td>0.000373</td>\n",
       "      <td>0.000160</td>\n",
       "      <td>0.000127</td>\n",
       "      <td>0.000066</td>\n",
       "      <td>0.000146</td>\n",
       "      <td>0.000117</td>\n",
       "      <td>0.000169</td>\n",
       "      <td>0.000170</td>\n",
       "      <td>...</td>\n",
       "      <td>0.000125</td>\n",
       "      <td>0.000066</td>\n",
       "      <td>0.000046</td>\n",
       "      <td>0.000074</td>\n",
       "      <td>0.000097</td>\n",
       "      <td>0.000081</td>\n",
       "      <td>0.000157</td>\n",
       "      <td>0.000106</td>\n",
       "      <td>0.000279</td>\n",
       "      <td>0.601645</td>\n",
       "    </tr>\n",
       "    <tr>\n",
       "      <th>2608</th>\n",
       "      <td>0.000532</td>\n",
       "      <td>0.000341</td>\n",
       "      <td>0.000357</td>\n",
       "      <td>0.000161</td>\n",
       "      <td>0.000146</td>\n",
       "      <td>0.000065</td>\n",
       "      <td>0.000164</td>\n",
       "      <td>0.000091</td>\n",
       "      <td>0.000161</td>\n",
       "      <td>0.000173</td>\n",
       "      <td>...</td>\n",
       "      <td>0.000153</td>\n",
       "      <td>0.000073</td>\n",
       "      <td>0.000059</td>\n",
       "      <td>0.000082</td>\n",
       "      <td>0.000078</td>\n",
       "      <td>0.000084</td>\n",
       "      <td>0.000188</td>\n",
       "      <td>0.000089</td>\n",
       "      <td>0.000283</td>\n",
       "      <td>1.384813</td>\n",
       "    </tr>\n",
       "    <tr>\n",
       "      <th>2609</th>\n",
       "      <td>0.000206</td>\n",
       "      <td>0.000229</td>\n",
       "      <td>0.000160</td>\n",
       "      <td>0.000142</td>\n",
       "      <td>0.000110</td>\n",
       "      <td>0.000070</td>\n",
       "      <td>0.000131</td>\n",
       "      <td>0.000090</td>\n",
       "      <td>0.000163</td>\n",
       "      <td>0.000155</td>\n",
       "      <td>...</td>\n",
       "      <td>0.000138</td>\n",
       "      <td>0.000062</td>\n",
       "      <td>0.000055</td>\n",
       "      <td>0.000072</td>\n",
       "      <td>0.000077</td>\n",
       "      <td>0.000064</td>\n",
       "      <td>0.000151</td>\n",
       "      <td>0.000095</td>\n",
       "      <td>0.000219</td>\n",
       "      <td>1.055940</td>\n",
       "    </tr>\n",
       "    <tr>\n",
       "      <th>2610</th>\n",
       "      <td>0.000251</td>\n",
       "      <td>0.000269</td>\n",
       "      <td>0.000233</td>\n",
       "      <td>0.000100</td>\n",
       "      <td>0.000085</td>\n",
       "      <td>0.000073</td>\n",
       "      <td>0.000144</td>\n",
       "      <td>0.000098</td>\n",
       "      <td>0.000141</td>\n",
       "      <td>0.000175</td>\n",
       "      <td>...</td>\n",
       "      <td>0.000119</td>\n",
       "      <td>0.000056</td>\n",
       "      <td>0.000054</td>\n",
       "      <td>0.000081</td>\n",
       "      <td>0.000088</td>\n",
       "      <td>0.000059</td>\n",
       "      <td>0.000148</td>\n",
       "      <td>0.000096</td>\n",
       "      <td>0.000248</td>\n",
       "      <td>0.856253</td>\n",
       "    </tr>\n",
       "    <tr>\n",
       "      <th>2611</th>\n",
       "      <td>0.000246</td>\n",
       "      <td>0.000300</td>\n",
       "      <td>0.000190</td>\n",
       "      <td>0.000146</td>\n",
       "      <td>0.000113</td>\n",
       "      <td>0.000075</td>\n",
       "      <td>0.000200</td>\n",
       "      <td>0.000079</td>\n",
       "      <td>0.000145</td>\n",
       "      <td>0.000126</td>\n",
       "      <td>...</td>\n",
       "      <td>0.000141</td>\n",
       "      <td>0.000067</td>\n",
       "      <td>0.000043</td>\n",
       "      <td>0.000089</td>\n",
       "      <td>0.000098</td>\n",
       "      <td>0.000067</td>\n",
       "      <td>0.000227</td>\n",
       "      <td>0.000090</td>\n",
       "      <td>0.000405</td>\n",
       "      <td>0.968944</td>\n",
       "    </tr>\n",
       "  </tbody>\n",
       "</table>\n",
       "<p>1988 rows × 65 columns</p>\n",
       "</div>"
      ],
      "text/plain": [
       "           Fp1        Fz        F3        F7       FT9       FC5       FC1  \\\n",
       "0     0.000120  0.000249  0.000266  0.000320  0.000147  0.000192  0.000142   \n",
       "1     0.000077  0.000254  0.000188  0.000246  0.000135  0.000126  0.000168   \n",
       "2     0.000110  0.000139  0.000242  0.000183  0.000104  0.000101  0.000180   \n",
       "3     0.000166  0.000274  0.000200  0.000235  0.000139  0.000087  0.000107   \n",
       "4     0.000105  0.000187  0.000176  0.000260  0.000093  0.000105  0.000102   \n",
       "...        ...       ...       ...       ...       ...       ...       ...   \n",
       "2607  0.000396  0.000332  0.000373  0.000160  0.000127  0.000066  0.000146   \n",
       "2608  0.000532  0.000341  0.000357  0.000161  0.000146  0.000065  0.000164   \n",
       "2609  0.000206  0.000229  0.000160  0.000142  0.000110  0.000070  0.000131   \n",
       "2610  0.000251  0.000269  0.000233  0.000100  0.000085  0.000073  0.000144   \n",
       "2611  0.000246  0.000300  0.000190  0.000146  0.000113  0.000075  0.000200   \n",
       "\n",
       "            C3        T7       CP5  ...       FC4       FT8        F6  \\\n",
       "0     0.000087  0.000244  0.000116  ...  0.000226  0.000054  0.000184   \n",
       "1     0.000092  0.000197  0.000109  ...  0.000144  0.000152  0.000256   \n",
       "2     0.000082  0.000126  0.000086  ...  0.000224  0.000130  0.000230   \n",
       "3     0.000096  0.000152  0.000086  ...  0.000192  0.000084  0.000290   \n",
       "4     0.000060  0.000146  0.000107  ...  0.000284  0.000105  0.000327   \n",
       "...        ...       ...       ...  ...       ...       ...       ...   \n",
       "2607  0.000117  0.000169  0.000170  ...  0.000125  0.000066  0.000046   \n",
       "2608  0.000091  0.000161  0.000173  ...  0.000153  0.000073  0.000059   \n",
       "2609  0.000090  0.000163  0.000155  ...  0.000138  0.000062  0.000055   \n",
       "2610  0.000098  0.000141  0.000175  ...  0.000119  0.000056  0.000054   \n",
       "2611  0.000079  0.000145  0.000126  ...  0.000141  0.000067  0.000043   \n",
       "\n",
       "            F2       AF4       AF8       TP9      TP10        Cz        rt  \n",
       "0     0.000185  0.000222  0.000307  0.000193  0.000245  0.000213  0.520900  \n",
       "1     0.000282  0.000277  0.000299  0.000232  0.000291  0.000190  0.496360  \n",
       "2     0.000304  0.000249  0.000423  0.000222  0.000193  0.000248  0.559581  \n",
       "3     0.000294  0.000244  0.000594  0.000291  0.000264  0.000160  0.462914  \n",
       "4     0.000276  0.000220  0.000494  0.000238  0.000189  0.000136  0.514266  \n",
       "...        ...       ...       ...       ...       ...       ...       ...  \n",
       "2607  0.000074  0.000097  0.000081  0.000157  0.000106  0.000279  0.601645  \n",
       "2608  0.000082  0.000078  0.000084  0.000188  0.000089  0.000283  1.384813  \n",
       "2609  0.000072  0.000077  0.000064  0.000151  0.000095  0.000219  1.055940  \n",
       "2610  0.000081  0.000088  0.000059  0.000148  0.000096  0.000248  0.856253  \n",
       "2611  0.000089  0.000098  0.000067  0.000227  0.000090  0.000405  0.968944  \n",
       "\n",
       "[1988 rows x 65 columns]"
      ]
     },
     "execution_count": 42,
     "metadata": {},
     "output_type": "execute_result"
    }
   ],
   "source": [
    "X"
   ]
  },
  {
   "cell_type": "code",
   "execution_count": 43,
   "id": "ef921730-184f-465f-9e30-887ccd60588e",
   "metadata": {},
   "outputs": [],
   "source": [
    "# data_3_15.to_csv(\"stern_data_3_15.csv\")"
   ]
  },
  {
   "cell_type": "code",
   "execution_count": 44,
   "id": "b25b0d5a-c510-4693-bd82-17a3f4af0dca",
   "metadata": {},
   "outputs": [],
   "source": [
    "X_train, X_test, y_train, y_test = train_test_split(np.array(X), y, test_size = 0.3)"
   ]
  },
  {
   "cell_type": "code",
   "execution_count": 45,
   "id": "12465201-04f9-4861-97ed-8a8a57a6b4f9",
   "metadata": {},
   "outputs": [],
   "source": [
    "stsc = StandardScaler()\n",
    "stsc.fit(X_train)\n",
    "train = pd.DataFrame(stsc.transform(X_train))\n",
    "test = pd.DataFrame(stsc.transform(X_test))"
   ]
  },
  {
   "cell_type": "code",
   "execution_count": 46,
   "id": "a2fbe7eb-922f-4cb7-b00d-27da17855537",
   "metadata": {},
   "outputs": [],
   "source": [
    "kbins = KBinsDiscretizer(n_bins=4, encode='ordinal', strategy='quantile', subsample=None).fit(train)\n",
    "new_train = pd.DataFrame(kbins.transform(train), columns = X.columns)\n",
    "new_test = pd.DataFrame(kbins.transform(test), columns = X.columns)"
   ]
  },
  {
   "cell_type": "code",
   "execution_count": 47,
   "id": "3d46e77d-032c-4787-a5a7-cd02e010cfd7",
   "metadata": {},
   "outputs": [],
   "source": [
    "ohe = OneHotEncoder(drop = 'first').fit(new_train)\n",
    "ohe_train = ohe.transform(new_train)\n",
    "ohe_test = ohe.transform(new_test)"
   ]
  },
  {
   "cell_type": "code",
   "execution_count": 48,
   "id": "3cb97d59-cb35-4e84-9997-ae4feef8cf69",
   "metadata": {},
   "outputs": [
    {
     "data": {
      "text/plain": [
       "(1391, 195)"
      ]
     },
     "execution_count": 48,
     "metadata": {},
     "output_type": "execute_result"
    }
   ],
   "source": [
    "ohe_train.shape"
   ]
  },
  {
   "cell_type": "code",
   "execution_count": 49,
   "id": "fc76052b-2996-4c54-a1b3-0605eba17fa9",
   "metadata": {},
   "outputs": [],
   "source": [
    "columns = [i + ' ' + 'q' + str(j) for i in data_3_15.columns for j in [2,3,4]]"
   ]
  },
  {
   "cell_type": "code",
   "execution_count": 50,
   "id": "2d002967-fb1f-4d35-9922-505042ac643d",
   "metadata": {},
   "outputs": [
    {
     "data": {
      "text/plain": [
       "((1391, 195), (597, 195))"
      ]
     },
     "execution_count": 50,
     "metadata": {},
     "output_type": "execute_result"
    }
   ],
   "source": [
    "ohe_train.toarray().shape, ohe_test.toarray().shape"
   ]
  },
  {
   "cell_type": "code",
   "execution_count": 51,
   "id": "310643f4-67ff-4e25-868e-64785cbf6ed1",
   "metadata": {},
   "outputs": [
    {
     "data": {
      "image/png": "[encoded data removed]",
      "text/plain": [
       "<Figure size 640x480 with 1 Axes>"
      ]
     },
     "metadata": {},
     "output_type": "display_data"
    }
   ],
   "source": [
    "from skfeature.function.similarity_based import fisher_score\n",
    "import matplotlib.pyplot as plt\n",
    "\n",
    "# Вычисляем критерий\n",
    "# Где X, y - входные и выходные данные соответственно.\n",
    "ranks = fisher_score.fisher_score(ohe_train.toarray(), y_train)\n",
    "\n",
    "# Делаем график наших \"фич\"\n",
    "# Где data - ваш датасет\n",
    "feature_importances = pd.Series(ranks, columns)\n",
    "feature_importances.plot(kind='barh', color='teal')\n",
    "plt.show()"
   ]
  },
  {
   "cell_type": "code",
   "execution_count": 52,
   "id": "5b28b836-2089-42a9-9197-c388095d69c4",
   "metadata": {
    "scrolled": true
   },
   "outputs": [
    {
     "data": {
      "text/plain": [
       "AF4 q3    194\n",
       "C3 q2     193\n",
       "P8 q4     192\n",
       "AF8 q2    191\n",
       "C6 q3     190\n",
       "         ... \n",
       "F1 q2     105\n",
       "T8 q3     104\n",
       "F8 q2     103\n",
       "P6 q2     102\n",
       "P2 q3     101\n",
       "Length: 94, dtype: int32"
      ]
     },
     "execution_count": 52,
     "metadata": {},
     "output_type": "execute_result"
    }
   ],
   "source": [
    "(feature_importances[feature_importances > 100]).sort_values(ascending = False)"
   ]
  },
  {
   "cell_type": "code",
   "execution_count": 53,
   "id": "9cb7c27d-b0e5-421a-acba-4147edff63b6",
   "metadata": {},
   "outputs": [
    {
     "data": {
      "text/plain": [
       "(1391, 94)"
      ]
     },
     "execution_count": 53,
     "metadata": {},
     "output_type": "execute_result"
    }
   ],
   "source": [
    "ohe_train.toarray()[:, (feature_importances > 100).values].shape"
   ]
  },
  {
   "cell_type": "code",
   "execution_count": 54,
   "id": "5a6430c0",
   "metadata": {
    "scrolled": true
   },
   "outputs": [],
   "source": [
    "# train[train.columns[66:]]\n",
    "# train.columns[66:]\n"
   ]
  },
  {
   "cell_type": "code",
   "execution_count": 37,
   "id": "546fdbdf",
   "metadata": {},
   "outputs": [],
   "source": [
    "# one_hot_encoded_data = pd.get_dummies(train, columns = df.columns[66:])\n",
    "# one_hot_encoded_data\n",
    "# one_hot_encoded_data['target'] = list(y)\n",
    "# one_hot_encoded_data\n",
    "# one_hot_encoded_data.to_csv('one_hot_encoded_sternberg_data.csv')"
   ]
  },
  {
   "cell_type": "code",
   "execution_count": 55,
   "id": "c8e1b0ac",
   "metadata": {},
   "outputs": [],
   "source": [
    "ohe_train_sel = ohe_train[:, feature_importances>100].toarray().astype(int)\n",
    "ohe_test_sel = ohe_test[:, feature_importances>100].toarray().astype(int)"
   ]
  },
  {
   "cell_type": "markdown",
   "id": "96581f4f",
   "metadata": {},
   "source": [
    "## 1. KNN"
   ]
  },
  {
   "cell_type": "code",
   "execution_count": 56,
   "id": "cae4fc38",
   "metadata": {},
   "outputs": [
    {
     "name": "stdout",
     "output_type": "stream",
     "text": [
      "Best params: {'metric': 'euclidean', 'n_neighbors': 12, 'weights': 'distance'}\n"
     ]
    },
    {
     "data": {
      "text/plain": [
       "<Axes: >"
      ]
     },
     "execution_count": 56,
     "metadata": {},
     "output_type": "execute_result"
    },
    {
     "data": {
      "image/png": "[encoded data removed]",
      "text/plain": [
       "<Figure size 640x480 with 2 Axes>"
      ]
     },
     "metadata": {},
     "output_type": "display_data"
    }
   ],
   "source": [
    "# X_train, X_test, y_train, y_test = train_test_split(np.array(X), y*1, test_size = 0.3)\n",
    "\n",
    "knn = KNeighborsClassifier()\n",
    "parameters = {'n_neighbors':np.arange(1, 30, 1), 'metric': ('euclidean', 'manhattan'),\n",
    "             'weights':('uniform', 'distance')}\n",
    "grid = GridSearchCV(knn, parameters, cv = 4)\n",
    "\n",
    "grid.fit(ohe_train_sel, y_train)\n",
    "print(f'Best params: {grid.best_params_}')\n",
    "knn_pred = KNeighborsClassifier(metric = grid.best_params_['metric'], n_neighbors = grid.best_params_['n_neighbors'],\n",
    "                               weights = grid.best_params_['weights'])\n",
    "knn_pred.fit(ohe_train_sel, y_train)\n",
    "\n",
    "y_pred = knn_pred.predict(ohe_test_sel)\n",
    "\n",
    "contingency_matrix = metrics.cluster.contingency_matrix(y_pred,\n",
    "                                                      y_test)\n",
    "snx.heatmap(contingency_matrix, annot = True, fmt='')"
   ]
  },
  {
   "cell_type": "code",
   "execution_count": 57,
   "id": "7b27cee6",
   "metadata": {},
   "outputs": [
    {
     "name": "stdout",
     "output_type": "stream",
     "text": [
      "Accuracy: 0.6683417085427136\n",
      "precision: 0.6509090909090909\n",
      "recall: 0.6370106761565836\n",
      "f1: 0.6438848920863308\n"
     ]
    }
   ],
   "source": [
    "print(f'Accuracy: {metrics.accuracy_score(y_pred = y_pred, y_true = y_test)}')\n",
    "print(f'precision: {metrics.precision_score(y_pred = y_pred, y_true = y_test)}')\n",
    "print(f'recall: {metrics.recall_score(y_pred = y_pred, y_true = y_test)}')\n",
    "print(f'f1: {metrics.f1_score(y_pred = y_pred, y_true = y_test)}')"
   ]
  },
  {
   "cell_type": "markdown",
   "id": "18bbafa0",
   "metadata": {},
   "source": [
    "## 2. Logistic Regression"
   ]
  },
  {
   "cell_type": "code",
   "execution_count": 58,
   "id": "e9ae7e08",
   "metadata": {
    "scrolled": true
   },
   "outputs": [
    {
     "name": "stdout",
     "output_type": "stream",
     "text": [
      "Best params: {'C': 1.1, 'class_weight': 'balanced', 'penalty': 'l2', 'solver': 'saga'}\n"
     ]
    },
    {
     "data": {
      "text/plain": [
       "<Axes: >"
      ]
     },
     "execution_count": 58,
     "metadata": {},
     "output_type": "execute_result"
    },
    {
     "data": {
      "image/png": "[encoded data removed]",
      "text/plain": [
       "<Figure size 640x480 with 2 Axes>"
      ]
     },
     "metadata": {},
     "output_type": "display_data"
    }
   ],
   "source": [
    "lr = LogisticRegression(max_iter = 10000, random_state = 42)\n",
    "parameters = {'C':np.arange(0.1, 10, 1), 'penalty': ('l2', 'l1'),\n",
    "             'class_weight': ['balanced'],\n",
    "             'solver' : ['saga', 'liblinear']}\n",
    "grid = GridSearchCV(lr, parameters, cv = 4, n_jobs = -2)\n",
    "\n",
    "grid.fit(ohe_train_sel, y_train)\n",
    "print(f'Best params: {grid.best_params_}')\n",
    "    \n",
    "lr_pred = LogisticRegression(C = grid.best_params_['C'], penalty = grid.best_params_['penalty'],\n",
    "                               class_weight = grid.best_params_['class_weight'],\n",
    "                            solver = grid.best_params_['solver'])\n",
    "lr_pred.fit(ohe_train_sel, y_train)\n",
    "\n",
    "y_pred = lr_pred.predict(ohe_test_sel)\n",
    "\n",
    "contingency_matrix = metrics.cluster.contingency_matrix(y_pred,\n",
    "                                                      y_test)\n",
    "snx.heatmap(contingency_matrix, annot = True, fmt='')"
   ]
  },
  {
   "cell_type": "code",
   "execution_count": null,
   "id": "571de7e6-3ad5-4bf7-b8cd-f6e5c201bf24",
   "metadata": {},
   "outputs": [],
   "source": []
  },
  {
   "cell_type": "code",
   "execution_count": 38,
   "id": "817eecf1-9be8-47d3-af2b-5757dcc44539",
   "metadata": {},
   "outputs": [],
   "source": [
    "# bfs = SequentialFeatureSelector(lr_pred, k_features='best', forward = False, n_jobs=-1)\n",
    "# bfs.fit(ohe_train.toarray(), y_train)\n",
    "# features = list(bfs.k_feature_names_)\n",
    "# features = list(map(int, features))\n",
    "# lr_pred.fit(ohe_train.toarray()[:, features], y_train)\n",
    "# y_pred = lr_pred.predict(ohe_test.toarray()[:, features])"
   ]
  },
  {
   "cell_type": "code",
   "execution_count": 40,
   "id": "0d6de3dc-b73a-4865-8391-7f42569dfcfb",
   "metadata": {},
   "outputs": [],
   "source": [
    "# ohe_train.toarray()[:, features].shape"
   ]
  },
  {
   "cell_type": "code",
   "execution_count": 43,
   "id": "e2eb6765-7378-4dbc-a381-45e55bdf4b19",
   "metadata": {},
   "outputs": [],
   "source": [
    "# lr.fit(ohe_train[:, feature_importances>100], y_train)\n",
    "# y_pred = lr.predict(ohe_train[:, feature_importances>100])"
   ]
  },
  {
   "cell_type": "code",
   "execution_count": 59,
   "id": "7906136e",
   "metadata": {},
   "outputs": [
    {
     "name": "stdout",
     "output_type": "stream",
     "text": [
      "Logistic Regression accuracy: 0.6381909547738693\n",
      "Logistic Regression precision: 0.6116838487972509\n",
      "Logistic Regression recall: 0.6334519572953736\n",
      "Logistic Regression f1: 0.6223776223776224\n"
     ]
    }
   ],
   "source": [
    "print(f'Logistic Regression accuracy: {metrics.accuracy_score(y_test, y_pred)}')\n",
    "print(f'Logistic Regression precision: {metrics.precision_score(y_test, y_pred)}')\n",
    "print(f'Logistic Regression recall: {metrics.recall_score(y_test, y_pred)}')\n",
    "print(f'Logistic Regression f1: {f1_score(y_test, y_pred)}')"
   ]
  },
  {
   "cell_type": "code",
   "execution_count": null,
   "id": "038e8a2c-ebfc-49b1-a284-0c7e16ed0282",
   "metadata": {},
   "outputs": [],
   "source": []
  },
  {
   "cell_type": "code",
   "execution_count": null,
   "id": "500fc69b-14ef-41cd-86c5-d45d345d01f7",
   "metadata": {},
   "outputs": [],
   "source": []
  },
  {
   "cell_type": "markdown",
   "id": "2dd4021b",
   "metadata": {},
   "source": [
    "## 3.a XGBoost"
   ]
  },
  {
   "cell_type": "code",
   "execution_count": 60,
   "id": "c1da2559",
   "metadata": {},
   "outputs": [
    {
     "data": {
      "text/html": [
       "<div>\n",
       "<style scoped>\n",
       "    .dataframe tbody tr th:only-of-type {\n",
       "        vertical-align: middle;\n",
       "    }\n",
       "\n",
       "    .dataframe tbody tr th {\n",
       "        vertical-align: top;\n",
       "    }\n",
       "\n",
       "    .dataframe thead th {\n",
       "        text-align: right;\n",
       "    }\n",
       "</style>\n",
       "<table border=\"1\" class=\"dataframe\">\n",
       "  <thead>\n",
       "    <tr style=\"text-align: right;\">\n",
       "      <th></th>\n",
       "      <th>train-logloss-mean</th>\n",
       "      <th>train-logloss-std</th>\n",
       "      <th>test-logloss-mean</th>\n",
       "      <th>test-logloss-std</th>\n",
       "    </tr>\n",
       "  </thead>\n",
       "  <tbody>\n",
       "    <tr>\n",
       "      <th>0</th>\n",
       "      <td>0.691704</td>\n",
       "      <td>0.000627</td>\n",
       "      <td>0.693208</td>\n",
       "      <td>0.002089</td>\n",
       "    </tr>\n",
       "    <tr>\n",
       "      <th>1</th>\n",
       "      <td>0.690616</td>\n",
       "      <td>0.000645</td>\n",
       "      <td>0.692538</td>\n",
       "      <td>0.002147</td>\n",
       "    </tr>\n",
       "    <tr>\n",
       "      <th>2</th>\n",
       "      <td>0.689490</td>\n",
       "      <td>0.000659</td>\n",
       "      <td>0.691850</td>\n",
       "      <td>0.002329</td>\n",
       "    </tr>\n",
       "    <tr>\n",
       "      <th>3</th>\n",
       "      <td>0.688585</td>\n",
       "      <td>0.000578</td>\n",
       "      <td>0.691065</td>\n",
       "      <td>0.002571</td>\n",
       "    </tr>\n",
       "    <tr>\n",
       "      <th>4</th>\n",
       "      <td>0.687647</td>\n",
       "      <td>0.000499</td>\n",
       "      <td>0.690443</td>\n",
       "      <td>0.002401</td>\n",
       "    </tr>\n",
       "    <tr>\n",
       "      <th>5</th>\n",
       "      <td>0.687119</td>\n",
       "      <td>0.000533</td>\n",
       "      <td>0.690140</td>\n",
       "      <td>0.002505</td>\n",
       "    </tr>\n",
       "    <tr>\n",
       "      <th>6</th>\n",
       "      <td>0.686073</td>\n",
       "      <td>0.000565</td>\n",
       "      <td>0.689313</td>\n",
       "      <td>0.002340</td>\n",
       "    </tr>\n",
       "    <tr>\n",
       "      <th>7</th>\n",
       "      <td>0.685154</td>\n",
       "      <td>0.000595</td>\n",
       "      <td>0.688666</td>\n",
       "      <td>0.002491</td>\n",
       "    </tr>\n",
       "    <tr>\n",
       "      <th>8</th>\n",
       "      <td>0.684252</td>\n",
       "      <td>0.000761</td>\n",
       "      <td>0.688102</td>\n",
       "      <td>0.002257</td>\n",
       "    </tr>\n",
       "    <tr>\n",
       "      <th>9</th>\n",
       "      <td>0.683607</td>\n",
       "      <td>0.000706</td>\n",
       "      <td>0.687780</td>\n",
       "      <td>0.002516</td>\n",
       "    </tr>\n",
       "  </tbody>\n",
       "</table>\n",
       "</div>"
      ],
      "text/plain": [
       "   train-logloss-mean  train-logloss-std  test-logloss-mean  test-logloss-std\n",
       "0            0.691704           0.000627           0.693208          0.002089\n",
       "1            0.690616           0.000645           0.692538          0.002147\n",
       "2            0.689490           0.000659           0.691850          0.002329\n",
       "3            0.688585           0.000578           0.691065          0.002571\n",
       "4            0.687647           0.000499           0.690443          0.002401\n",
       "5            0.687119           0.000533           0.690140          0.002505\n",
       "6            0.686073           0.000565           0.689313          0.002340\n",
       "7            0.685154           0.000595           0.688666          0.002491\n",
       "8            0.684252           0.000761           0.688102          0.002257\n",
       "9            0.683607           0.000706           0.687780          0.002516"
      ]
     },
     "execution_count": 60,
     "metadata": {},
     "output_type": "execute_result"
    }
   ],
   "source": [
    "import pandas as pd\n",
    "import numpy as np\n",
    "import xgboost as xgb\n",
    "from sklearn.model_selection import train_test_split\n",
    "from sklearn.datasets import make_classification\n",
    "\n",
    "# X, y = make_classification(n_samples=500,class_sep=0.7)\n",
    "\n",
    "data_dmatrix = xgb.DMatrix(data=ohe_train_sel,label=pd.DataFrame(y_train))\n",
    "params = {'objective':'binary:logistic','eval_metric':'logloss',\n",
    "          'eta':0.01,\n",
    "          'subsample':0.1}\n",
    "xgb_cv = xgb.cv(dtrain=data_dmatrix, params=params, nfold=5, metrics = 'logloss',seed=42) \n",
    "xgb_cv"
   ]
  },
  {
   "cell_type": "code",
   "execution_count": 61,
   "id": "b0b3c0b7",
   "metadata": {},
   "outputs": [],
   "source": [
    "grid = pd.DataFrame({'eta':[0.01,0.05,0.1]*3,\n",
    "'subsample':np.repeat([0.1,0.3, .5],3)})"
   ]
  },
  {
   "cell_type": "code",
   "execution_count": 62,
   "id": "d7a38bd0",
   "metadata": {
    "scrolled": true
   },
   "outputs": [
    {
     "name": "stderr",
     "output_type": "stream",
     "text": [
      "C:\\Users\\HP pavilion X360\\AppData\\Local\\Temp\\ipykernel_9600\\1369616048.py:4: FutureWarning: Series.__getitem__ treating keys as positions is deprecated. In a future version, integer keys will always be treated as labels (consistent with DataFrame behavior). To access a value by position, use `ser.iloc[pos]`\n",
      "  'eta':x[0],\n",
      "C:\\Users\\HP pavilion X360\\AppData\\Local\\Temp\\ipykernel_9600\\1369616048.py:5: FutureWarning: Series.__getitem__ treating keys as positions is deprecated. In a future version, integer keys will always be treated as labels (consistent with DataFrame behavior). To access a value by position, use `ser.iloc[pos]`\n",
      "  'subsample':x[1]}\n"
     ]
    },
    {
     "data": {
      "text/html": [
       "<div>\n",
       "<style scoped>\n",
       "    .dataframe tbody tr th:only-of-type {\n",
       "        vertical-align: middle;\n",
       "    }\n",
       "\n",
       "    .dataframe tbody tr th {\n",
       "        vertical-align: top;\n",
       "    }\n",
       "\n",
       "    .dataframe thead th {\n",
       "        text-align: right;\n",
       "    }\n",
       "</style>\n",
       "<table border=\"1\" class=\"dataframe\">\n",
       "  <thead>\n",
       "    <tr style=\"text-align: right;\">\n",
       "      <th></th>\n",
       "      <th>eta</th>\n",
       "      <th>subsample</th>\n",
       "      <th>train-logloss-mean</th>\n",
       "      <th>train-logloss-std</th>\n",
       "      <th>test-logloss-mean</th>\n",
       "      <th>test-logloss-std</th>\n",
       "    </tr>\n",
       "  </thead>\n",
       "  <tbody>\n",
       "    <tr>\n",
       "      <th>0</th>\n",
       "      <td>0.01</td>\n",
       "      <td>0.1</td>\n",
       "      <td>0.685138</td>\n",
       "      <td>0.001475</td>\n",
       "      <td>0.689647</td>\n",
       "      <td>0.002556</td>\n",
       "    </tr>\n",
       "    <tr>\n",
       "      <th>1</th>\n",
       "      <td>0.05</td>\n",
       "      <td>0.1</td>\n",
       "      <td>0.660427</td>\n",
       "      <td>0.004627</td>\n",
       "      <td>0.675407</td>\n",
       "      <td>0.002795</td>\n",
       "    </tr>\n",
       "    <tr>\n",
       "      <th>2</th>\n",
       "      <td>0.10</td>\n",
       "      <td>0.1</td>\n",
       "      <td>0.640482</td>\n",
       "      <td>0.006140</td>\n",
       "      <td>0.666613</td>\n",
       "      <td>0.004473</td>\n",
       "    </tr>\n",
       "    <tr>\n",
       "      <th>3</th>\n",
       "      <td>0.01</td>\n",
       "      <td>0.3</td>\n",
       "      <td>0.675755</td>\n",
       "      <td>0.001654</td>\n",
       "      <td>0.684813</td>\n",
       "      <td>0.002117</td>\n",
       "    </tr>\n",
       "    <tr>\n",
       "      <th>4</th>\n",
       "      <td>0.05</td>\n",
       "      <td>0.3</td>\n",
       "      <td>0.621192</td>\n",
       "      <td>0.002901</td>\n",
       "      <td>0.658239</td>\n",
       "      <td>0.004772</td>\n",
       "    </tr>\n",
       "    <tr>\n",
       "      <th>5</th>\n",
       "      <td>0.10</td>\n",
       "      <td>0.3</td>\n",
       "      <td>0.574889</td>\n",
       "      <td>0.003897</td>\n",
       "      <td>0.641546</td>\n",
       "      <td>0.004360</td>\n",
       "    </tr>\n",
       "    <tr>\n",
       "      <th>6</th>\n",
       "      <td>0.01</td>\n",
       "      <td>0.5</td>\n",
       "      <td>0.671706</td>\n",
       "      <td>0.001210</td>\n",
       "      <td>0.684482</td>\n",
       "      <td>0.001622</td>\n",
       "    </tr>\n",
       "    <tr>\n",
       "      <th>7</th>\n",
       "      <td>0.05</td>\n",
       "      <td>0.5</td>\n",
       "      <td>0.604069</td>\n",
       "      <td>0.003731</td>\n",
       "      <td>0.655276</td>\n",
       "      <td>0.004181</td>\n",
       "    </tr>\n",
       "    <tr>\n",
       "      <th>8</th>\n",
       "      <td>0.10</td>\n",
       "      <td>0.5</td>\n",
       "      <td>0.544795</td>\n",
       "      <td>0.006602</td>\n",
       "      <td>0.637693</td>\n",
       "      <td>0.003471</td>\n",
       "    </tr>\n",
       "  </tbody>\n",
       "</table>\n",
       "</div>"
      ],
      "text/plain": [
       "    eta  subsample  train-logloss-mean  train-logloss-std  test-logloss-mean  \\\n",
       "0  0.01        0.1            0.685138           0.001475           0.689647   \n",
       "1  0.05        0.1            0.660427           0.004627           0.675407   \n",
       "2  0.10        0.1            0.640482           0.006140           0.666613   \n",
       "3  0.01        0.3            0.675755           0.001654           0.684813   \n",
       "4  0.05        0.3            0.621192           0.002901           0.658239   \n",
       "5  0.10        0.3            0.574889           0.003897           0.641546   \n",
       "6  0.01        0.5            0.671706           0.001210           0.684482   \n",
       "7  0.05        0.5            0.604069           0.003731           0.655276   \n",
       "8  0.10        0.5            0.544795           0.006602           0.637693   \n",
       "\n",
       "   test-logloss-std  \n",
       "0          0.002556  \n",
       "1          0.002795  \n",
       "2          0.004473  \n",
       "3          0.002117  \n",
       "4          0.004772  \n",
       "5          0.004360  \n",
       "6          0.001622  \n",
       "7          0.004181  \n",
       "8          0.003471  "
      ]
     },
     "execution_count": 62,
     "metadata": {},
     "output_type": "execute_result"
    }
   ],
   "source": [
    "def fit(x):\n",
    "    params = {'objective':'binary:logistic',\n",
    "              'eval_metric':'logloss',\n",
    "              'eta':x[0],\n",
    "              'subsample':x[1]}\n",
    "    xgb_cv = xgb.cv(dtrain=data_dmatrix, params=params, \n",
    "    nfold=4, metrics = 'logloss',seed=42)\n",
    "    return xgb_cv[-1:].values[0]\n",
    "\n",
    "grid[['train-logloss-mean','train-logloss-std',\n",
    "'test-logloss-mean','test-logloss-std']] = grid.apply(fit,axis=1,result_type='expand')\n",
    "grid"
   ]
  },
  {
   "cell_type": "code",
   "execution_count": 63,
   "id": "97521927",
   "metadata": {},
   "outputs": [],
   "source": [
    "xgb_reg = xgb.XGBRegressor(objective='binary:logistic',\n",
    "                           eval_metric = 'logloss',\n",
    "                           eta = 0.01,\n",
    "                           subsample = 0.1)\n",
    "\n",
    "xgb_reg.fit(ohe_train_sel, y_train)\n",
    "y_pred = xgb_reg.predict(ohe_test_sel) > .43"
   ]
  },
  {
   "cell_type": "code",
   "execution_count": 64,
   "id": "6bbd0a76",
   "metadata": {
    "scrolled": true
   },
   "outputs": [
    {
     "name": "stdout",
     "output_type": "stream",
     "text": [
      "NB accuracy: 0.5510887772194305\n",
      "NB precision: 0.5125725338491296\n",
      "NB recall: 0.9430604982206405\n",
      "NB f1: 0.6641604010025063\n"
     ]
    }
   ],
   "source": [
    "print(f'NB accuracy: {metrics.accuracy_score(y_test, y_pred)}')\n",
    "print(f'NB precision: {metrics.precision_score(y_test, y_pred)}')\n",
    "print(f'NB recall: {metrics.recall_score(y_test, y_pred)}')\n",
    "print(f'NB f1: {f1_score(y_test, y_pred)}')"
   ]
  },
  {
   "cell_type": "code",
   "execution_count": null,
   "id": "e4617d17",
   "metadata": {},
   "outputs": [],
   "source": []
  },
  {
   "cell_type": "code",
   "execution_count": null,
   "id": "4ad21923",
   "metadata": {},
   "outputs": [],
   "source": []
  },
  {
   "cell_type": "markdown",
   "id": "f60ec18b",
   "metadata": {},
   "source": [
    "## 4. Random Forest"
   ]
  },
  {
   "cell_type": "code",
   "execution_count": 65,
   "id": "6b227c60",
   "metadata": {
    "scrolled": true
   },
   "outputs": [
    {
     "name": "stdout",
     "output_type": "stream",
     "text": [
      "Best params: {'class_weight': 'balanced', 'criterion': 'gini', 'max_depth': 18, 'min_samples_split': 8}\n"
     ]
    },
    {
     "data": {
      "text/plain": [
       "<Axes: >"
      ]
     },
     "execution_count": 65,
     "metadata": {},
     "output_type": "execute_result"
    },
    {
     "data": {
      "image/png": "[encoded data removed]",
      "text/plain": [
       "<Figure size 640x480 with 2 Axes>"
      ]
     },
     "metadata": {},
     "output_type": "display_data"
    }
   ],
   "source": [
    "rfc = RandomForestClassifier(random_state = 42, n_jobs = -2)\n",
    "parameters = {'max_depth':np.arange(3, 30, 5),\n",
    "             'criterion':['gini', 'entropy'], 'min_samples_split': np.arange(3, 30, 5),\n",
    "             'class_weight':['balanced', 'balanced_subsample']}\n",
    "grid = GridSearchCV(rfc, parameters, cv = 4)\n",
    "\n",
    "grid.fit(ohe_train_sel, y_train)\n",
    "print(f'Best params: {grid.best_params_}')\n",
    "rfc_pred = RandomForestClassifier(random_state = 42, max_depth = grid.best_params_['max_depth'],\n",
    "                                 criterion = grid.best_params_['criterion'],\n",
    "                                 min_samples_split = grid.best_params_['min_samples_split'],\n",
    "                                 class_weight = grid.best_params_['class_weight'])\n",
    "rfc_pred.fit(ohe_train_sel, y_train)\n",
    "y_pred = rfc_pred.predict(ohe_test_sel)\n",
    "\n",
    "contingency_matrix = metrics.cluster.contingency_matrix(y_pred,\n",
    "                                                      y_test)\n",
    "snx.heatmap(contingency_matrix, annot = True, fmt='')"
   ]
  },
  {
   "cell_type": "code",
   "execution_count": 66,
   "id": "13d87b9c",
   "metadata": {},
   "outputs": [
    {
     "name": "stdout",
     "output_type": "stream",
     "text": [
      "RFT accuracy: 0.711892797319933\n",
      "RFT precision: 0.6925795053003534\n",
      "RFT recall: 0.697508896797153\n",
      "RFT f1: 0.6950354609929078\n"
     ]
    }
   ],
   "source": [
    "y_pred = rfc_pred.predict(ohe_test_sel)\n",
    "print(f'RFT accuracy: {metrics.accuracy_score(y_test, y_pred)}')\n",
    "print(f'RFT precision: {metrics.precision_score(y_test, y_pred)}')\n",
    "print(f'RFT recall: {metrics.recall_score(y_test, y_pred)}')\n",
    "print(f'RFT f1: {f1_score(y_test, y_pred)}')"
   ]
  },
  {
   "cell_type": "markdown",
   "id": "3a1763e3-68c3-4bd9-b62c-fbe5beb2501a",
   "metadata": {},
   "source": [
    "## 6. FCALC"
   ]
  },
  {
   "cell_type": "code",
   "execution_count": 67,
   "id": "ffccb94a-d822-4746-ae90-2980e0949095",
   "metadata": {},
   "outputs": [
    {
     "name": "stdout",
     "output_type": "stream",
     "text": [
      "{'0': [array([0.595    , 0.4527027]), array([0.        , 0.54822335, 0.40666667]), array([0.        , 0.63861386, 0.49134948]), array([0.        , 0.61538462, 0.46206897])], '3': [array([0., 0., 0.]), array([0., 0., 0.]), array([0., 0., 0.]), array([0., 0., 0.])], '6': [array([0., 0., 0.]), array([0., 0., 0.]), array([0., 0., 0.]), array([0., 0., 0.])], '9': [array([0., 0., 0.]), array([0., 0., 0.]), array([0., 0., 0.]), array([0., 0., 0.])]}\n"
     ]
    }
   ],
   "source": [
    "best_params = dict()\n",
    "kf = KFold(n_splits=4, shuffle = True, random_state=42)\n",
    "for train, test in kf.split(ohe_train_sel):\n",
    "    for alpha in np.arange(0, 10, 3):\n",
    "        if str(alpha) not in list(best_params.keys()):\n",
    "            best_params[str(alpha)]=[]\n",
    "        bin_cls = fcalc.classifier.BinarizedBinaryClassifier(ohe_train_sel[train],\n",
    "                                                             y_train.astype(int)[train], method = 'standard', alpha = alpha)\n",
    "        # bin_cls = fcalc.classifier.BinarizedBinaryClassifier(ohe_train.toarray()[train], y_train[train], method = 'standard')\n",
    "        bin_cls.predict(ohe_train_sel[test])\n",
    "        f1 = f1_score(y_train.astype(int)[test], bin_cls.predictions, average = None)\n",
    "        best_params[str(alpha)].append(f1)\n",
    "\n",
    "print(best_params)"
   ]
  },
  {
   "cell_type": "code",
   "execution_count": 71,
   "id": "254bcf04-ba1c-45f5-b160-7ab4335f3b5c",
   "metadata": {},
   "outputs": [],
   "source": [
    "bin_cls = fcalc.classifier.BinarizedBinaryClassifier(ohe_train_sel, y_train, method = 'standard', alpha = 0)\n",
    "bin_cls.predict(ohe_test_sel)"
   ]
  },
  {
   "cell_type": "code",
   "execution_count": 72,
   "id": "a09c700d-40d8-4ed3-b3c0-aa415478ba00",
   "metadata": {},
   "outputs": [],
   "source": [
    "y_pred = bin_cls.predictions"
   ]
  },
  {
   "cell_type": "code",
   "execution_count": 73,
   "id": "1daa61b7-6e6e-4799-b4b2-aee3c00f0370",
   "metadata": {},
   "outputs": [
    {
     "data": {
      "text/plain": [
       "<Axes: >"
      ]
     },
     "execution_count": 73,
     "metadata": {},
     "output_type": "execute_result"
    },
    {
     "data": {
      "image/png": "[encoded data removed]",
      "text/plain": [
       "<Figure size 640x480 with 2 Axes>"
      ]
     },
     "metadata": {},
     "output_type": "display_data"
    }
   ],
   "source": [
    "contingency_matrix = metrics.cluster.contingency_matrix(y_pred, y_test)\n",
    "snx.heatmap(contingency_matrix, annot = True, fmt='')"
   ]
  },
  {
   "cell_type": "code",
   "execution_count": 74,
   "id": "0fd9500a-c69d-4564-94da-d92a759fd349",
   "metadata": {
    "scrolled": true
   },
   "outputs": [
    {
     "name": "stdout",
     "output_type": "stream",
     "text": [
      "0.5544388609715243\n",
      "[0.         0.64227642 0.41409692]\n"
     ]
    }
   ],
   "source": [
    "# ind = np.where(bin_cls.predictions != -1)\n",
    "print(accuracy_score(y_test, y_pred))\n",
    "print(f1_score(y_test, y_pred, average = None))"
   ]
  },
  {
   "cell_type": "markdown",
   "id": "c718f24f-f3cc-4dcd-84d0-663e5336d0ec",
   "metadata": {},
   "source": [
    "## Pattern Structure"
   ]
  },
  {
   "cell_type": "code",
   "execution_count": 77,
   "id": "9eecb68a-cfed-411f-8ccf-b812a5e0e6ac",
   "metadata": {},
   "outputs": [
    {
     "name": "stdout",
     "output_type": "stream",
     "text": [
      "[0.46043165 0.64114833]\n",
      "[0.         0.50165017 0.6122449 ]\n",
      "[0.49134948 0.63882064]\n",
      "[0.37984496 0.63302752]\n",
      "{}\n"
     ]
    }
   ],
   "source": [
    "best_params = dict()\n",
    "kf = KFold(n_splits=4, shuffle = True, random_state=42)\n",
    "for train, test in kf.split(ohe_train_sel):\n",
    "    pat_cls = fcalc.classifier.PatternBinaryClassifier(ohe_train_sel[train], y_train[train],\n",
    "                                                       categorical=np.arange(ohe_train_sel.shape[1]))\n",
    "    pat_cls.predict(ohe_train_sel[test])\n",
    "    f1 = f1_score(y_train.astype(int)[test], pat_cls.predictions, average = None)\n",
    "    print(f1)\n",
    "    # best_params[str(alpha)].append(f1)\n",
    "\n",
    "print(best_params)"
   ]
  },
  {
   "cell_type": "code",
   "execution_count": 78,
   "id": "1b5ea845-287d-47b1-ac8a-bcae06adf692",
   "metadata": {},
   "outputs": [],
   "source": [
    "pat_cls = fcalc.classifier.PatternBinaryClassifier(ohe_train_sel, y_train, categorical=np.arange(ohe_train_sel.shape[1]))\n",
    "pat_cls.predict(ohe_test_sel)"
   ]
  },
  {
   "cell_type": "code",
   "execution_count": 79,
   "id": "d8b0cb60-1561-4605-8f10-39d593720bf6",
   "metadata": {},
   "outputs": [],
   "source": [
    "# ohe_test[:, feature_importances>100].toarray().shape"
   ]
  },
  {
   "cell_type": "code",
   "execution_count": 80,
   "id": "a19bb2cd-6ddb-4ba3-a257-9878b87980a5",
   "metadata": {},
   "outputs": [],
   "source": [
    "y_pred = pat_cls.predictions\n",
    "# y_pred.shape, y_test.shape"
   ]
  },
  {
   "cell_type": "code",
   "execution_count": 81,
   "id": "ceff29cc-2a5d-4aac-a254-3db1137eb2ec",
   "metadata": {},
   "outputs": [
    {
     "data": {
      "text/plain": [
       "<Axes: >"
      ]
     },
     "execution_count": 81,
     "metadata": {},
     "output_type": "execute_result"
    },
    {
     "data": {
      "image/png": "[encoded data removed]",
      "text/plain": [
       "<Figure size 640x480 with 2 Axes>"
      ]
     },
     "metadata": {},
     "output_type": "display_data"
    }
   ],
   "source": [
    "y_pred = pat_cls.predictions\n",
    "contingency_matrix = metrics.cluster.contingency_matrix(y_pred, y_test)\n",
    "snx.heatmap(contingency_matrix, annot = True, fmt='')"
   ]
  },
  {
   "cell_type": "code",
   "execution_count": 82,
   "id": "350ffed1-7b38-4e18-9cbc-0813fa466dcb",
   "metadata": {},
   "outputs": [
    {
     "name": "stdout",
     "output_type": "stream",
     "text": [
      "0.5728643216080402\n",
      "0.6362339514978602\n"
     ]
    }
   ],
   "source": [
    "print(accuracy_score(y_test, y_pred))\n",
    "print(f1_score(y_test, y_pred))"
   ]
  },
  {
   "cell_type": "code",
   "execution_count": null,
   "id": "6531046c-1469-496a-aa5a-3582be544619",
   "metadata": {},
   "outputs": [],
   "source": []
  },
  {
   "cell_type": "code",
   "execution_count": null,
   "id": "1443b1d9-6ce8-4e7a-b45b-ef9baad9f33c",
   "metadata": {},
   "outputs": [],
   "source": []
  },
  {
   "cell_type": "markdown",
   "id": "abe5685f",
   "metadata": {},
   "source": [
    "# SC_data"
   ]
  },
  {
   "cell_type": "code",
   "execution_count": 142,
   "id": "d468e9ca",
   "metadata": {},
   "outputs": [],
   "source": [
    "os.chdir(\"C:/Users/HP pavilion X360/Desktop/OSDA/big_homework\")"
   ]
  },
  {
   "cell_type": "code",
   "execution_count": 143,
   "id": "bc56abb6",
   "metadata": {
    "scrolled": true
   },
   "outputs": [
    {
     "data": {
      "text/html": [
       "<div>\n",
       "<style scoped>\n",
       "    .dataframe tbody tr th:only-of-type {\n",
       "        vertical-align: middle;\n",
       "    }\n",
       "\n",
       "    .dataframe tbody tr th {\n",
       "        vertical-align: top;\n",
       "    }\n",
       "\n",
       "    .dataframe thead th {\n",
       "        text-align: right;\n",
       "    }\n",
       "</style>\n",
       "<table border=\"1\" class=\"dataframe\">\n",
       "  <thead>\n",
       "    <tr style=\"text-align: right;\">\n",
       "      <th></th>\n",
       "      <th>Unnamed: 0</th>\n",
       "      <th>MEG2142</th>\n",
       "      <th>MEG2132</th>\n",
       "      <th>MEG2122</th>\n",
       "      <th>MEG1932</th>\n",
       "      <th>MEG2332</th>\n",
       "      <th>MEG2542</th>\n",
       "      <th>MEG1742</th>\n",
       "      <th>MEG1732</th>\n",
       "      <th>MEG2512</th>\n",
       "      <th>MEG1922</th>\n",
       "      <th>MEG2342</th>\n",
       "      <th>MEG2112</th>\n",
       "      <th>target</th>\n",
       "    </tr>\n",
       "  </thead>\n",
       "  <tbody>\n",
       "    <tr>\n",
       "      <th>0</th>\n",
       "      <td>1</td>\n",
       "      <td>0.093108</td>\n",
       "      <td>-0.223414</td>\n",
       "      <td>-1.059883</td>\n",
       "      <td>-1.720365</td>\n",
       "      <td>0.702428</td>\n",
       "      <td>2.855179</td>\n",
       "      <td>-1.282480</td>\n",
       "      <td>1.611961</td>\n",
       "      <td>-0.205705</td>\n",
       "      <td>0.772891</td>\n",
       "      <td>1.830294</td>\n",
       "      <td>2.291408</td>\n",
       "      <td>0</td>\n",
       "    </tr>\n",
       "    <tr>\n",
       "      <th>1</th>\n",
       "      <td>2</td>\n",
       "      <td>-0.502069</td>\n",
       "      <td>-1.102283</td>\n",
       "      <td>1.077575</td>\n",
       "      <td>1.148038</td>\n",
       "      <td>-1.324281</td>\n",
       "      <td>-0.290751</td>\n",
       "      <td>-1.964517</td>\n",
       "      <td>-0.725845</td>\n",
       "      <td>-1.492331</td>\n",
       "      <td>-1.904653</td>\n",
       "      <td>-2.612012</td>\n",
       "      <td>-1.997749</td>\n",
       "      <td>0</td>\n",
       "    </tr>\n",
       "    <tr>\n",
       "      <th>2</th>\n",
       "      <td>3</td>\n",
       "      <td>1.747480</td>\n",
       "      <td>0.266660</td>\n",
       "      <td>2.695567</td>\n",
       "      <td>0.781695</td>\n",
       "      <td>1.184406</td>\n",
       "      <td>0.730803</td>\n",
       "      <td>0.437738</td>\n",
       "      <td>-1.454192</td>\n",
       "      <td>0.330962</td>\n",
       "      <td>-0.364799</td>\n",
       "      <td>-0.007068</td>\n",
       "      <td>1.079166</td>\n",
       "      <td>0</td>\n",
       "    </tr>\n",
       "  </tbody>\n",
       "</table>\n",
       "</div>"
      ],
      "text/plain": [
       "   Unnamed: 0   MEG2142   MEG2132   MEG2122   MEG1932   MEG2332   MEG2542  \\\n",
       "0           1  0.093108 -0.223414 -1.059883 -1.720365  0.702428  2.855179   \n",
       "1           2 -0.502069 -1.102283  1.077575  1.148038 -1.324281 -0.290751   \n",
       "2           3  1.747480  0.266660  2.695567  0.781695  1.184406  0.730803   \n",
       "\n",
       "    MEG1742   MEG1732   MEG2512   MEG1922   MEG2342   MEG2112  target  \n",
       "0 -1.282480  1.611961 -0.205705  0.772891  1.830294  2.291408       0  \n",
       "1 -1.964517 -0.725845 -1.492331 -1.904653 -2.612012 -1.997749       0  \n",
       "2  0.437738 -1.454192  0.330962 -0.364799 -0.007068  1.079166       0  "
      ]
     },
     "execution_count": 143,
     "metadata": {},
     "output_type": "execute_result"
    }
   ],
   "source": [
    "data = pd.read_csv('data_sc_for_osda.csv')\n",
    "data.head(3)"
   ]
  },
  {
   "cell_type": "code",
   "execution_count": 144,
   "id": "090ca0aa-f89d-4b78-bb6c-bc5f78d45e1d",
   "metadata": {},
   "outputs": [],
   "source": [
    "y = data.target\n",
    "data.drop(['Unnamed: 0', 'target'], axis = 1, inplace = True)\n",
    "X = data"
   ]
  },
  {
   "cell_type": "code",
   "execution_count": 145,
   "id": "bb9edc1a-7d6a-465e-bf17-eefe2565c638",
   "metadata": {},
   "outputs": [],
   "source": [
    "X_train, X_test, y_train, y_test = train_test_split(X.values, y.values, test_size = 0.3)"
   ]
  },
  {
   "cell_type": "code",
   "execution_count": 146,
   "id": "4b0a9a0f-b8c0-45f8-8858-8d6cbe7fb3c2",
   "metadata": {},
   "outputs": [],
   "source": [
    "stsc = StandardScaler()\n",
    "stsc.fit(X_train)\n",
    "train = pd.DataFrame(stsc.transform(X_train))\n",
    "test = pd.DataFrame(stsc.transform(X_test))"
   ]
  },
  {
   "cell_type": "code",
   "execution_count": 147,
   "id": "e349a262-0edb-410e-b32a-057bcf460b31",
   "metadata": {},
   "outputs": [],
   "source": [
    "kbins = KBinsDiscretizer(n_bins=6, encode='ordinal', strategy='quantile', subsample=None).fit(train)\n",
    "new_train = pd.DataFrame(kbins.transform(train), columns = X.columns)\n",
    "new_test = pd.DataFrame(kbins.transform(test), columns = X.columns)"
   ]
  },
  {
   "cell_type": "code",
   "execution_count": 148,
   "id": "31c507ef-929a-4b3f-8d32-44b752e54aaf",
   "metadata": {},
   "outputs": [],
   "source": [
    "ohe = OneHotEncoder(drop = 'first').fit(new_train)\n",
    "ohe_train = ohe.transform(new_train)\n",
    "ohe_test = ohe.transform(new_test)"
   ]
  },
  {
   "cell_type": "code",
   "execution_count": 149,
   "id": "0da9381c-ca06-4ea8-ac32-d8e4a10d0c86",
   "metadata": {},
   "outputs": [
    {
     "data": {
      "text/plain": [
       "(array([[0., 0., 1., ..., 0., 0., 1.],\n",
       "        [0., 0., 0., ..., 0., 0., 0.],\n",
       "        [0., 0., 1., ..., 0., 0., 0.],\n",
       "        ...,\n",
       "        [1., 0., 0., ..., 0., 0., 0.],\n",
       "        [0., 0., 0., ..., 0., 0., 0.],\n",
       "        [0., 0., 0., ..., 0., 0., 0.]]),\n",
       " array([[0., 0., 0., ..., 0., 0., 1.],\n",
       "        [0., 0., 0., ..., 0., 0., 1.],\n",
       "        [0., 1., 0., ..., 0., 1., 0.],\n",
       "        ...,\n",
       "        [0., 0., 1., ..., 1., 0., 0.],\n",
       "        [0., 1., 0., ..., 0., 1., 0.],\n",
       "        [0., 0., 0., ..., 0., 0., 0.]]))"
      ]
     },
     "execution_count": 149,
     "metadata": {},
     "output_type": "execute_result"
    }
   ],
   "source": [
    "ohe_test.toarray(), ohe_train.toarray()"
   ]
  },
  {
   "cell_type": "code",
   "execution_count": 150,
   "id": "51fdecdd-f726-459a-aa82-d34e73df384d",
   "metadata": {},
   "outputs": [
    {
     "data": {
      "text/plain": [
       "60"
      ]
     },
     "execution_count": 150,
     "metadata": {},
     "output_type": "execute_result"
    }
   ],
   "source": [
    "columns = [i + ' ' + 'q' + str(j) for i in X.columns for j in [2,3,4,5,6]]\n",
    "len(columns)\n",
    "# columns"
   ]
  },
  {
   "cell_type": "code",
   "execution_count": 122,
   "id": "e6fe4e05-6afa-4c66-968e-067efa83d6fa",
   "metadata": {
    "scrolled": true
   },
   "outputs": [],
   "source": [
    "# data = pd.read_csv('data_sc_for_osda.csv')"
   ]
  },
  {
   "cell_type": "code",
   "execution_count": 265,
   "id": "ffe13a2b",
   "metadata": {
    "scrolled": true
   },
   "outputs": [],
   "source": [
    "# data.drop('Unnamed: 0', axis = 1, inplace = True)\n",
    "# y = data.target\n",
    "# data.drop('target', axis = 1, inplace = True)\n",
    "# stsc = StandardScaler()\n",
    "# stsc.fit(data)\n",
    "# data = pd.DataFrame(stsc.transform(data))"
   ]
  },
  {
   "cell_type": "code",
   "execution_count": 266,
   "id": "f769233b",
   "metadata": {
    "scrolled": true
   },
   "outputs": [],
   "source": [
    "# label_encoder = LabelEncoder()\n",
    "# n_bins = 5\n",
    "# data = pd.DataFrame(data)\n",
    "# df= pd.DataFrame()\n",
    "# for i in range(len(data.columns)):\n",
    "#     df[i] = label_encoder.fit_transform(pd.cut(data[i], n_bins, retbins=True)[0])\n",
    "# # df = label_encoder.fit_transform(pd.cut(data[0], n_bins, retbins=True)[0])"
   ]
  },
  {
   "cell_type": "code",
   "execution_count": 267,
   "id": "7bf954af",
   "metadata": {},
   "outputs": [],
   "source": [
    "# one_hot_encoded_data = pd.get_dummies(df, columns = df.columns)\n",
    "# one_hot_encoded_data\n",
    "# one_hot_encoded_data['target'] = y\n",
    "# one_hot_encoded_data.to_csv('one_hot_encoded_sc_data.csv')"
   ]
  },
  {
   "cell_type": "code",
   "execution_count": 268,
   "id": "cf1a6c9a",
   "metadata": {},
   "outputs": [],
   "source": [
    "# X = pd.read_csv('one_hot_encoded_sc_data.csv')\n",
    "# y = X['target']\n",
    "# X.drop('target', axis = 1, inplace = True)\n",
    "# X_train, X_test, y_train, y_test = train_test_split(np.array(X), y*1, test_size = 0.3)\n"
   ]
  },
  {
   "cell_type": "code",
   "execution_count": 151,
   "id": "9d085b46-0bfe-45a3-bf54-e68deb92015e",
   "metadata": {},
   "outputs": [
    {
     "data": {
      "text/plain": [
       "(1349, 60)"
      ]
     },
     "execution_count": 151,
     "metadata": {},
     "output_type": "execute_result"
    }
   ],
   "source": [
    "ohe_train.shape"
   ]
  },
  {
   "cell_type": "code",
   "execution_count": null,
   "id": "18423c7c-8fbe-47e1-830d-2c98cc5ee2ae",
   "metadata": {},
   "outputs": [],
   "source": [
    "\n"
   ]
  },
  {
   "cell_type": "code",
   "execution_count": 152,
   "id": "6ad976e7-13e0-4d34-8612-29eb29a29441",
   "metadata": {},
   "outputs": [
    {
     "data": {
      "text/plain": [
       "((1349, 60), (1349,), 60)"
      ]
     },
     "execution_count": 152,
     "metadata": {},
     "output_type": "execute_result"
    }
   ],
   "source": [
    "ohe_train.shape, y_train.shape,len(columns)"
   ]
  },
  {
   "cell_type": "code",
   "execution_count": 153,
   "id": "dd3a02e7-a6da-4dee-9ceb-45768452537a",
   "metadata": {},
   "outputs": [
    {
     "data": {
      "image/png": "[encoded data removed]",
      "text/plain": [
       "<Figure size 640x480 with 1 Axes>"
      ]
     },
     "metadata": {},
     "output_type": "display_data"
    }
   ],
   "source": [
    "from skfeature.function.similarity_based import fisher_score\n",
    "import matplotlib.pyplot as plt\n",
    "\n",
    "# Вычисляем критерий\n",
    "# Где X, y - входные и выходные данные соответственно.\n",
    "ranks = fisher_score.fisher_score(ohe_train.toarray(), y_train)\n",
    "\n",
    "# Делаем график наших \"фич\"\n",
    "# Где data - ваш датасет\n",
    "feature_importances = pd.Series(ranks, columns)\n",
    "feature_importances.plot(kind='barh', color='teal')\n",
    "plt.show()"
   ]
  },
  {
   "cell_type": "code",
   "execution_count": 154,
   "id": "0cd58c27-5054-42a5-bca7-2f6bbc9f01b3",
   "metadata": {},
   "outputs": [
    {
     "data": {
      "text/plain": [
       "44"
      ]
     },
     "execution_count": 154,
     "metadata": {},
     "output_type": "execute_result"
    }
   ],
   "source": [
    "len((feature_importances[feature_importances > 15]).sort_values(ascending = False))"
   ]
  },
  {
   "cell_type": "code",
   "execution_count": null,
   "id": "a8f3b205-3a81-4dbd-a3cd-abdeb1247c04",
   "metadata": {},
   "outputs": [],
   "source": []
  },
  {
   "cell_type": "code",
   "execution_count": 116,
   "id": "d01534a1-56c9-4d78-82a4-140071a253b7",
   "metadata": {},
   "outputs": [],
   "source": [
    "# from sklearn.metrics import accuracy_score, f1_score\n",
    "\n",
    "# indx = np.where(bin_cls.predictions != -1)[0]\n",
    "# print(accuracy_score(y_test.values[indx], bin_cls.predictions[indx]))\n",
    "# print(f1_score(y_test.values[indx], bin_cls.predictions[indx]))"
   ]
  },
  {
   "cell_type": "code",
   "execution_count": 155,
   "id": "6d95d9e1-ba2b-4d6c-9111-bdc32cf82ac7",
   "metadata": {},
   "outputs": [],
   "source": [
    "ohe_train_sel = ohe_train[:, feature_importances>15].toarray().astype(int)\n",
    "ohe_test_sel = ohe_test[:, feature_importances>15].toarray().astype(int)"
   ]
  },
  {
   "cell_type": "markdown",
   "id": "601a362b-7e42-4bb3-9684-37235357e833",
   "metadata": {},
   "source": [
    "## 1. KNN"
   ]
  },
  {
   "cell_type": "code",
   "execution_count": 156,
   "id": "3b21da43",
   "metadata": {},
   "outputs": [
    {
     "name": "stdout",
     "output_type": "stream",
     "text": [
      "Best params: {'metric': 'manhattan', 'n_neighbors': 22, 'weights': 'distance'}\n"
     ]
    },
    {
     "data": {
      "text/plain": [
       "<Axes: >"
      ]
     },
     "execution_count": 156,
     "metadata": {},
     "output_type": "execute_result"
    },
    {
     "data": {
      "image/png": "[encoded data removed]",
      "text/plain": [
       "<Figure size 640x480 with 2 Axes>"
      ]
     },
     "metadata": {},
     "output_type": "display_data"
    }
   ],
   "source": [
    "knn = KNeighborsClassifier()\n",
    "parameters = {'n_neighbors':np.arange(1, 30, 1), 'metric': ('euclidean', 'manhattan'),\n",
    "             'weights':('uniform', 'distance')}\n",
    "grid = GridSearchCV(knn, parameters, cv = 4)\n",
    "\n",
    "grid.fit(ohe_train_sel, y_train)\n",
    "print(f'Best params: {grid.best_params_}')\n",
    "knn_pred = KNeighborsClassifier(metric = grid.best_params_['metric'], n_neighbors = grid.best_params_['n_neighbors'],\n",
    "                               weights = grid.best_params_['weights'])\n",
    "knn_pred.fit(ohe_train_sel, y_train)\n",
    "\n",
    "y_pred = knn_pred.predict(ohe_test_sel)\n",
    "\n",
    "contingency_matrix = metrics.cluster.contingency_matrix(y_pred,\n",
    "                                                      y_test)\n",
    "snx.heatmap(contingency_matrix, annot = True, fmt='')"
   ]
  },
  {
   "cell_type": "code",
   "execution_count": 157,
   "id": "ea8cba8d",
   "metadata": {},
   "outputs": [
    {
     "name": "stdout",
     "output_type": "stream",
     "text": [
      "Accuracy: 0.6321243523316062\n",
      "Precision: 0.6101694915254238\n",
      "recall: 0.6474820143884892\n",
      "f1: 0.6282722513089004\n"
     ]
    }
   ],
   "source": [
    "print(f'Accuracy: {metrics.accuracy_score(y_pred = y_pred, y_true = y_test)}')\n",
    "print(f'Precision: {metrics.precision_score(y_pred = y_pred, y_true = y_test)}')\n",
    "print(f'recall: {metrics.recall_score(y_pred = y_pred, y_true = y_test)}')\n",
    "print(f'f1: {metrics.f1_score(y_pred = y_pred, y_true = y_test)}')"
   ]
  },
  {
   "cell_type": "markdown",
   "id": "757639fd",
   "metadata": {},
   "source": [
    "## 2. Logistic Regression"
   ]
  },
  {
   "cell_type": "code",
   "execution_count": 158,
   "id": "d71b7c1b",
   "metadata": {
    "scrolled": true
   },
   "outputs": [
    {
     "name": "stdout",
     "output_type": "stream",
     "text": [
      "Best params: {'C': 0.1, 'class_weight': 'balanced', 'penalty': 'l1', 'solver': 'saga'}\n"
     ]
    },
    {
     "data": {
      "text/plain": [
       "<Axes: >"
      ]
     },
     "execution_count": 158,
     "metadata": {},
     "output_type": "execute_result"
    },
    {
     "data": {
      "image/png": "[encoded data removed]",
      "text/plain": [
       "<Figure size 640x480 with 2 Axes>"
      ]
     },
     "metadata": {},
     "output_type": "display_data"
    }
   ],
   "source": [
    "lr = LogisticRegression(max_iter = 100000, random_state = 42)\n",
    "parameters = {'C':np.arange(0.1, 10, 1), 'penalty': ('l2', 'l1'),\n",
    "             'class_weight': ['balanced'],\n",
    "             'solver' : ['saga', 'liblinear']}\n",
    "grid = GridSearchCV(lr, parameters, cv = 4,  n_jobs = -2)\n",
    "\n",
    "grid.fit(ohe_train_sel, y_train)\n",
    "print(f'Best params: {grid.best_params_}')\n",
    "    \n",
    "lr_pred = LogisticRegression(C = grid.best_params_['C'], penalty = grid.best_params_['penalty'],\n",
    "                               class_weight = grid.best_params_['class_weight'],\n",
    "                            solver = grid.best_params_['solver'])\n",
    "lr_pred.fit(ohe_train_sel, y_train)\n",
    "\n",
    "y_pred = lr_pred.predict(ohe_test_sel)\n",
    "\n",
    "contingency_matrix = metrics.cluster.contingency_matrix(y_pred,\n",
    "                                                      y_test)\n",
    "snx.heatmap(contingency_matrix, annot = True, fmt='')"
   ]
  },
  {
   "cell_type": "code",
   "execution_count": 159,
   "id": "fbcd5b16",
   "metadata": {},
   "outputs": [
    {
     "name": "stdout",
     "output_type": "stream",
     "text": [
      "Logistic Regression accuracy: 0.6303972366148531\n",
      "Logistic Regression precision: 0.5888888888888889\n",
      "Logistic Regression recall: 0.762589928057554\n",
      "Logistic Regression f1: 0.664576802507837\n"
     ]
    }
   ],
   "source": [
    "print(f'Logistic Regression accuracy: {metrics.accuracy_score(y_test, y_pred)}')\n",
    "print(f'Logistic Regression precision: {metrics.precision_score(y_test, y_pred)}')\n",
    "print(f'Logistic Regression recall: {metrics.recall_score(y_test, y_pred)}')\n",
    "print(f'Logistic Regression f1: {f1_score(y_test, y_pred)}')"
   ]
  },
  {
   "cell_type": "code",
   "execution_count": null,
   "id": "a3d4fb4d-330f-4180-a68c-53ac82603b44",
   "metadata": {},
   "outputs": [],
   "source": []
  },
  {
   "cell_type": "code",
   "execution_count": null,
   "id": "c6bbd24b-f95b-4edf-a7c0-dc3675375b7f",
   "metadata": {},
   "outputs": [],
   "source": []
  },
  {
   "cell_type": "code",
   "execution_count": 102,
   "id": "10e36878-7a6b-4282-9b48-3c91c4d353a2",
   "metadata": {},
   "outputs": [],
   "source": [
    "# bfs = SequentialFeatureSelector(lr_pred, k_features='best', forward = False, n_jobs=-1)\n",
    "# bfs.fit(ohe_train.toarray(), y_train)\n",
    "# features = list(bfs.k_feature_names_)\n",
    "# features = list(map(int, features))\n",
    "# lr_pred.fit(ohe_train.toarray()[:, features], y_train)\n",
    "# y_pred = lr_pred.predict(ohe_test.toarray()[:, features])"
   ]
  },
  {
   "cell_type": "code",
   "execution_count": 133,
   "id": "f5a3e0b1-3d53-48f6-abe0-287c2a9760c6",
   "metadata": {},
   "outputs": [],
   "source": [
    "# print(f'Logistic Regression accuracy: {metrics.accuracy_score(y_test, y_pred)}')\n",
    "# print(f'Logistic Regression precision: {metrics.precision_score(y_test, y_pred)}')\n",
    "# print(f'Logistic Regression recall: {metrics.recall_score(y_test, y_pred)}')\n",
    "# print(f'Logistic Regression f1: {f1_score(y_test, y_pred)}')"
   ]
  },
  {
   "cell_type": "code",
   "execution_count": null,
   "id": "15aa5bd7-a414-48e3-96e4-cb1adca4c1a5",
   "metadata": {},
   "outputs": [],
   "source": []
  },
  {
   "cell_type": "markdown",
   "id": "2e8cf129",
   "metadata": {},
   "source": [
    "## 3.a XGBoost"
   ]
  },
  {
   "cell_type": "code",
   "execution_count": 160,
   "id": "5ad03001",
   "metadata": {},
   "outputs": [
    {
     "data": {
      "text/html": [
       "<div>\n",
       "<style scoped>\n",
       "    .dataframe tbody tr th:only-of-type {\n",
       "        vertical-align: middle;\n",
       "    }\n",
       "\n",
       "    .dataframe tbody tr th {\n",
       "        vertical-align: top;\n",
       "    }\n",
       "\n",
       "    .dataframe thead th {\n",
       "        text-align: right;\n",
       "    }\n",
       "</style>\n",
       "<table border=\"1\" class=\"dataframe\">\n",
       "  <thead>\n",
       "    <tr style=\"text-align: right;\">\n",
       "      <th></th>\n",
       "      <th>train-logloss-mean</th>\n",
       "      <th>train-logloss-std</th>\n",
       "      <th>test-logloss-mean</th>\n",
       "      <th>test-logloss-std</th>\n",
       "    </tr>\n",
       "  </thead>\n",
       "  <tbody>\n",
       "    <tr>\n",
       "      <th>0</th>\n",
       "      <td>0.691931</td>\n",
       "      <td>0.000331</td>\n",
       "      <td>0.692162</td>\n",
       "      <td>0.000176</td>\n",
       "    </tr>\n",
       "    <tr>\n",
       "      <th>1</th>\n",
       "      <td>0.691043</td>\n",
       "      <td>0.000284</td>\n",
       "      <td>0.691301</td>\n",
       "      <td>0.000509</td>\n",
       "    </tr>\n",
       "    <tr>\n",
       "      <th>2</th>\n",
       "      <td>0.690173</td>\n",
       "      <td>0.000393</td>\n",
       "      <td>0.690747</td>\n",
       "      <td>0.000868</td>\n",
       "    </tr>\n",
       "    <tr>\n",
       "      <th>3</th>\n",
       "      <td>0.689057</td>\n",
       "      <td>0.000498</td>\n",
       "      <td>0.689714</td>\n",
       "      <td>0.001144</td>\n",
       "    </tr>\n",
       "    <tr>\n",
       "      <th>4</th>\n",
       "      <td>0.688143</td>\n",
       "      <td>0.000632</td>\n",
       "      <td>0.688876</td>\n",
       "      <td>0.001086</td>\n",
       "    </tr>\n",
       "    <tr>\n",
       "      <th>5</th>\n",
       "      <td>0.687235</td>\n",
       "      <td>0.000788</td>\n",
       "      <td>0.688245</td>\n",
       "      <td>0.001074</td>\n",
       "    </tr>\n",
       "    <tr>\n",
       "      <th>6</th>\n",
       "      <td>0.686250</td>\n",
       "      <td>0.000867</td>\n",
       "      <td>0.687542</td>\n",
       "      <td>0.001286</td>\n",
       "    </tr>\n",
       "    <tr>\n",
       "      <th>7</th>\n",
       "      <td>0.685369</td>\n",
       "      <td>0.000890</td>\n",
       "      <td>0.686792</td>\n",
       "      <td>0.001583</td>\n",
       "    </tr>\n",
       "    <tr>\n",
       "      <th>8</th>\n",
       "      <td>0.684567</td>\n",
       "      <td>0.001001</td>\n",
       "      <td>0.686206</td>\n",
       "      <td>0.001787</td>\n",
       "    </tr>\n",
       "    <tr>\n",
       "      <th>9</th>\n",
       "      <td>0.683647</td>\n",
       "      <td>0.000910</td>\n",
       "      <td>0.685438</td>\n",
       "      <td>0.002314</td>\n",
       "    </tr>\n",
       "  </tbody>\n",
       "</table>\n",
       "</div>"
      ],
      "text/plain": [
       "   train-logloss-mean  train-logloss-std  test-logloss-mean  test-logloss-std\n",
       "0            0.691931           0.000331           0.692162          0.000176\n",
       "1            0.691043           0.000284           0.691301          0.000509\n",
       "2            0.690173           0.000393           0.690747          0.000868\n",
       "3            0.689057           0.000498           0.689714          0.001144\n",
       "4            0.688143           0.000632           0.688876          0.001086\n",
       "5            0.687235           0.000788           0.688245          0.001074\n",
       "6            0.686250           0.000867           0.687542          0.001286\n",
       "7            0.685369           0.000890           0.686792          0.001583\n",
       "8            0.684567           0.001001           0.686206          0.001787\n",
       "9            0.683647           0.000910           0.685438          0.002314"
      ]
     },
     "execution_count": 160,
     "metadata": {},
     "output_type": "execute_result"
    }
   ],
   "source": [
    "import pandas as pd\n",
    "import numpy as np\n",
    "import xgboost as xgb\n",
    "from sklearn.model_selection import train_test_split\n",
    "from sklearn.datasets import make_classification\n",
    "\n",
    "# X, y = make_classification(n_samples=500,class_sep=0.7)\n",
    "\n",
    "data_dmatrix = xgb.DMatrix(data=ohe_train_sel,label=y_train)\n",
    "params = {'objective':'binary:logistic','eval_metric':'logloss',\n",
    "          'eta':0.01,\n",
    "          'subsample':0.1}\n",
    "xgb_cv = xgb.cv(dtrain=data_dmatrix, params=params, nfold=5, metrics = 'logloss',seed=42) \n",
    "xgb_cv"
   ]
  },
  {
   "cell_type": "code",
   "execution_count": 161,
   "id": "151e1550",
   "metadata": {},
   "outputs": [],
   "source": [
    "grid = pd.DataFrame({'eta':[0.01,0.05,0.1]*2,\n",
    "'subsample':np.repeat([0.1,0.3],3)})"
   ]
  },
  {
   "cell_type": "code",
   "execution_count": 162,
   "id": "73897e0a",
   "metadata": {
    "scrolled": true
   },
   "outputs": [
    {
     "name": "stderr",
     "output_type": "stream",
     "text": [
      "C:\\Users\\HP pavilion X360\\AppData\\Local\\Temp\\ipykernel_9600\\1955241609.py:4: FutureWarning: Series.__getitem__ treating keys as positions is deprecated. In a future version, integer keys will always be treated as labels (consistent with DataFrame behavior). To access a value by position, use `ser.iloc[pos]`\n",
      "  'eta':x[0],\n",
      "C:\\Users\\HP pavilion X360\\AppData\\Local\\Temp\\ipykernel_9600\\1955241609.py:5: FutureWarning: Series.__getitem__ treating keys as positions is deprecated. In a future version, integer keys will always be treated as labels (consistent with DataFrame behavior). To access a value by position, use `ser.iloc[pos]`\n",
      "  'subsample':x[1]}\n"
     ]
    },
    {
     "data": {
      "text/html": [
       "<div>\n",
       "<style scoped>\n",
       "    .dataframe tbody tr th:only-of-type {\n",
       "        vertical-align: middle;\n",
       "    }\n",
       "\n",
       "    .dataframe tbody tr th {\n",
       "        vertical-align: top;\n",
       "    }\n",
       "\n",
       "    .dataframe thead th {\n",
       "        text-align: right;\n",
       "    }\n",
       "</style>\n",
       "<table border=\"1\" class=\"dataframe\">\n",
       "  <thead>\n",
       "    <tr style=\"text-align: right;\">\n",
       "      <th></th>\n",
       "      <th>eta</th>\n",
       "      <th>subsample</th>\n",
       "      <th>train-logloss-mean</th>\n",
       "      <th>train-logloss-std</th>\n",
       "      <th>test-logloss-mean</th>\n",
       "      <th>test-logloss-std</th>\n",
       "    </tr>\n",
       "  </thead>\n",
       "  <tbody>\n",
       "    <tr>\n",
       "      <th>0</th>\n",
       "      <td>0.01</td>\n",
       "      <td>0.1</td>\n",
       "      <td>0.683647</td>\n",
       "      <td>0.000910</td>\n",
       "      <td>0.685438</td>\n",
       "      <td>0.002314</td>\n",
       "    </tr>\n",
       "    <tr>\n",
       "      <th>1</th>\n",
       "      <td>0.05</td>\n",
       "      <td>0.1</td>\n",
       "      <td>0.656713</td>\n",
       "      <td>0.003906</td>\n",
       "      <td>0.664873</td>\n",
       "      <td>0.009554</td>\n",
       "    </tr>\n",
       "    <tr>\n",
       "      <th>2</th>\n",
       "      <td>0.10</td>\n",
       "      <td>0.1</td>\n",
       "      <td>0.636572</td>\n",
       "      <td>0.005773</td>\n",
       "      <td>0.654258</td>\n",
       "      <td>0.018716</td>\n",
       "    </tr>\n",
       "    <tr>\n",
       "      <th>3</th>\n",
       "      <td>0.01</td>\n",
       "      <td>0.3</td>\n",
       "      <td>0.679544</td>\n",
       "      <td>0.001023</td>\n",
       "      <td>0.683823</td>\n",
       "      <td>0.001980</td>\n",
       "    </tr>\n",
       "    <tr>\n",
       "      <th>4</th>\n",
       "      <td>0.05</td>\n",
       "      <td>0.3</td>\n",
       "      <td>0.638237</td>\n",
       "      <td>0.003853</td>\n",
       "      <td>0.656394</td>\n",
       "      <td>0.009629</td>\n",
       "    </tr>\n",
       "    <tr>\n",
       "      <th>5</th>\n",
       "      <td>0.10</td>\n",
       "      <td>0.3</td>\n",
       "      <td>0.603551</td>\n",
       "      <td>0.005989</td>\n",
       "      <td>0.643264</td>\n",
       "      <td>0.013313</td>\n",
       "    </tr>\n",
       "  </tbody>\n",
       "</table>\n",
       "</div>"
      ],
      "text/plain": [
       "    eta  subsample  train-logloss-mean  train-logloss-std  test-logloss-mean  \\\n",
       "0  0.01        0.1            0.683647           0.000910           0.685438   \n",
       "1  0.05        0.1            0.656713           0.003906           0.664873   \n",
       "2  0.10        0.1            0.636572           0.005773           0.654258   \n",
       "3  0.01        0.3            0.679544           0.001023           0.683823   \n",
       "4  0.05        0.3            0.638237           0.003853           0.656394   \n",
       "5  0.10        0.3            0.603551           0.005989           0.643264   \n",
       "\n",
       "   test-logloss-std  \n",
       "0          0.002314  \n",
       "1          0.009554  \n",
       "2          0.018716  \n",
       "3          0.001980  \n",
       "4          0.009629  \n",
       "5          0.013313  "
      ]
     },
     "execution_count": 162,
     "metadata": {},
     "output_type": "execute_result"
    }
   ],
   "source": [
    "def fit(x):\n",
    "    params = {'objective':'binary:logistic',\n",
    "              'eval_metric':'logloss',\n",
    "              'eta':x[0],\n",
    "              'subsample':x[1]}\n",
    "    xgb_cv = xgb.cv(dtrain=data_dmatrix, params=params, \n",
    "    nfold=5, metrics = 'logloss',seed=42)\n",
    "    return xgb_cv[-1:].values[0]\n",
    "\n",
    "grid[['train-logloss-mean','train-logloss-std',\n",
    "'test-logloss-mean','test-logloss-std']] = grid.apply(fit,axis=1,result_type='expand')\n",
    "grid"
   ]
  },
  {
   "cell_type": "code",
   "execution_count": 163,
   "id": "832598b0",
   "metadata": {},
   "outputs": [],
   "source": [
    "xgb_reg = xgb.XGBRegressor(objective='binary:logistic',\n",
    "                           eval_metric = 'logloss',\n",
    "                           eta = 0.01,\n",
    "                           subsample = 0.1)\n",
    "\n",
    "xgb_reg.fit(ohe_train_sel, y_train)\n",
    "y_pred = xgb_reg.predict(ohe_test_sel) > .5"
   ]
  },
  {
   "cell_type": "code",
   "execution_count": 164,
   "id": "fd796a6c",
   "metadata": {
    "scrolled": true
   },
   "outputs": [
    {
     "name": "stdout",
     "output_type": "stream",
     "text": [
      "NB accuracy: 0.6338514680483592\n",
      "NB precision: 0.5988023952095808\n",
      "NB recall: 0.7194244604316546\n",
      "NB f1: 0.6535947712418301\n"
     ]
    }
   ],
   "source": [
    "print(f'NB accuracy: {metrics.accuracy_score(y_test, y_pred)}')\n",
    "print(f'NB precision: {metrics.precision_score(y_test, y_pred)}')\n",
    "print(f'NB recall: {metrics.recall_score(y_test, y_pred)}')\n",
    "print(f'NB f1: {f1_score(y_test, y_pred)}')"
   ]
  },
  {
   "cell_type": "code",
   "execution_count": null,
   "id": "cf406667",
   "metadata": {},
   "outputs": [],
   "source": []
  },
  {
   "cell_type": "markdown",
   "id": "5ff60d72",
   "metadata": {},
   "source": [
    "## 4. Random Forest"
   ]
  },
  {
   "cell_type": "code",
   "execution_count": 165,
   "id": "6b206ce7",
   "metadata": {},
   "outputs": [
    {
     "name": "stdout",
     "output_type": "stream",
     "text": [
      "Best params: {'class_weight': 'balanced', 'criterion': 'gini', 'max_depth': 28, 'min_samples_split': 8}\n"
     ]
    },
    {
     "data": {
      "text/plain": [
       "<Axes: >"
      ]
     },
     "execution_count": 165,
     "metadata": {},
     "output_type": "execute_result"
    },
    {
     "data": {
      "image/png": "[encoded data removed]",
      "text/plain": [
       "<Figure size 640x480 with 2 Axes>"
      ]
     },
     "metadata": {},
     "output_type": "display_data"
    }
   ],
   "source": [
    "rfc = RandomForestClassifier(random_state = 42, n_jobs = -2)\n",
    "parameters = {'max_depth':np.arange(3, 30, 5),\n",
    "             'criterion':['gini', 'entropy'], 'min_samples_split': np.arange(3, 30, 5),\n",
    "             'class_weight':['balanced', 'balanced_subsample']}\n",
    "grid = GridSearchCV(rfc, parameters, cv = 4)\n",
    "\n",
    "grid.fit(ohe_train_sel, y_train)\n",
    "print(f'Best params: {grid.best_params_}')\n",
    "rfc_pred = RandomForestClassifier(random_state = 42, max_depth = grid.best_params_['max_depth'],\n",
    "                                 criterion = grid.best_params_['criterion'],\n",
    "                                 min_samples_split = grid.best_params_['min_samples_split'],\n",
    "                                 class_weight = grid.best_params_['class_weight'])\n",
    "rfc_pred.fit(ohe_train_sel, y_train)\n",
    "y_pred = rfc_pred.predict(ohe_test_sel)\n",
    "\n",
    "contingency_matrix = metrics.cluster.contingency_matrix(y_pred,\n",
    "                                                      y_test)\n",
    "snx.heatmap(contingency_matrix, annot = True, fmt='')"
   ]
  },
  {
   "cell_type": "code",
   "execution_count": 166,
   "id": "0d949190",
   "metadata": {},
   "outputs": [
    {
     "name": "stdout",
     "output_type": "stream",
     "text": [
      "RFT accuracy: 0.6770293609671848\n",
      "RFT precision: 0.6444444444444445\n",
      "RFT recall: 0.7302158273381295\n",
      "RFT f1: 0.684654300168634\n"
     ]
    }
   ],
   "source": [
    "y_pred = rfc_pred.predict(ohe_test_sel)\n",
    "print(f'RFT accuracy: {metrics.accuracy_score(y_test, y_pred)}')\n",
    "print(f'RFT precision: {metrics.precision_score(y_test, y_pred)}')\n",
    "print(f'RFT recall: {metrics.recall_score(y_test, y_pred)}')\n",
    "print(f'RFT f1: {f1_score(y_test, y_pred)}')"
   ]
  },
  {
   "cell_type": "code",
   "execution_count": null,
   "id": "3eda8ff4-cc27-46b8-b900-c3f8bd9f711d",
   "metadata": {},
   "outputs": [],
   "source": []
  },
  {
   "cell_type": "markdown",
   "id": "b28bcdfd-cdbb-4134-88a2-9a09ada10f58",
   "metadata": {},
   "source": [
    "## 6. FCALC"
   ]
  },
  {
   "cell_type": "code",
   "execution_count": null,
   "id": "f944d2fd-c019-4791-8df8-ef0e43c92f01",
   "metadata": {},
   "outputs": [],
   "source": []
  },
  {
   "cell_type": "code",
   "execution_count": 167,
   "id": "66d7fea2-527a-49b7-aecf-88e7d90acb1e",
   "metadata": {},
   "outputs": [
    {
     "name": "stdout",
     "output_type": "stream",
     "text": [
      "{'0': [array([0.52317881, 0.61497326]), array([0.        , 0.5483871 , 0.61157025]), array([0.        , 0.5       , 0.62857143]), array([0.        , 0.66229508, 0.7173913 ])], '3': [array([0., 0., 0.]), array([0., 0., 0.]), array([0., 0., 0.]), array([0., 0., 0.])], '6': [array([0., 0., 0.]), array([0., 0., 0.]), array([0., 0., 0.]), array([0., 0., 0.])], '9': [array([0., 0., 0.]), array([0., 0., 0.]), array([0., 0., 0.]), array([0., 0., 0.])]}\n"
     ]
    }
   ],
   "source": [
    "best_params = dict()\n",
    "kf = KFold(n_splits=4, shuffle = True, random_state=42)\n",
    "# ohe_train_sel = ohe_train.toarray()[:, features].astype(int)\n",
    "for train, test in kf.split(ohe_train_sel):\n",
    "    for alpha in np.arange(0, 10, 3):\n",
    "        if str(alpha) not in list(best_params.keys()):\n",
    "            best_params[str(alpha)]=[]\n",
    "        bin_cls = fcalc.classifier.BinarizedBinaryClassifier(ohe_train_sel[train], y_train.astype(int)[train], method = 'standard', alpha = alpha)\n",
    "        # bin_cls = fcalc.classifier.BinarizedBinaryClassifier(ohe_train.toarray()[train], y_train[train], method = 'standard')\n",
    "        bin_cls.predict(ohe_train_sel[test])\n",
    "        f1 = f1_score(y_train.astype(int)[test], bin_cls.predictions, average = None)\n",
    "        best_params[str(alpha)].append(f1)\n",
    "\n",
    "print(best_params)"
   ]
  },
  {
   "cell_type": "code",
   "execution_count": 168,
   "id": "42f0ceec-28a1-4ea0-b1b7-ee1c366697ed",
   "metadata": {},
   "outputs": [],
   "source": [
    "bin_cls = fcalc.classifier.BinarizedBinaryClassifier(ohe_train_sel, y_train, method = 'standard', alpha = 0)\n",
    "y_pred = bin_cls.predict(ohe_test_sel)"
   ]
  },
  {
   "cell_type": "code",
   "execution_count": 169,
   "id": "a6bfd34f-5367-46c7-b4bb-e8346d16909b",
   "metadata": {},
   "outputs": [],
   "source": [
    "bin_cls.predict(ohe_test_sel)\n",
    "y_pred = bin_cls.predictions"
   ]
  },
  {
   "cell_type": "code",
   "execution_count": 170,
   "id": "6d1d3011-de21-49cc-9279-bda818a30951",
   "metadata": {},
   "outputs": [
    {
     "data": {
      "text/plain": [
       "<Axes: >"
      ]
     },
     "execution_count": 170,
     "metadata": {},
     "output_type": "execute_result"
    },
    {
     "data": {
      "image/png": "[encoded data removed]",
      "text/plain": [
       "<Figure size 640x480 with 2 Axes>"
      ]
     },
     "metadata": {},
     "output_type": "display_data"
    }
   ],
   "source": [
    "contingency_matrix = metrics.cluster.contingency_matrix(y_pred, y_test)\n",
    "snx.heatmap(contingency_matrix, annot = True, fmt='')"
   ]
  },
  {
   "cell_type": "code",
   "execution_count": 171,
   "id": "50686676-942a-4300-8b84-742db03fc2ce",
   "metadata": {
    "scrolled": true
   },
   "outputs": [
    {
     "name": "stdout",
     "output_type": "stream",
     "text": [
      "0.6200345423143351\n",
      "[0.         0.6        0.63920923]\n"
     ]
    }
   ],
   "source": [
    "print(accuracy_score(y_test, y_pred))\n",
    "print(f1_score(y_test, y_pred, average = None))"
   ]
  },
  {
   "cell_type": "code",
   "execution_count": null,
   "id": "76f0782a-6e6d-493d-ae3f-0e980debc55b",
   "metadata": {},
   "outputs": [],
   "source": []
  },
  {
   "cell_type": "markdown",
   "id": "018e8596-4bd1-4162-b46a-b117327f8e85",
   "metadata": {},
   "source": [
    "## Pattern Structure"
   ]
  },
  {
   "cell_type": "code",
   "execution_count": 172,
   "id": "c02b163c-a60d-4296-a382-7d88118ffe43",
   "metadata": {},
   "outputs": [
    {
     "name": "stdout",
     "output_type": "stream",
     "text": [
      "[0.56626506 0.58139535]\n",
      "[0.         0.61917808 0.54545455]\n",
      "[0.52830189 0.57865169]\n",
      "[0.         0.6741573  0.63091483]\n"
     ]
    }
   ],
   "source": [
    "best_params = dict()\n",
    "kf = KFold(n_splits=4, shuffle = True, random_state=42)\n",
    "# ohe_train_sel = ohe_train.toarray()[:, features].astype(int)\n",
    "for train, test in kf.split(ohe_train_sel):\n",
    "    pat_cls = fcalc.classifier.PatternBinaryClassifier(ohe_train_sel[train], y_train[train], categorical=np.arange(ohe_train_sel[test].shape[1]))\n",
    "    pat_cls.predict(ohe_train_sel[test])\n",
    "    f1 = f1_score(y_train[test], pat_cls.predictions, average = None)\n",
    "    # best_params[str(alpha)].append(f1)\n",
    "    print(f1)\n",
    "\n",
    "# print(best_params)"
   ]
  },
  {
   "cell_type": "code",
   "execution_count": 173,
   "id": "ef0c62f8-f30e-4843-8d65-9f29d50dd8c3",
   "metadata": {},
   "outputs": [],
   "source": [
    "pat_cls = fcalc.classifier.PatternBinaryClassifier(ohe_train_sel, y_train, categorical=np.arange(ohe_train_sel.shape[1]))\n",
    "pat_cls.predict(ohe_test_sel)"
   ]
  },
  {
   "cell_type": "code",
   "execution_count": 174,
   "id": "74261681-0111-4a83-9696-44a970bcc969",
   "metadata": {},
   "outputs": [
    {
     "data": {
      "text/plain": [
       "<Axes: >"
      ]
     },
     "execution_count": 174,
     "metadata": {},
     "output_type": "execute_result"
    },
    {
     "data": {
      "image/png": "[encoded data removed]",
      "text/plain": [
       "<Figure size 640x480 with 2 Axes>"
      ]
     },
     "metadata": {},
     "output_type": "display_data"
    }
   ],
   "source": [
    "y_pred = pat_cls.predictions\n",
    "contingency_matrix = metrics.cluster.contingency_matrix(y_pred, y_test)\n",
    "snx.heatmap(contingency_matrix, annot = True, fmt='')"
   ]
  },
  {
   "cell_type": "code",
   "execution_count": 179,
   "id": "0c509255-8b8a-43e2-9efa-c044528aa4f0",
   "metadata": {},
   "outputs": [
    {
     "name": "stdout",
     "output_type": "stream",
     "text": [
      "0.6338514680483592\n",
      "0.42196776929601354\n"
     ]
    }
   ],
   "source": [
    "print(accuracy_score(y_test, y_pred))\n",
    "print(f1_score(y_test, y_pred, average = 'macro'))"
   ]
  },
  {
   "cell_type": "code",
   "execution_count": null,
   "id": "56c2fded-abe5-459c-93bf-c8e27847e915",
   "metadata": {},
   "outputs": [],
   "source": []
  },
  {
   "cell_type": "markdown",
   "id": "a09d255d-9102-4558-806b-82a138c4f774",
   "metadata": {},
   "source": [
    "# Aphasia_BCI"
   ]
  },
  {
   "cell_type": "code",
   "execution_count": 195,
   "id": "5f6ce191-a2d1-4458-87ec-7f26c80c6a3d",
   "metadata": {},
   "outputs": [],
   "source": [
    "os.chdir(\"C:/Users/HP pavilion X360/Desktop/OSDA/big_homework\")\n",
    "from sklearn.decomposition import PCA"
   ]
  },
  {
   "cell_type": "code",
   "execution_count": 193,
   "id": "22c2a2e5-7445-46e9-8c21-d8aaad322b83",
   "metadata": {},
   "outputs": [],
   "source": [
    "# subj = 'S001'\n",
    "# epochs = mne.read_epochs('S001R01_epo.fif')\n",
    "# events = epochs.events\n",
    "# X = epochs.pick('eeg').get_data()"
   ]
  },
  {
   "cell_type": "code",
   "execution_count": 194,
   "id": "ec082bac-751a-463f-8303-9eae7d8288a8",
   "metadata": {},
   "outputs": [],
   "source": [
    "# X = X[:, :, :-1]\n",
    "# X = X.reshape(X.shape[0], -1)\n",
    "# X = np.array(X).squeeze()\n",
    "# xy = pd.DataFrame(X)\n",
    "# xy['target'] =  events[:,-1].flatten()"
   ]
  },
  {
   "cell_type": "code",
   "execution_count": 192,
   "id": "1d9f2b3b-2389-41df-aa4d-f43d0fb47c86",
   "metadata": {},
   "outputs": [],
   "source": [
    "# X = X[:, :, :-1]\n",
    "# X = X.reshape(X.shape[0], -1)\n",
    "# X = np.array(X).squeeze()\n",
    "\n",
    "# # Выделяем метки\n",
    "# y = events[:,-1].flatten()\n",
    "# xy.to_csv('aphasia_bci.csv')"
   ]
  },
  {
   "cell_type": "code",
   "execution_count": 202,
   "id": "4fcc497e-0717-4ad8-a1b1-33271bea4d5e",
   "metadata": {},
   "outputs": [],
   "source": [
    "data = pd.read_csv('aphasia_bci.csv')"
   ]
  },
  {
   "cell_type": "code",
   "execution_count": 199,
   "id": "c854747d-a77e-4738-822d-e2a6287c5164",
   "metadata": {},
   "outputs": [
    {
     "data": {
      "text/plain": [
       "array([0, 0, 0, ..., 1, 0, 0])"
      ]
     },
     "execution_count": 199,
     "metadata": {},
     "output_type": "execute_result"
    }
   ],
   "source": [
    "y = (data['target'].values >=1).astype(int)\n",
    "y"
   ]
  },
  {
   "cell_type": "code",
   "execution_count": 203,
   "id": "57a9eae7-2ac4-42e8-98f7-77d971f6a743",
   "metadata": {},
   "outputs": [],
   "source": [
    "data.drop(['Unnamed: 0', 'target'], axis = 1, inplace = True)\n",
    "X = data"
   ]
  },
  {
   "cell_type": "code",
   "execution_count": 206,
   "id": "c94e3771-07da-445a-8c40-cf3b2d2ae716",
   "metadata": {},
   "outputs": [
    {
     "data": {
      "text/plain": [
       "(1017, 3500)"
      ]
     },
     "execution_count": 206,
     "metadata": {},
     "output_type": "execute_result"
    }
   ],
   "source": [
    "X.shape"
   ]
  },
  {
   "cell_type": "code",
   "execution_count": 233,
   "id": "258c4bd8-7b29-483c-b0c7-40e27d3d0226",
   "metadata": {},
   "outputs": [
    {
     "name": "stdout",
     "output_type": "stream",
     "text": [
      "Shape transformations:\n",
      "X:\t(1017, 2, 1751)\t->\t(1017, 2, 1750)\t  ->\t(1017, 3500)\n",
      "X_pca:\t(1017, 3500)\t->\t(1017, 80)\n",
      "y:\t(1017, 3)\t->\t(1017,)\n"
     ]
    }
   ],
   "source": [
    "pca = PCA(80) # Количество компонент\n",
    "X_pca = pca.fit_transform(X)\n",
    "\n",
    "print('Shape transformations:')\n",
    "print(f'X:\\t{epochs.get_data().shape}\\t->\\t{epochs.get_data()[:, :, :-1].shape}\\t  ->\\t{X.shape}')\n",
    "print(f'X_pca:\\t{X.shape}\\t->\\t{X_pca.shape}')\n",
    "print(f'y:\\t{epochs.events.shape}\\t->\\t{epochs.events[:,-1].flatten().shape}')"
   ]
  },
  {
   "cell_type": "code",
   "execution_count": null,
   "id": "612a9fc5-9066-403c-beaa-d1b856be15c6",
   "metadata": {},
   "outputs": [],
   "source": []
  },
  {
   "cell_type": "code",
   "execution_count": 234,
   "id": "33f97d1e-f75b-4a7b-8fbe-83cb7047f377",
   "metadata": {},
   "outputs": [],
   "source": [
    "from sklearn.model_selection import train_test_split, GridSearchCV, StratifiedShuffleSplit\n"
   ]
  },
  {
   "cell_type": "code",
   "execution_count": 235,
   "id": "46f40076-642a-45fa-b0e1-e7f6df0b45e5",
   "metadata": {},
   "outputs": [
    {
     "name": "stdout",
     "output_type": "stream",
     "text": [
      "Train:\t\tX: (711, 80) ,  y: (711,) ,  %: ~69.91\n",
      "Test:\t\tX: (306, 80) ,  y: (306,) ,  %: ~30.09\n"
     ]
    }
   ],
   "source": [
    "split_parameters = {'n_splits': 1,\n",
    "                    'test_size': 0.3, # 20% -- 10/50 повт. на тестирование\n",
    "                                      # 80% -- 40/50 повт. на обучение\n",
    "                    'random_state': 42}\n",
    "\n",
    "# Делим данные сигнала (X) и соответствующих движений (y) на обучение и тестирование\n",
    "for train_index, test_index in StratifiedShuffleSplit(**split_parameters).split(X_pca, y):\n",
    "    X_train, X_test = X_pca[train_index], X_pca[test_index]\n",
    "    y_train, y_test = y[train_index], y[test_index]\n",
    "\n",
    "# Вывод поясняющих метрик\n",
    "print(f'Train:\\t\\tX: {X_train.shape} ,  y: {y_train.shape} ,  %: ~{100*y_train.shape[0]/y.shape[0]:.2f}')\n",
    "print(f'Test:\\t\\tX: {X_test.shape} ,  y: {y_test.shape} ,  %: ~{100*y_test.shape[0]/y.shape[0]:.2f}')"
   ]
  },
  {
   "cell_type": "code",
   "execution_count": null,
   "id": "0ac29b42-19e0-44fc-9f24-9163fe523e57",
   "metadata": {},
   "outputs": [],
   "source": []
  },
  {
   "cell_type": "code",
   "execution_count": null,
   "id": "2ec71835-b1e9-4220-9200-4cff17f9d3c6",
   "metadata": {},
   "outputs": [],
   "source": []
  },
  {
   "cell_type": "code",
   "execution_count": 11,
   "id": "ea7ea081-6002-4c8b-96d2-262d9eb1bd53",
   "metadata": {
    "scrolled": true
   },
   "outputs": [],
   "source": [
    "# data = pd.read_csv('bci_aphasia.csv')"
   ]
  },
  {
   "cell_type": "code",
   "execution_count": 12,
   "id": "a7760d1d-f300-4e50-8b2a-2fd0412b5e44",
   "metadata": {},
   "outputs": [],
   "source": [
    "# data"
   ]
  },
  {
   "cell_type": "code",
   "execution_count": 13,
   "id": "2b6dda0b-ee09-43d4-8dcf-a657158ffeac",
   "metadata": {},
   "outputs": [],
   "source": [
    "# y = data.target\n",
    "# data.drop('target', axis = 1, inplace = True)\n",
    "# data.drop(['epoch', 'Unnamed: 0'], axis = 1, inplace = True)\n",
    "# X = data"
   ]
  },
  {
   "cell_type": "code",
   "execution_count": 236,
   "id": "a2e781ab-5adb-4b2c-b690-55c243e031f2",
   "metadata": {},
   "outputs": [],
   "source": [
    "stsc = StandardScaler()\n",
    "stsc.fit(X_train)\n",
    "train = pd.DataFrame(stsc.transform(X_train))\n",
    "test = pd.DataFrame(stsc.transform(X_test))"
   ]
  },
  {
   "cell_type": "code",
   "execution_count": 237,
   "id": "c6ac2330-bce0-413d-9643-44a694efafc3",
   "metadata": {},
   "outputs": [
    {
     "data": {
      "text/plain": [
       "(711, 80)"
      ]
     },
     "execution_count": 237,
     "metadata": {},
     "output_type": "execute_result"
    }
   ],
   "source": [
    "train.shape"
   ]
  },
  {
   "cell_type": "code",
   "execution_count": 238,
   "id": "a385b216-b310-42ea-8a1b-20cc82f5ab71",
   "metadata": {},
   "outputs": [],
   "source": [
    "kbins = KBinsDiscretizer(n_bins=4, encode='ordinal', strategy='quantile', subsample=None).fit(train)\n",
    "new_train = pd.DataFrame(kbins.transform(train), columns = pd.DataFrame(X_pca).columns)\n",
    "# new_train['channel'] = X_train[:, -1]\n",
    "new_test = pd.DataFrame(kbins.transform(test), columns = pd.DataFrame(X_pca).columns)\n",
    "# new_test['channel'] = X_test[:, -1]"
   ]
  },
  {
   "cell_type": "code",
   "execution_count": 239,
   "id": "3bf3a8ca-8d68-4e42-bbf5-e87f44084a8f",
   "metadata": {},
   "outputs": [
    {
     "data": {
      "text/html": [
       "<div>\n",
       "<style scoped>\n",
       "    .dataframe tbody tr th:only-of-type {\n",
       "        vertical-align: middle;\n",
       "    }\n",
       "\n",
       "    .dataframe tbody tr th {\n",
       "        vertical-align: top;\n",
       "    }\n",
       "\n",
       "    .dataframe thead th {\n",
       "        text-align: right;\n",
       "    }\n",
       "</style>\n",
       "<table border=\"1\" class=\"dataframe\">\n",
       "  <thead>\n",
       "    <tr style=\"text-align: right;\">\n",
       "      <th></th>\n",
       "      <th>0</th>\n",
       "      <th>1</th>\n",
       "      <th>2</th>\n",
       "      <th>3</th>\n",
       "      <th>4</th>\n",
       "      <th>5</th>\n",
       "      <th>6</th>\n",
       "      <th>7</th>\n",
       "      <th>8</th>\n",
       "      <th>9</th>\n",
       "      <th>...</th>\n",
       "      <th>70</th>\n",
       "      <th>71</th>\n",
       "      <th>72</th>\n",
       "      <th>73</th>\n",
       "      <th>74</th>\n",
       "      <th>75</th>\n",
       "      <th>76</th>\n",
       "      <th>77</th>\n",
       "      <th>78</th>\n",
       "      <th>79</th>\n",
       "    </tr>\n",
       "  </thead>\n",
       "  <tbody>\n",
       "    <tr>\n",
       "      <th>0</th>\n",
       "      <td>1.0</td>\n",
       "      <td>2.0</td>\n",
       "      <td>2.0</td>\n",
       "      <td>1.0</td>\n",
       "      <td>1.0</td>\n",
       "      <td>1.0</td>\n",
       "      <td>2.0</td>\n",
       "      <td>1.0</td>\n",
       "      <td>1.0</td>\n",
       "      <td>3.0</td>\n",
       "      <td>...</td>\n",
       "      <td>0.0</td>\n",
       "      <td>3.0</td>\n",
       "      <td>3.0</td>\n",
       "      <td>2.0</td>\n",
       "      <td>1.0</td>\n",
       "      <td>0.0</td>\n",
       "      <td>3.0</td>\n",
       "      <td>3.0</td>\n",
       "      <td>2.0</td>\n",
       "      <td>2.0</td>\n",
       "    </tr>\n",
       "    <tr>\n",
       "      <th>1</th>\n",
       "      <td>2.0</td>\n",
       "      <td>0.0</td>\n",
       "      <td>1.0</td>\n",
       "      <td>2.0</td>\n",
       "      <td>1.0</td>\n",
       "      <td>3.0</td>\n",
       "      <td>3.0</td>\n",
       "      <td>1.0</td>\n",
       "      <td>0.0</td>\n",
       "      <td>3.0</td>\n",
       "      <td>...</td>\n",
       "      <td>1.0</td>\n",
       "      <td>1.0</td>\n",
       "      <td>0.0</td>\n",
       "      <td>1.0</td>\n",
       "      <td>2.0</td>\n",
       "      <td>2.0</td>\n",
       "      <td>1.0</td>\n",
       "      <td>0.0</td>\n",
       "      <td>3.0</td>\n",
       "      <td>2.0</td>\n",
       "    </tr>\n",
       "    <tr>\n",
       "      <th>2</th>\n",
       "      <td>0.0</td>\n",
       "      <td>2.0</td>\n",
       "      <td>1.0</td>\n",
       "      <td>0.0</td>\n",
       "      <td>3.0</td>\n",
       "      <td>3.0</td>\n",
       "      <td>0.0</td>\n",
       "      <td>0.0</td>\n",
       "      <td>1.0</td>\n",
       "      <td>0.0</td>\n",
       "      <td>...</td>\n",
       "      <td>3.0</td>\n",
       "      <td>3.0</td>\n",
       "      <td>1.0</td>\n",
       "      <td>0.0</td>\n",
       "      <td>1.0</td>\n",
       "      <td>1.0</td>\n",
       "      <td>3.0</td>\n",
       "      <td>0.0</td>\n",
       "      <td>0.0</td>\n",
       "      <td>1.0</td>\n",
       "    </tr>\n",
       "    <tr>\n",
       "      <th>3</th>\n",
       "      <td>0.0</td>\n",
       "      <td>1.0</td>\n",
       "      <td>0.0</td>\n",
       "      <td>3.0</td>\n",
       "      <td>3.0</td>\n",
       "      <td>3.0</td>\n",
       "      <td>0.0</td>\n",
       "      <td>0.0</td>\n",
       "      <td>3.0</td>\n",
       "      <td>1.0</td>\n",
       "      <td>...</td>\n",
       "      <td>1.0</td>\n",
       "      <td>0.0</td>\n",
       "      <td>0.0</td>\n",
       "      <td>0.0</td>\n",
       "      <td>2.0</td>\n",
       "      <td>3.0</td>\n",
       "      <td>1.0</td>\n",
       "      <td>2.0</td>\n",
       "      <td>0.0</td>\n",
       "      <td>3.0</td>\n",
       "    </tr>\n",
       "    <tr>\n",
       "      <th>4</th>\n",
       "      <td>0.0</td>\n",
       "      <td>2.0</td>\n",
       "      <td>2.0</td>\n",
       "      <td>1.0</td>\n",
       "      <td>1.0</td>\n",
       "      <td>1.0</td>\n",
       "      <td>3.0</td>\n",
       "      <td>1.0</td>\n",
       "      <td>3.0</td>\n",
       "      <td>1.0</td>\n",
       "      <td>...</td>\n",
       "      <td>2.0</td>\n",
       "      <td>1.0</td>\n",
       "      <td>1.0</td>\n",
       "      <td>0.0</td>\n",
       "      <td>0.0</td>\n",
       "      <td>3.0</td>\n",
       "      <td>1.0</td>\n",
       "      <td>1.0</td>\n",
       "      <td>1.0</td>\n",
       "      <td>2.0</td>\n",
       "    </tr>\n",
       "    <tr>\n",
       "      <th>...</th>\n",
       "      <td>...</td>\n",
       "      <td>...</td>\n",
       "      <td>...</td>\n",
       "      <td>...</td>\n",
       "      <td>...</td>\n",
       "      <td>...</td>\n",
       "      <td>...</td>\n",
       "      <td>...</td>\n",
       "      <td>...</td>\n",
       "      <td>...</td>\n",
       "      <td>...</td>\n",
       "      <td>...</td>\n",
       "      <td>...</td>\n",
       "      <td>...</td>\n",
       "      <td>...</td>\n",
       "      <td>...</td>\n",
       "      <td>...</td>\n",
       "      <td>...</td>\n",
       "      <td>...</td>\n",
       "      <td>...</td>\n",
       "      <td>...</td>\n",
       "    </tr>\n",
       "    <tr>\n",
       "      <th>706</th>\n",
       "      <td>3.0</td>\n",
       "      <td>2.0</td>\n",
       "      <td>2.0</td>\n",
       "      <td>0.0</td>\n",
       "      <td>2.0</td>\n",
       "      <td>1.0</td>\n",
       "      <td>0.0</td>\n",
       "      <td>1.0</td>\n",
       "      <td>2.0</td>\n",
       "      <td>2.0</td>\n",
       "      <td>...</td>\n",
       "      <td>1.0</td>\n",
       "      <td>3.0</td>\n",
       "      <td>3.0</td>\n",
       "      <td>3.0</td>\n",
       "      <td>0.0</td>\n",
       "      <td>0.0</td>\n",
       "      <td>3.0</td>\n",
       "      <td>0.0</td>\n",
       "      <td>3.0</td>\n",
       "      <td>2.0</td>\n",
       "    </tr>\n",
       "    <tr>\n",
       "      <th>707</th>\n",
       "      <td>0.0</td>\n",
       "      <td>0.0</td>\n",
       "      <td>0.0</td>\n",
       "      <td>1.0</td>\n",
       "      <td>1.0</td>\n",
       "      <td>3.0</td>\n",
       "      <td>0.0</td>\n",
       "      <td>2.0</td>\n",
       "      <td>2.0</td>\n",
       "      <td>0.0</td>\n",
       "      <td>...</td>\n",
       "      <td>1.0</td>\n",
       "      <td>0.0</td>\n",
       "      <td>3.0</td>\n",
       "      <td>3.0</td>\n",
       "      <td>1.0</td>\n",
       "      <td>3.0</td>\n",
       "      <td>2.0</td>\n",
       "      <td>0.0</td>\n",
       "      <td>2.0</td>\n",
       "      <td>3.0</td>\n",
       "    </tr>\n",
       "    <tr>\n",
       "      <th>708</th>\n",
       "      <td>3.0</td>\n",
       "      <td>0.0</td>\n",
       "      <td>3.0</td>\n",
       "      <td>2.0</td>\n",
       "      <td>3.0</td>\n",
       "      <td>0.0</td>\n",
       "      <td>1.0</td>\n",
       "      <td>2.0</td>\n",
       "      <td>3.0</td>\n",
       "      <td>0.0</td>\n",
       "      <td>...</td>\n",
       "      <td>1.0</td>\n",
       "      <td>2.0</td>\n",
       "      <td>1.0</td>\n",
       "      <td>1.0</td>\n",
       "      <td>2.0</td>\n",
       "      <td>2.0</td>\n",
       "      <td>2.0</td>\n",
       "      <td>1.0</td>\n",
       "      <td>0.0</td>\n",
       "      <td>1.0</td>\n",
       "    </tr>\n",
       "    <tr>\n",
       "      <th>709</th>\n",
       "      <td>3.0</td>\n",
       "      <td>3.0</td>\n",
       "      <td>0.0</td>\n",
       "      <td>0.0</td>\n",
       "      <td>1.0</td>\n",
       "      <td>1.0</td>\n",
       "      <td>1.0</td>\n",
       "      <td>3.0</td>\n",
       "      <td>1.0</td>\n",
       "      <td>1.0</td>\n",
       "      <td>...</td>\n",
       "      <td>0.0</td>\n",
       "      <td>3.0</td>\n",
       "      <td>0.0</td>\n",
       "      <td>2.0</td>\n",
       "      <td>0.0</td>\n",
       "      <td>3.0</td>\n",
       "      <td>1.0</td>\n",
       "      <td>1.0</td>\n",
       "      <td>0.0</td>\n",
       "      <td>2.0</td>\n",
       "    </tr>\n",
       "    <tr>\n",
       "      <th>710</th>\n",
       "      <td>0.0</td>\n",
       "      <td>1.0</td>\n",
       "      <td>1.0</td>\n",
       "      <td>2.0</td>\n",
       "      <td>2.0</td>\n",
       "      <td>1.0</td>\n",
       "      <td>2.0</td>\n",
       "      <td>0.0</td>\n",
       "      <td>2.0</td>\n",
       "      <td>3.0</td>\n",
       "      <td>...</td>\n",
       "      <td>1.0</td>\n",
       "      <td>3.0</td>\n",
       "      <td>0.0</td>\n",
       "      <td>1.0</td>\n",
       "      <td>1.0</td>\n",
       "      <td>3.0</td>\n",
       "      <td>3.0</td>\n",
       "      <td>0.0</td>\n",
       "      <td>2.0</td>\n",
       "      <td>0.0</td>\n",
       "    </tr>\n",
       "  </tbody>\n",
       "</table>\n",
       "<p>711 rows × 80 columns</p>\n",
       "</div>"
      ],
      "text/plain": [
       "      0    1    2    3    4    5    6    7    8    9   ...   70   71   72  \\\n",
       "0    1.0  2.0  2.0  1.0  1.0  1.0  2.0  1.0  1.0  3.0  ...  0.0  3.0  3.0   \n",
       "1    2.0  0.0  1.0  2.0  1.0  3.0  3.0  1.0  0.0  3.0  ...  1.0  1.0  0.0   \n",
       "2    0.0  2.0  1.0  0.0  3.0  3.0  0.0  0.0  1.0  0.0  ...  3.0  3.0  1.0   \n",
       "3    0.0  1.0  0.0  3.0  3.0  3.0  0.0  0.0  3.0  1.0  ...  1.0  0.0  0.0   \n",
       "4    0.0  2.0  2.0  1.0  1.0  1.0  3.0  1.0  3.0  1.0  ...  2.0  1.0  1.0   \n",
       "..   ...  ...  ...  ...  ...  ...  ...  ...  ...  ...  ...  ...  ...  ...   \n",
       "706  3.0  2.0  2.0  0.0  2.0  1.0  0.0  1.0  2.0  2.0  ...  1.0  3.0  3.0   \n",
       "707  0.0  0.0  0.0  1.0  1.0  3.0  0.0  2.0  2.0  0.0  ...  1.0  0.0  3.0   \n",
       "708  3.0  0.0  3.0  2.0  3.0  0.0  1.0  2.0  3.0  0.0  ...  1.0  2.0  1.0   \n",
       "709  3.0  3.0  0.0  0.0  1.0  1.0  1.0  3.0  1.0  1.0  ...  0.0  3.0  0.0   \n",
       "710  0.0  1.0  1.0  2.0  2.0  1.0  2.0  0.0  2.0  3.0  ...  1.0  3.0  0.0   \n",
       "\n",
       "      73   74   75   76   77   78   79  \n",
       "0    2.0  1.0  0.0  3.0  3.0  2.0  2.0  \n",
       "1    1.0  2.0  2.0  1.0  0.0  3.0  2.0  \n",
       "2    0.0  1.0  1.0  3.0  0.0  0.0  1.0  \n",
       "3    0.0  2.0  3.0  1.0  2.0  0.0  3.0  \n",
       "4    0.0  0.0  3.0  1.0  1.0  1.0  2.0  \n",
       "..   ...  ...  ...  ...  ...  ...  ...  \n",
       "706  3.0  0.0  0.0  3.0  0.0  3.0  2.0  \n",
       "707  3.0  1.0  3.0  2.0  0.0  2.0  3.0  \n",
       "708  1.0  2.0  2.0  2.0  1.0  0.0  1.0  \n",
       "709  2.0  0.0  3.0  1.0  1.0  0.0  2.0  \n",
       "710  1.0  1.0  3.0  3.0  0.0  2.0  0.0  \n",
       "\n",
       "[711 rows x 80 columns]"
      ]
     },
     "execution_count": 239,
     "metadata": {},
     "output_type": "execute_result"
    }
   ],
   "source": [
    "new_train"
   ]
  },
  {
   "cell_type": "code",
   "execution_count": 240,
   "id": "6bf6e69c-6c85-40c9-8eae-71463083272b",
   "metadata": {},
   "outputs": [],
   "source": [
    "ohe = OneHotEncoder(drop = 'first').fit(new_train)\n",
    "ohe_train = ohe.transform(new_train)\n",
    "ohe_test = ohe.transform(new_test)"
   ]
  },
  {
   "cell_type": "code",
   "execution_count": 241,
   "id": "2890f869-8ef4-40f0-a5a9-5848d3c12769",
   "metadata": {
    "scrolled": true
   },
   "outputs": [
    {
     "data": {
      "text/plain": [
       "((306, 240), (711, 240))"
      ]
     },
     "execution_count": 241,
     "metadata": {},
     "output_type": "execute_result"
    }
   ],
   "source": [
    "ohe_test.toarray().shape, ohe_train.toarray().shape"
   ]
  },
  {
   "cell_type": "code",
   "execution_count": 242,
   "id": "0d8d3e77-b864-4b29-97ab-45dc55d97a85",
   "metadata": {},
   "outputs": [
    {
     "data": {
      "text/plain": [
       "0    573\n",
       "1    138\n",
       "Name: count, dtype: int64"
      ]
     },
     "execution_count": 242,
     "metadata": {},
     "output_type": "execute_result"
    }
   ],
   "source": [
    "pd.DataFrame(y_train).value_counts()"
   ]
  },
  {
   "cell_type": "code",
   "execution_count": 243,
   "id": "a0a8b91c-8b6a-4223-aa55-107751e64a3f",
   "metadata": {},
   "outputs": [
    {
     "data": {
      "image/png": "[encoded data removed]",
      "text/plain": [
       "<Figure size 640x480 with 1 Axes>"
      ]
     },
     "metadata": {},
     "output_type": "display_data"
    }
   ],
   "source": [
    "from skfeature.function.similarity_based import fisher_score\n",
    "import matplotlib.pyplot as plt\n",
    "\n",
    "# Вычисляем критерий\n",
    "# Где X, y - входные и выходные данные соответственно.\n",
    "ranks = fisher_score.fisher_score(ohe_train.toarray(), y_train)\n",
    "\n",
    "# Делаем график наших \"фич\"\n",
    "# Где data - ваш датасет\n",
    "feature_importances = pd.Series(ranks)\n",
    "feature_importances.plot(kind='barh', color='teal')\n",
    "plt.show()"
   ]
  },
  {
   "cell_type": "code",
   "execution_count": 244,
   "id": "7a1434f7-efc1-43e4-9ee4-2ea800fee080",
   "metadata": {},
   "outputs": [],
   "source": [
    "ohe_train_sel = ohe_train[:, feature_importances>40].toarray().astype(int)\n",
    "ohe_test_sel = ohe_test[:, feature_importances>40].toarray().astype(int)"
   ]
  },
  {
   "cell_type": "code",
   "execution_count": 245,
   "id": "ab0e138a-9f16-438a-92ae-aa1e9c33d07d",
   "metadata": {},
   "outputs": [
    {
     "data": {
      "text/plain": [
       "(711, 199)"
      ]
     },
     "execution_count": 245,
     "metadata": {},
     "output_type": "execute_result"
    }
   ],
   "source": [
    "ohe_train_sel.shape"
   ]
  },
  {
   "cell_type": "markdown",
   "id": "98fe1dcc-7ef7-4ec5-ba5c-f689c7662c33",
   "metadata": {},
   "source": [
    "## 1. KNN"
   ]
  },
  {
   "cell_type": "code",
   "execution_count": 246,
   "id": "184eac5f-afed-4b2d-80c9-5094ea5c2666",
   "metadata": {},
   "outputs": [
    {
     "name": "stdout",
     "output_type": "stream",
     "text": [
      "Best params: {'metric': 'euclidean', 'n_neighbors': 4, 'weights': 'uniform'}\n"
     ]
    },
    {
     "data": {
      "text/plain": [
       "<Axes: >"
      ]
     },
     "execution_count": 246,
     "metadata": {},
     "output_type": "execute_result"
    },
    {
     "data": {
      "image/png": "[encoded data removed]",
      "text/plain": [
       "<Figure size 640x480 with 2 Axes>"
      ]
     },
     "metadata": {},
     "output_type": "display_data"
    }
   ],
   "source": [
    "knn = KNeighborsClassifier()\n",
    "parameters = {'n_neighbors':np.arange(1, 30, 1), 'metric': ('euclidean', 'manhattan'),\n",
    "             'weights':('uniform', 'distance')}\n",
    "grid = GridSearchCV(knn, parameters, cv = 4)\n",
    "\n",
    "grid.fit(ohe_train_sel, y_train)\n",
    "print(f'Best params: {grid.best_params_}')\n",
    "knn_pred = KNeighborsClassifier(metric = grid.best_params_['metric'], n_neighbors = grid.best_params_['n_neighbors'],\n",
    "                               weights = grid.best_params_['weights'])\n",
    "knn_pred.fit(ohe_train_sel, y_train)\n",
    "\n",
    "y_pred = knn_pred.predict(ohe_test_sel)\n",
    "\n",
    "contingency_matrix = metrics.cluster.contingency_matrix(y_pred, y_test)\n",
    "snx.heatmap(contingency_matrix, annot = True, fmt='')"
   ]
  },
  {
   "cell_type": "code",
   "execution_count": 247,
   "id": "c72fe149-90eb-4089-982c-ccd2aa110e4d",
   "metadata": {},
   "outputs": [
    {
     "data": {
      "text/plain": [
       "(array([0, 1]), array([247,  59], dtype=int64))"
      ]
     },
     "execution_count": 247,
     "metadata": {},
     "output_type": "execute_result"
    }
   ],
   "source": [
    "np.unique(y_test, return_counts=True)"
   ]
  },
  {
   "cell_type": "code",
   "execution_count": 248,
   "id": "8b627836-0bb2-4976-ab6b-c19f81ea24b1",
   "metadata": {},
   "outputs": [
    {
     "data": {
      "text/plain": [
       "(array([0, 1]), array([573, 138], dtype=int64))"
      ]
     },
     "execution_count": 248,
     "metadata": {},
     "output_type": "execute_result"
    }
   ],
   "source": [
    "np.unique(y_train, return_counts=True)"
   ]
  },
  {
   "cell_type": "code",
   "execution_count": 249,
   "id": "9ab73ac0-4251-4852-ae43-0531e08fb987",
   "metadata": {},
   "outputs": [
    {
     "name": "stdout",
     "output_type": "stream",
     "text": [
      "Accuracy: 0.7908496732026143\n",
      "Precision: 0.3076923076923077\n",
      "recall: 0.06779661016949153\n",
      "f1: 0.1111111111111111\n"
     ]
    }
   ],
   "source": [
    "print(f'Accuracy: {metrics.accuracy_score(y_pred = y_pred, y_true = 1*(y_test==1))}')\n",
    "print(f'Precision: {metrics.precision_score(y_pred = y_pred, y_true = 1*(y_test==1))}')\n",
    "print(f'recall: {metrics.recall_score(y_pred = y_pred, y_true = 1*(y_test==1))}')\n",
    "print(f'f1: {metrics.f1_score(y_pred = y_pred, y_true = 1*(y_test==1))}')"
   ]
  },
  {
   "cell_type": "markdown",
   "id": "eb0032ff-4ced-4bbb-9939-42a3a4e4d2c8",
   "metadata": {},
   "source": [
    "## 2. Logistic Regression"
   ]
  },
  {
   "cell_type": "code",
   "execution_count": 250,
   "id": "c405e0e7-004f-4447-a8fc-e184c5b6aaf5",
   "metadata": {
    "scrolled": true
   },
   "outputs": [
    {
     "name": "stdout",
     "output_type": "stream",
     "text": [
      "Best params: {'C': 7.1, 'class_weight': 'balanced', 'penalty': 'l2', 'solver': 'liblinear'}\n"
     ]
    },
    {
     "data": {
      "text/plain": [
       "<Axes: >"
      ]
     },
     "execution_count": 250,
     "metadata": {},
     "output_type": "execute_result"
    },
    {
     "data": {
      "image/png": "[encoded data removed]",
      "text/plain": [
       "<Figure size 640x480 with 2 Axes>"
      ]
     },
     "metadata": {},
     "output_type": "display_data"
    }
   ],
   "source": [
    "lr = LogisticRegression(max_iter = 10000, random_state = 42)\n",
    "parameters = {'C':np.arange(0.1, 10, 1), 'penalty': ('l2', 'l1'),\n",
    "             'class_weight': ['balanced'],\n",
    "             'solver' : ['saga', 'liblinear']}\n",
    "grid = GridSearchCV(lr, parameters, cv = 4, n_jobs = -2)\n",
    "\n",
    "grid.fit(ohe_train_sel, 1*(y_train==1))\n",
    "print(f'Best params: {grid.best_params_}')\n",
    "    \n",
    "lr_pred = LogisticRegression(C = grid.best_params_['C'], penalty = grid.best_params_['penalty'],\n",
    "                               class_weight = grid.best_params_['class_weight'],\n",
    "                            solver = grid.best_params_['solver'])\n",
    "lr_pred.fit(ohe_train_sel, 1*(y_train==1))\n",
    "\n",
    "y_pred = lr_pred.predict(ohe_test_sel)\n",
    "\n",
    "contingency_matrix = metrics.cluster.contingency_matrix(y_pred,\n",
    "                                                      1*(y_test==1))\n",
    "snx.heatmap(contingency_matrix, annot = True, fmt='')"
   ]
  },
  {
   "cell_type": "code",
   "execution_count": 251,
   "id": "90b27054-7cdc-48f1-b90d-edfd51560939",
   "metadata": {},
   "outputs": [
    {
     "name": "stdout",
     "output_type": "stream",
     "text": [
      "Logistic Regression accuracy: 0.5751633986928104\n",
      "Logistic Regression precision: 0.19658119658119658\n",
      "Logistic Regression recall: 0.3898305084745763\n",
      "Logistic Regression f1: 0.26136363636363635\n"
     ]
    }
   ],
   "source": [
    "print(f'Logistic Regression accuracy: {metrics.accuracy_score(1*(y_test==1), y_pred)}')\n",
    "print(f'Logistic Regression precision: {metrics.precision_score(1*(y_test==1), y_pred)}')\n",
    "print(f'Logistic Regression recall: {metrics.recall_score(1*(y_test==1), y_pred)}')\n",
    "print(f'Logistic Regression f1: {f1_score(1*(y_test==1), y_pred)}')"
   ]
  },
  {
   "cell_type": "code",
   "execution_count": null,
   "id": "a5e9c187-478a-4069-8ffd-ab17561d4723",
   "metadata": {},
   "outputs": [],
   "source": []
  },
  {
   "cell_type": "code",
   "execution_count": 252,
   "id": "03df0992-067f-4b8c-8442-481b0a8ef22a",
   "metadata": {},
   "outputs": [],
   "source": [
    "# # lr_pred = LogisticRegression(max_iter = 10000, random_state = 42)\n",
    "# bfs = SequentialFeatureSelector(lr_pred, k_features='best', forward = False, n_jobs=-2)\n",
    "# bfs.fit(ohe_train.toarray().astype(int), y_train)\n",
    "# features = list(bfs.k_feature_names_)\n",
    "# features = list(map(int, features))\n",
    "# lr_pred.fit(ohe_train.toarray()[:, features].astype(int), y_train)\n",
    "# y_pred = lr_pred.predict(ohe_test.toarray()[:, features].astype(int))"
   ]
  },
  {
   "cell_type": "code",
   "execution_count": 253,
   "id": "035cf380-7967-4272-9f6d-94dbd73ae8e4",
   "metadata": {},
   "outputs": [],
   "source": [
    "# print(f'Logistic Regression accuracy: {metrics.accuracy_score(y_test, y_pred)}')\n",
    "# print(f'Logistic Regression precision: {metrics.precision_score(y_test, y_pred)}')\n",
    "# print(f'Logistic Regression recall: {metrics.recall_score(y_test, y_pred)}')\n",
    "# print(f'Logistic Regression f1: {f1_score(y_test, y_pred)}')"
   ]
  },
  {
   "cell_type": "code",
   "execution_count": null,
   "id": "3257dd07-1d27-43e3-b182-506f85bc6bb2",
   "metadata": {},
   "outputs": [],
   "source": []
  },
  {
   "cell_type": "markdown",
   "id": "01ebbabb-a757-4507-9e36-08b934d57373",
   "metadata": {},
   "source": [
    "## 3.a XGBoost"
   ]
  },
  {
   "cell_type": "code",
   "execution_count": 254,
   "id": "3f7ba928-1fec-4713-9495-01e220606173",
   "metadata": {},
   "outputs": [
    {
     "data": {
      "text/html": [
       "<div>\n",
       "<style scoped>\n",
       "    .dataframe tbody tr th:only-of-type {\n",
       "        vertical-align: middle;\n",
       "    }\n",
       "\n",
       "    .dataframe tbody tr th {\n",
       "        vertical-align: top;\n",
       "    }\n",
       "\n",
       "    .dataframe thead th {\n",
       "        text-align: right;\n",
       "    }\n",
       "</style>\n",
       "<table border=\"1\" class=\"dataframe\">\n",
       "  <thead>\n",
       "    <tr style=\"text-align: right;\">\n",
       "      <th></th>\n",
       "      <th>train-logloss-mean</th>\n",
       "      <th>train-logloss-std</th>\n",
       "      <th>test-logloss-mean</th>\n",
       "      <th>test-logloss-std</th>\n",
       "    </tr>\n",
       "  </thead>\n",
       "  <tbody>\n",
       "    <tr>\n",
       "      <th>0</th>\n",
       "      <td>0.494801</td>\n",
       "      <td>0.009598</td>\n",
       "      <td>0.496044</td>\n",
       "      <td>0.033270</td>\n",
       "    </tr>\n",
       "    <tr>\n",
       "      <th>1</th>\n",
       "      <td>0.494520</td>\n",
       "      <td>0.009541</td>\n",
       "      <td>0.495727</td>\n",
       "      <td>0.033556</td>\n",
       "    </tr>\n",
       "    <tr>\n",
       "      <th>2</th>\n",
       "      <td>0.494232</td>\n",
       "      <td>0.009455</td>\n",
       "      <td>0.495468</td>\n",
       "      <td>0.033603</td>\n",
       "    </tr>\n",
       "    <tr>\n",
       "      <th>3</th>\n",
       "      <td>0.493882</td>\n",
       "      <td>0.009396</td>\n",
       "      <td>0.495418</td>\n",
       "      <td>0.033758</td>\n",
       "    </tr>\n",
       "    <tr>\n",
       "      <th>4</th>\n",
       "      <td>0.493558</td>\n",
       "      <td>0.009448</td>\n",
       "      <td>0.495501</td>\n",
       "      <td>0.034019</td>\n",
       "    </tr>\n",
       "    <tr>\n",
       "      <th>5</th>\n",
       "      <td>0.493206</td>\n",
       "      <td>0.009464</td>\n",
       "      <td>0.495333</td>\n",
       "      <td>0.034245</td>\n",
       "    </tr>\n",
       "    <tr>\n",
       "      <th>6</th>\n",
       "      <td>0.492906</td>\n",
       "      <td>0.009447</td>\n",
       "      <td>0.495615</td>\n",
       "      <td>0.034524</td>\n",
       "    </tr>\n",
       "    <tr>\n",
       "      <th>7</th>\n",
       "      <td>0.492717</td>\n",
       "      <td>0.009427</td>\n",
       "      <td>0.495773</td>\n",
       "      <td>0.034097</td>\n",
       "    </tr>\n",
       "    <tr>\n",
       "      <th>8</th>\n",
       "      <td>0.492388</td>\n",
       "      <td>0.009298</td>\n",
       "      <td>0.495856</td>\n",
       "      <td>0.033858</td>\n",
       "    </tr>\n",
       "    <tr>\n",
       "      <th>9</th>\n",
       "      <td>0.492153</td>\n",
       "      <td>0.009275</td>\n",
       "      <td>0.495751</td>\n",
       "      <td>0.034106</td>\n",
       "    </tr>\n",
       "  </tbody>\n",
       "</table>\n",
       "</div>"
      ],
      "text/plain": [
       "   train-logloss-mean  train-logloss-std  test-logloss-mean  test-logloss-std\n",
       "0            0.494801           0.009598           0.496044          0.033270\n",
       "1            0.494520           0.009541           0.495727          0.033556\n",
       "2            0.494232           0.009455           0.495468          0.033603\n",
       "3            0.493882           0.009396           0.495418          0.033758\n",
       "4            0.493558           0.009448           0.495501          0.034019\n",
       "5            0.493206           0.009464           0.495333          0.034245\n",
       "6            0.492906           0.009447           0.495615          0.034524\n",
       "7            0.492717           0.009427           0.495773          0.034097\n",
       "8            0.492388           0.009298           0.495856          0.033858\n",
       "9            0.492153           0.009275           0.495751          0.034106"
      ]
     },
     "execution_count": 254,
     "metadata": {},
     "output_type": "execute_result"
    }
   ],
   "source": [
    "import pandas as pd\n",
    "import numpy as np\n",
    "import xgboost as xgb\n",
    "from sklearn.model_selection import train_test_split\n",
    "from sklearn.datasets import make_classification\n",
    "\n",
    "# X, y = make_classification(n_samples=500,class_sep=0.7)\n",
    "\n",
    "data_dmatrix = xgb.DMatrix(data=ohe_train_sel,label=(y_train==1)*1)\n",
    "params = {'objective':'binary:logistic','eval_metric':'logloss',\n",
    "          'eta':0.01,\n",
    "          'subsample':0.1}\n",
    "xgb_cv = xgb.cv(dtrain=data_dmatrix, params=params, nfold=5, metrics = 'logloss',seed=42) \n",
    "xgb_cv"
   ]
  },
  {
   "cell_type": "code",
   "execution_count": 255,
   "id": "b9df1997-5532-4241-a696-5d3ad8a21211",
   "metadata": {},
   "outputs": [],
   "source": [
    "grid = pd.DataFrame({'eta':[0.01,0.3,0.5]*9,\n",
    "                     'gamma':[0, 0.1, 1]*9,\n",
    "                     'subsample':np.repeat([0.5, .6, .7],9)})"
   ]
  },
  {
   "cell_type": "code",
   "execution_count": 256,
   "id": "cefa068b-6be9-4c33-b3c8-cf893d8777ce",
   "metadata": {
    "scrolled": true
   },
   "outputs": [
    {
     "name": "stderr",
     "output_type": "stream",
     "text": [
      "C:\\Users\\HP pavilion X360\\AppData\\Local\\Temp\\ipykernel_9600\\2668654758.py:4: FutureWarning: Series.__getitem__ treating keys as positions is deprecated. In a future version, integer keys will always be treated as labels (consistent with DataFrame behavior). To access a value by position, use `ser.iloc[pos]`\n",
      "  'eta':x[0],\n",
      "C:\\Users\\HP pavilion X360\\AppData\\Local\\Temp\\ipykernel_9600\\2668654758.py:5: FutureWarning: Series.__getitem__ treating keys as positions is deprecated. In a future version, integer keys will always be treated as labels (consistent with DataFrame behavior). To access a value by position, use `ser.iloc[pos]`\n",
      "  'subsample':x[1],\n"
     ]
    },
    {
     "data": {
      "text/html": [
       "<div>\n",
       "<style scoped>\n",
       "    .dataframe tbody tr th:only-of-type {\n",
       "        vertical-align: middle;\n",
       "    }\n",
       "\n",
       "    .dataframe tbody tr th {\n",
       "        vertical-align: top;\n",
       "    }\n",
       "\n",
       "    .dataframe thead th {\n",
       "        text-align: right;\n",
       "    }\n",
       "</style>\n",
       "<table border=\"1\" class=\"dataframe\">\n",
       "  <thead>\n",
       "    <tr style=\"text-align: right;\">\n",
       "      <th></th>\n",
       "      <th>eta</th>\n",
       "      <th>gamma</th>\n",
       "      <th>subsample</th>\n",
       "      <th>train-logloss-mean</th>\n",
       "      <th>train-logloss-std</th>\n",
       "      <th>test-logloss-mean</th>\n",
       "      <th>test-logloss-std</th>\n",
       "    </tr>\n",
       "  </thead>\n",
       "  <tbody>\n",
       "    <tr>\n",
       "      <th>0</th>\n",
       "      <td>0.01</td>\n",
       "      <td>0.0</td>\n",
       "      <td>0.5</td>\n",
       "      <td>0.495227</td>\n",
       "      <td>0.009589</td>\n",
       "      <td>0.496252</td>\n",
       "      <td>0.033308</td>\n",
       "    </tr>\n",
       "    <tr>\n",
       "      <th>1</th>\n",
       "      <td>0.30</td>\n",
       "      <td>0.1</td>\n",
       "      <td>0.5</td>\n",
       "      <td>0.489433</td>\n",
       "      <td>0.019703</td>\n",
       "      <td>0.556872</td>\n",
       "      <td>0.048334</td>\n",
       "    </tr>\n",
       "    <tr>\n",
       "      <th>2</th>\n",
       "      <td>0.50</td>\n",
       "      <td>1.0</td>\n",
       "      <td>0.5</td>\n",
       "      <td>0.095650</td>\n",
       "      <td>0.003555</td>\n",
       "      <td>0.606220</td>\n",
       "      <td>0.079479</td>\n",
       "    </tr>\n",
       "    <tr>\n",
       "      <th>3</th>\n",
       "      <td>0.01</td>\n",
       "      <td>0.0</td>\n",
       "      <td>0.5</td>\n",
       "      <td>0.495227</td>\n",
       "      <td>0.009589</td>\n",
       "      <td>0.496252</td>\n",
       "      <td>0.033308</td>\n",
       "    </tr>\n",
       "    <tr>\n",
       "      <th>4</th>\n",
       "      <td>0.30</td>\n",
       "      <td>0.1</td>\n",
       "      <td>0.5</td>\n",
       "      <td>0.489433</td>\n",
       "      <td>0.019703</td>\n",
       "      <td>0.556872</td>\n",
       "      <td>0.048334</td>\n",
       "    </tr>\n",
       "    <tr>\n",
       "      <th>5</th>\n",
       "      <td>0.50</td>\n",
       "      <td>1.0</td>\n",
       "      <td>0.5</td>\n",
       "      <td>0.095650</td>\n",
       "      <td>0.003555</td>\n",
       "      <td>0.606220</td>\n",
       "      <td>0.079479</td>\n",
       "    </tr>\n",
       "    <tr>\n",
       "      <th>6</th>\n",
       "      <td>0.01</td>\n",
       "      <td>0.0</td>\n",
       "      <td>0.5</td>\n",
       "      <td>0.495227</td>\n",
       "      <td>0.009589</td>\n",
       "      <td>0.496252</td>\n",
       "      <td>0.033308</td>\n",
       "    </tr>\n",
       "    <tr>\n",
       "      <th>7</th>\n",
       "      <td>0.30</td>\n",
       "      <td>0.1</td>\n",
       "      <td>0.5</td>\n",
       "      <td>0.489433</td>\n",
       "      <td>0.019703</td>\n",
       "      <td>0.556872</td>\n",
       "      <td>0.048334</td>\n",
       "    </tr>\n",
       "    <tr>\n",
       "      <th>8</th>\n",
       "      <td>0.50</td>\n",
       "      <td>1.0</td>\n",
       "      <td>0.5</td>\n",
       "      <td>0.095650</td>\n",
       "      <td>0.003555</td>\n",
       "      <td>0.606220</td>\n",
       "      <td>0.079479</td>\n",
       "    </tr>\n",
       "    <tr>\n",
       "      <th>9</th>\n",
       "      <td>0.01</td>\n",
       "      <td>0.0</td>\n",
       "      <td>0.6</td>\n",
       "      <td>0.495227</td>\n",
       "      <td>0.009589</td>\n",
       "      <td>0.496252</td>\n",
       "      <td>0.033308</td>\n",
       "    </tr>\n",
       "    <tr>\n",
       "      <th>10</th>\n",
       "      <td>0.30</td>\n",
       "      <td>0.1</td>\n",
       "      <td>0.6</td>\n",
       "      <td>0.489433</td>\n",
       "      <td>0.019703</td>\n",
       "      <td>0.556872</td>\n",
       "      <td>0.048334</td>\n",
       "    </tr>\n",
       "    <tr>\n",
       "      <th>11</th>\n",
       "      <td>0.50</td>\n",
       "      <td>1.0</td>\n",
       "      <td>0.6</td>\n",
       "      <td>0.095650</td>\n",
       "      <td>0.003555</td>\n",
       "      <td>0.606220</td>\n",
       "      <td>0.079479</td>\n",
       "    </tr>\n",
       "    <tr>\n",
       "      <th>12</th>\n",
       "      <td>0.01</td>\n",
       "      <td>0.0</td>\n",
       "      <td>0.6</td>\n",
       "      <td>0.495227</td>\n",
       "      <td>0.009589</td>\n",
       "      <td>0.496252</td>\n",
       "      <td>0.033308</td>\n",
       "    </tr>\n",
       "    <tr>\n",
       "      <th>13</th>\n",
       "      <td>0.30</td>\n",
       "      <td>0.1</td>\n",
       "      <td>0.6</td>\n",
       "      <td>0.489433</td>\n",
       "      <td>0.019703</td>\n",
       "      <td>0.556872</td>\n",
       "      <td>0.048334</td>\n",
       "    </tr>\n",
       "    <tr>\n",
       "      <th>14</th>\n",
       "      <td>0.50</td>\n",
       "      <td>1.0</td>\n",
       "      <td>0.6</td>\n",
       "      <td>0.095650</td>\n",
       "      <td>0.003555</td>\n",
       "      <td>0.606220</td>\n",
       "      <td>0.079479</td>\n",
       "    </tr>\n",
       "    <tr>\n",
       "      <th>15</th>\n",
       "      <td>0.01</td>\n",
       "      <td>0.0</td>\n",
       "      <td>0.6</td>\n",
       "      <td>0.495227</td>\n",
       "      <td>0.009589</td>\n",
       "      <td>0.496252</td>\n",
       "      <td>0.033308</td>\n",
       "    </tr>\n",
       "    <tr>\n",
       "      <th>16</th>\n",
       "      <td>0.30</td>\n",
       "      <td>0.1</td>\n",
       "      <td>0.6</td>\n",
       "      <td>0.489433</td>\n",
       "      <td>0.019703</td>\n",
       "      <td>0.556872</td>\n",
       "      <td>0.048334</td>\n",
       "    </tr>\n",
       "    <tr>\n",
       "      <th>17</th>\n",
       "      <td>0.50</td>\n",
       "      <td>1.0</td>\n",
       "      <td>0.6</td>\n",
       "      <td>0.095650</td>\n",
       "      <td>0.003555</td>\n",
       "      <td>0.606220</td>\n",
       "      <td>0.079479</td>\n",
       "    </tr>\n",
       "    <tr>\n",
       "      <th>18</th>\n",
       "      <td>0.01</td>\n",
       "      <td>0.0</td>\n",
       "      <td>0.7</td>\n",
       "      <td>0.495227</td>\n",
       "      <td>0.009589</td>\n",
       "      <td>0.496252</td>\n",
       "      <td>0.033308</td>\n",
       "    </tr>\n",
       "    <tr>\n",
       "      <th>19</th>\n",
       "      <td>0.30</td>\n",
       "      <td>0.1</td>\n",
       "      <td>0.7</td>\n",
       "      <td>0.489433</td>\n",
       "      <td>0.019703</td>\n",
       "      <td>0.556872</td>\n",
       "      <td>0.048334</td>\n",
       "    </tr>\n",
       "    <tr>\n",
       "      <th>20</th>\n",
       "      <td>0.50</td>\n",
       "      <td>1.0</td>\n",
       "      <td>0.7</td>\n",
       "      <td>0.095650</td>\n",
       "      <td>0.003555</td>\n",
       "      <td>0.606220</td>\n",
       "      <td>0.079479</td>\n",
       "    </tr>\n",
       "    <tr>\n",
       "      <th>21</th>\n",
       "      <td>0.01</td>\n",
       "      <td>0.0</td>\n",
       "      <td>0.7</td>\n",
       "      <td>0.495227</td>\n",
       "      <td>0.009589</td>\n",
       "      <td>0.496252</td>\n",
       "      <td>0.033308</td>\n",
       "    </tr>\n",
       "    <tr>\n",
       "      <th>22</th>\n",
       "      <td>0.30</td>\n",
       "      <td>0.1</td>\n",
       "      <td>0.7</td>\n",
       "      <td>0.489433</td>\n",
       "      <td>0.019703</td>\n",
       "      <td>0.556872</td>\n",
       "      <td>0.048334</td>\n",
       "    </tr>\n",
       "    <tr>\n",
       "      <th>23</th>\n",
       "      <td>0.50</td>\n",
       "      <td>1.0</td>\n",
       "      <td>0.7</td>\n",
       "      <td>0.095650</td>\n",
       "      <td>0.003555</td>\n",
       "      <td>0.606220</td>\n",
       "      <td>0.079479</td>\n",
       "    </tr>\n",
       "    <tr>\n",
       "      <th>24</th>\n",
       "      <td>0.01</td>\n",
       "      <td>0.0</td>\n",
       "      <td>0.7</td>\n",
       "      <td>0.495227</td>\n",
       "      <td>0.009589</td>\n",
       "      <td>0.496252</td>\n",
       "      <td>0.033308</td>\n",
       "    </tr>\n",
       "    <tr>\n",
       "      <th>25</th>\n",
       "      <td>0.30</td>\n",
       "      <td>0.1</td>\n",
       "      <td>0.7</td>\n",
       "      <td>0.489433</td>\n",
       "      <td>0.019703</td>\n",
       "      <td>0.556872</td>\n",
       "      <td>0.048334</td>\n",
       "    </tr>\n",
       "    <tr>\n",
       "      <th>26</th>\n",
       "      <td>0.50</td>\n",
       "      <td>1.0</td>\n",
       "      <td>0.7</td>\n",
       "      <td>0.095650</td>\n",
       "      <td>0.003555</td>\n",
       "      <td>0.606220</td>\n",
       "      <td>0.079479</td>\n",
       "    </tr>\n",
       "  </tbody>\n",
       "</table>\n",
       "</div>"
      ],
      "text/plain": [
       "     eta  gamma  subsample  train-logloss-mean  train-logloss-std  \\\n",
       "0   0.01    0.0        0.5            0.495227           0.009589   \n",
       "1   0.30    0.1        0.5            0.489433           0.019703   \n",
       "2   0.50    1.0        0.5            0.095650           0.003555   \n",
       "3   0.01    0.0        0.5            0.495227           0.009589   \n",
       "4   0.30    0.1        0.5            0.489433           0.019703   \n",
       "5   0.50    1.0        0.5            0.095650           0.003555   \n",
       "6   0.01    0.0        0.5            0.495227           0.009589   \n",
       "7   0.30    0.1        0.5            0.489433           0.019703   \n",
       "8   0.50    1.0        0.5            0.095650           0.003555   \n",
       "9   0.01    0.0        0.6            0.495227           0.009589   \n",
       "10  0.30    0.1        0.6            0.489433           0.019703   \n",
       "11  0.50    1.0        0.6            0.095650           0.003555   \n",
       "12  0.01    0.0        0.6            0.495227           0.009589   \n",
       "13  0.30    0.1        0.6            0.489433           0.019703   \n",
       "14  0.50    1.0        0.6            0.095650           0.003555   \n",
       "15  0.01    0.0        0.6            0.495227           0.009589   \n",
       "16  0.30    0.1        0.6            0.489433           0.019703   \n",
       "17  0.50    1.0        0.6            0.095650           0.003555   \n",
       "18  0.01    0.0        0.7            0.495227           0.009589   \n",
       "19  0.30    0.1        0.7            0.489433           0.019703   \n",
       "20  0.50    1.0        0.7            0.095650           0.003555   \n",
       "21  0.01    0.0        0.7            0.495227           0.009589   \n",
       "22  0.30    0.1        0.7            0.489433           0.019703   \n",
       "23  0.50    1.0        0.7            0.095650           0.003555   \n",
       "24  0.01    0.0        0.7            0.495227           0.009589   \n",
       "25  0.30    0.1        0.7            0.489433           0.019703   \n",
       "26  0.50    1.0        0.7            0.095650           0.003555   \n",
       "\n",
       "    test-logloss-mean  test-logloss-std  \n",
       "0            0.496252          0.033308  \n",
       "1            0.556872          0.048334  \n",
       "2            0.606220          0.079479  \n",
       "3            0.496252          0.033308  \n",
       "4            0.556872          0.048334  \n",
       "5            0.606220          0.079479  \n",
       "6            0.496252          0.033308  \n",
       "7            0.556872          0.048334  \n",
       "8            0.606220          0.079479  \n",
       "9            0.496252          0.033308  \n",
       "10           0.556872          0.048334  \n",
       "11           0.606220          0.079479  \n",
       "12           0.496252          0.033308  \n",
       "13           0.556872          0.048334  \n",
       "14           0.606220          0.079479  \n",
       "15           0.496252          0.033308  \n",
       "16           0.556872          0.048334  \n",
       "17           0.606220          0.079479  \n",
       "18           0.496252          0.033308  \n",
       "19           0.556872          0.048334  \n",
       "20           0.606220          0.079479  \n",
       "21           0.496252          0.033308  \n",
       "22           0.556872          0.048334  \n",
       "23           0.606220          0.079479  \n",
       "24           0.496252          0.033308  \n",
       "25           0.556872          0.048334  \n",
       "26           0.606220          0.079479  "
      ]
     },
     "execution_count": 256,
     "metadata": {},
     "output_type": "execute_result"
    }
   ],
   "source": [
    "def fit(x):\n",
    "    params = {'objective':'binary:logistic',\n",
    "              'eval_metric':'logloss',\n",
    "              'eta':x[0],\n",
    "              'subsample':x[1],\n",
    "             'lambda' : '1'}\n",
    "    xgb_cv = xgb.cv(dtrain=data_dmatrix, params=params, \n",
    "    nfold=5, metrics = 'logloss',seed=42)\n",
    "    return xgb_cv[-1:].values[0]\n",
    "\n",
    "grid[['train-logloss-mean','train-logloss-std',\n",
    "'test-logloss-mean','test-logloss-std']] = grid.apply(fit,axis=1,result_type='expand')\n",
    "grid"
   ]
  },
  {
   "cell_type": "code",
   "execution_count": 257,
   "id": "46465416-f14d-4741-866d-24a7cc59000c",
   "metadata": {},
   "outputs": [
    {
     "data": {
      "text/plain": [
       "<Axes: >"
      ]
     },
     "execution_count": 257,
     "metadata": {},
     "output_type": "execute_result"
    },
    {
     "data": {
      "image/png": "[encoded data removed]",
      "text/plain": [
       "<Figure size 640x480 with 2 Axes>"
      ]
     },
     "metadata": {},
     "output_type": "display_data"
    }
   ],
   "source": [
    "xgb_reg = xgb.XGBRegressor(objective='binary:logistic',\n",
    "                           eval_metric = 'logloss',\n",
    "                           eta = 0.5,\n",
    "                           subsample = 0.6,\n",
    "                          gamma =1)\n",
    "\n",
    "xgb_reg.fit(ohe_train_sel, (y_train==1)*1) \n",
    "y_pred = xgb_reg.predict(ohe_test_sel)\n",
    "\n",
    "contingency_matrix = metrics.cluster.contingency_matrix(y_pred >=.3,\n",
    "                                                      (y_test==1)*1)\n",
    "snx.heatmap(contingency_matrix, annot = True, fmt='')"
   ]
  },
  {
   "cell_type": "code",
   "execution_count": 271,
   "id": "92eafb4a-f1cb-4ec9-aca6-dbd6d558ba4c",
   "metadata": {
    "scrolled": true
   },
   "outputs": [
    {
     "name": "stdout",
     "output_type": "stream",
     "text": [
      "NB accuracy: 0.696078431372549\n",
      "NB precision: [0.81300813 0.21666667]\n",
      "NB recall: [0.8097166  0.22033898]\n",
      "NB f1: 0.5149232106635757\n"
     ]
    }
   ],
   "source": [
    "y_pred = xgb_reg.predict(ohe_test_sel) > .3\n",
    "print(f'NB accuracy: {metrics.accuracy_score((y_test >= 1), y_pred)}')\n",
    "print(f'NB precision: {metrics.precision_score((y_test >= 1), y_pred, average = None)}')\n",
    "print(f'NB recall: {metrics.recall_score((y_test >= 1), y_pred, average = None)}')\n",
    "print(f'NB f1: {f1_score(y_test, y_pred, average = \"macro\")}')\n"
   ]
  },
  {
   "cell_type": "code",
   "execution_count": null,
   "id": "a4a77973-d8d0-4e87-b1d8-af639c3ab807",
   "metadata": {},
   "outputs": [],
   "source": []
  },
  {
   "cell_type": "markdown",
   "id": "8c1fc4cc-f4c7-4627-bac9-89b702d0cec6",
   "metadata": {},
   "source": [
    "## 4. Random Forest"
   ]
  },
  {
   "cell_type": "code",
   "execution_count": 288,
   "id": "bf1a5748-33d1-4584-b544-0bb38c6fac05",
   "metadata": {},
   "outputs": [
    {
     "name": "stdout",
     "output_type": "stream",
     "text": [
      "Best params: {'class_weight': 'balanced', 'criterion': 'entropy', 'max_depth': 8, 'min_samples_split': 13}\n"
     ]
    },
    {
     "data": {
      "text/plain": [
       "<Axes: >"
      ]
     },
     "execution_count": 288,
     "metadata": {},
     "output_type": "execute_result"
    },
    {
     "data": {
      "image/png": "[encoded data removed]",
      "text/plain": [
       "<Figure size 640x480 with 2 Axes>"
      ]
     },
     "metadata": {},
     "output_type": "display_data"
    }
   ],
   "source": [
    "rfc = RandomForestClassifier(random_state = 42, n_jobs = -2)\n",
    "parameters = {'max_depth':np.arange(3, 30, 5),\n",
    "             'criterion':['gini', 'entropy'], 'min_samples_split': np.arange(3, 30, 5),\n",
    "             'class_weight':['balanced', 'balanced_subsample']}\n",
    "grid = GridSearchCV(rfc, parameters, cv = 4)\n",
    "\n",
    "grid.fit(ohe_train_sel, y_train)\n",
    "print(f'Best params: {grid.best_params_}')\n",
    "rfc_pred = RandomForestClassifier(random_state = 42, max_depth = grid.best_params_['max_depth'],\n",
    "                                 criterion = grid.best_params_['criterion'],\n",
    "                                 min_samples_split = grid.best_params_['min_samples_split'],\n",
    "                                 class_weight = grid.best_params_['class_weight'])\n",
    "rfc_pred.fit(ohe_train_sel, y_train)\n",
    "y_pred = rfc_pred.predict(ohe_test_sel)\n",
    "\n",
    "contingency_matrix = metrics.cluster.contingency_matrix(y_pred,y_test)\n",
    "snx.heatmap(contingency_matrix, annot = True, fmt='')"
   ]
  },
  {
   "cell_type": "code",
   "execution_count": 289,
   "id": "65fbbca9-0199-444e-9754-42b7b54b45a2",
   "metadata": {},
   "outputs": [
    {
     "name": "stdout",
     "output_type": "stream",
     "text": [
      "RFT accuracy: 0.8071895424836601\n",
      "RFT precision: [0.80718954 0.        ]\n",
      "RFT recall: [1. 0.]\n",
      "RFT f1: 0.44665461121157324\n"
     ]
    },
    {
     "name": "stderr",
     "output_type": "stream",
     "text": [
      "C:\\Users\\HP pavilion X360\\AppData\\Local\\Programs\\Python\\Python311\\Lib\\site-packages\\sklearn\\metrics\\_classification.py:1471: UndefinedMetricWarning: Precision is ill-defined and being set to 0.0 in labels with no predicted samples. Use `zero_division` parameter to control this behavior.\n",
      "  _warn_prf(average, modifier, msg_start, len(result))\n"
     ]
    }
   ],
   "source": [
    "# y_pred = rfc_pred.predict(ohe_test_sel)\n",
    "print(f'RFT accuracy: {metrics.accuracy_score(y_test, y_pred)}')\n",
    "print(f'RFT precision: {metrics.precision_score(y_test, y_pred, average = None)}')\n",
    "print(f'RFT recall: {metrics.recall_score(y_test, y_pred, average = None)}')\n",
    "print(f'RFT f1: {f1_score(y_test, y_pred, average = \"macro\")}')"
   ]
  },
  {
   "cell_type": "code",
   "execution_count": null,
   "id": "f3cc584b-522f-4873-bb8a-289d48bba9ac",
   "metadata": {},
   "outputs": [],
   "source": []
  },
  {
   "cell_type": "code",
   "execution_count": null,
   "id": "5c0e0524-ca38-43dd-82d0-69535231e6a6",
   "metadata": {},
   "outputs": [],
   "source": []
  },
  {
   "cell_type": "markdown",
   "id": "5d010c19-274d-47fe-b5a4-b9acaa9c68e6",
   "metadata": {},
   "source": [
    "## 6. FCALC"
   ]
  },
  {
   "cell_type": "code",
   "execution_count": 304,
   "id": "c6062503-54b4-46a1-b743-f0e306a9cf55",
   "metadata": {},
   "outputs": [
    {
     "name": "stdout",
     "output_type": "stream",
     "text": [
      "{'0': [array([0., 0., 0.]), array([0., 0., 0.]), array([0., 0., 0.]), array([0., 0., 0.])], '1': [array([0., 0., 0.]), array([0., 0., 0.]), array([0., 0., 0.]), array([0., 0., 0.])]}\n"
     ]
    }
   ],
   "source": [
    "best_params = dict()\n",
    "kf = KFold(n_splits=4, shuffle = True, random_state=42)\n",
    "for train, test in kf.split(ohe_train_sel):\n",
    "    for alpha in [0, 1]:\n",
    "        if str(alpha) not in list(best_params.keys()):\n",
    "            best_params[str(alpha)]=[]\n",
    "        bin_cls = fcalc.classifier.BinarizedBinaryClassifier(ohe_train_sel[train], (y_train>=1).astype(int)[train], method = 's', alpha = alpha)\n",
    "        # bin_cls = fcalc.classifier.BinarizedBinaryClassifier(ohe_train.toarray()[train], y_train[train], method = 'standard')\n",
    "        bin_cls.predict(ohe_train_sel[test])\n",
    "        f1 = f1_score(y_train[test], bin_cls.predictions, average = None)\n",
    "        best_params[str(alpha)].append(f1)\n",
    "\n",
    "print(best_params)"
   ]
  },
  {
   "cell_type": "code",
   "execution_count": 305,
   "id": "9708a9f1-c2db-4402-85c3-da9280634c17",
   "metadata": {},
   "outputs": [],
   "source": [
    "bin_cls = fcalc.classifier.BinarizedBinaryClassifier(ohe_train_sel, y_train, method = 'ratio-support', alpha = 0)\n",
    "# y_pred = bin_cls.predict(ohe_test.toarray().astype(int))"
   ]
  },
  {
   "cell_type": "code",
   "execution_count": 306,
   "id": "3621b807-6e07-4d56-acfb-a83555e9be8c",
   "metadata": {},
   "outputs": [],
   "source": [
    "bin_cls.predict(ohe_test_sel)\n",
    "y_pred = bin_cls.predictions"
   ]
  },
  {
   "cell_type": "code",
   "execution_count": 313,
   "id": "b8a417b2-7473-4d48-ab51-fc2739dd6589",
   "metadata": {},
   "outputs": [
    {
     "data": {
      "text/plain": [
       "<Axes: >"
      ]
     },
     "execution_count": 313,
     "metadata": {},
     "output_type": "execute_result"
    },
    {
     "data": {
      "image/png": "[encoded data removed]",
      "text/plain": [
       "<Figure size 640x480 with 2 Axes>"
      ]
     },
     "metadata": {},
     "output_type": "display_data"
    }
   ],
   "source": [
    "contingency_matrix = metrics.cluster.contingency_matrix(y_test, y_pred)\n",
    "snx.heatmap(contingency_matrix, annot = True, fmt='')"
   ]
  },
  {
   "cell_type": "code",
   "execution_count": 314,
   "id": "bf8973bb-f753-4954-b6a3-c200dd972a03",
   "metadata": {
    "scrolled": true
   },
   "outputs": [
    {
     "name": "stdout",
     "output_type": "stream",
     "text": [
      "0.0\n",
      "0.0\n"
     ]
    }
   ],
   "source": [
    "print(accuracy_score(y_test, y_pred))\n",
    "print(f1_score(y_test, y_pred, average = 'macro'))"
   ]
  },
  {
   "cell_type": "markdown",
   "id": "0df28389-c8db-4d96-90df-0745a5139e3a",
   "metadata": {},
   "source": [
    "## Pattern Structure"
   ]
  },
  {
   "cell_type": "code",
   "execution_count": 315,
   "id": "0d313761-fc99-46f6-8885-cb617661c732",
   "metadata": {},
   "outputs": [],
   "source": [
    "pat_cls = fcalc.classifier.PatternBinaryClassifier(ohe_train_sel, y_train, \n",
    "                                             categorical=np.arange(ohe_train_sel.shape[1]))"
   ]
  },
  {
   "cell_type": "code",
   "execution_count": 316,
   "id": "c02587ad-e75b-4237-bd65-cb4d0a8ae933",
   "metadata": {},
   "outputs": [],
   "source": [
    "pat_cls.predict(ohe_test_sel)"
   ]
  },
  {
   "cell_type": "code",
   "execution_count": 317,
   "id": "4721352d-462b-4af1-95e1-e4edd3b6a177",
   "metadata": {},
   "outputs": [
    {
     "data": {
      "text/plain": [
       "<Axes: >"
      ]
     },
     "execution_count": 317,
     "metadata": {},
     "output_type": "execute_result"
    },
    {
     "data": {
      "image/png": "[encoded data removed]",
      "text/plain": [
       "<Figure size 640x480 with 2 Axes>"
      ]
     },
     "metadata": {},
     "output_type": "display_data"
    }
   ],
   "source": [
    "y_pred = pat_cls.predictions\n",
    "contingency_matrix = metrics.cluster.contingency_matrix(y_pred, y_test)\n",
    "snx.heatmap(contingency_matrix, annot = True, fmt='')"
   ]
  },
  {
   "cell_type": "code",
   "execution_count": 303,
   "id": "cc49620a-f371-43f9-9d92-7d0b2819d2e6",
   "metadata": {},
   "outputs": [
    {
     "name": "stdout",
     "output_type": "stream",
     "text": [
      "0.0\n",
      "[0. 0. 0.]\n"
     ]
    }
   ],
   "source": [
    "print(accuracy_score(y_test, y_pred))\n",
    "print(f1_score(y_test, y_pred, average = None))"
   ]
  },
  {
   "cell_type": "code",
   "execution_count": null,
   "id": "92c28596-c0a8-47cd-9515-e7d61df00cef",
   "metadata": {},
   "outputs": [],
   "source": []
  },
  {
   "cell_type": "code",
   "execution_count": null,
   "id": "a4bf2c72-3743-4e39-ba4c-1846bfc61ff6",
   "metadata": {},
   "outputs": [],
   "source": []
  }
 ],
 "metadata": {
  "kernelspec": {
   "display_name": "Python 3",
   "language": "python",
   "name": "python3"
  },
  "language_info": {
   "codemirror_mode": {
    "name": "ipython",
    "version": 3
   },
   "file_extension": ".py",
   "mimetype": "text/x-python",
   "name": "python",
   "nbconvert_exporter": "python",
   "pygments_lexer": "ipython3",
   "version": "3.11.5"
  }
 },
 "nbformat": 4,
 "nbformat_minor": 5
}
