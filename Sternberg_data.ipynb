{
 "cells": [
  {
   "cell_type": "code",
   "execution_count": 7,
   "id": "137237de-ebb8-48fe-b39a-15f38cecaff2",
   "metadata": {},
   "outputs": [],
   "source": [
    "import numpy as np\n",
    "import pandas as pd\n",
    "import matplotlib.pyplot as plt\n",
    "import glob\n",
    "import os\n",
    "import random\n",
    "import seaborn as snx\n",
    "import xgboost as xgb\n",
    "random.seed(42)\n",
    "\n",
    "from sklearn import metrics\n",
    "from sklearn.model_selection import GridSearchCV, train_test_split, cross_validate, KFold, ShuffleSplit, StratifiedKFold, learning_curve, LearningCurveDisplay\n",
    "from sklearn.neighbors import KNeighborsClassifier\n",
    "from sklearn.linear_model import LogisticRegression\n",
    "from sklearn.ensemble import RandomForestClassifier\n",
    "from sklearn.preprocessing import StandardScaler, KBinsDiscretizer, OneHotEncoder\n",
    "from sklearn.metrics import accuracy_score, f1_score\n",
    "import xgboost as xgb\n",
    "\n",
    "import fcalc\n",
    "from skfeature.function.similarity_based import fisher_score\n",
    "# from mlxtend.feature_selection import SequentialFeatureSelector"
   ]
  },
  {
   "cell_type": "code",
   "execution_count": 8,
   "id": "0d115b79-39db-49ed-87d0-e1a2a4787296",
   "metadata": {},
   "outputs": [
    {
     "data": {
      "text/html": [
       "<div>\n",
       "<style scoped>\n",
       "    .dataframe tbody tr th:only-of-type {\n",
       "        vertical-align: middle;\n",
       "    }\n",
       "\n",
       "    .dataframe tbody tr th {\n",
       "        vertical-align: top;\n",
       "    }\n",
       "\n",
       "    .dataframe thead th {\n",
       "        text-align: right;\n",
       "    }\n",
       "</style>\n",
       "<table border=\"1\" class=\"dataframe\">\n",
       "  <thead>\n",
       "    <tr style=\"text-align: right;\">\n",
       "      <th></th>\n",
       "      <th>Fp1</th>\n",
       "      <th>Fz</th>\n",
       "      <th>F3</th>\n",
       "      <th>F7</th>\n",
       "      <th>FT9</th>\n",
       "      <th>FC5</th>\n",
       "      <th>FC1</th>\n",
       "      <th>C3</th>\n",
       "      <th>T7</th>\n",
       "      <th>CP5</th>\n",
       "      <th>...</th>\n",
       "      <th>F6</th>\n",
       "      <th>F2</th>\n",
       "      <th>AF4</th>\n",
       "      <th>AF8</th>\n",
       "      <th>TP9</th>\n",
       "      <th>TP10</th>\n",
       "      <th>Cz</th>\n",
       "      <th>target</th>\n",
       "      <th>rt</th>\n",
       "      <th>trial</th>\n",
       "    </tr>\n",
       "  </thead>\n",
       "  <tbody>\n",
       "    <tr>\n",
       "      <th>0</th>\n",
       "      <td>0.000120</td>\n",
       "      <td>0.000249</td>\n",
       "      <td>0.000266</td>\n",
       "      <td>0.000320</td>\n",
       "      <td>0.000147</td>\n",
       "      <td>0.000192</td>\n",
       "      <td>0.000142</td>\n",
       "      <td>0.000087</td>\n",
       "      <td>0.000244</td>\n",
       "      <td>0.000116</td>\n",
       "      <td>...</td>\n",
       "      <td>0.000184</td>\n",
       "      <td>0.000185</td>\n",
       "      <td>0.000222</td>\n",
       "      <td>0.000307</td>\n",
       "      <td>0.000193</td>\n",
       "      <td>0.000245</td>\n",
       "      <td>0.000213</td>\n",
       "      <td>3</td>\n",
       "      <td>0.520900</td>\n",
       "      <td>1</td>\n",
       "    </tr>\n",
       "    <tr>\n",
       "      <th>1</th>\n",
       "      <td>0.000077</td>\n",
       "      <td>0.000254</td>\n",
       "      <td>0.000188</td>\n",
       "      <td>0.000246</td>\n",
       "      <td>0.000135</td>\n",
       "      <td>0.000126</td>\n",
       "      <td>0.000168</td>\n",
       "      <td>0.000092</td>\n",
       "      <td>0.000197</td>\n",
       "      <td>0.000109</td>\n",
       "      <td>...</td>\n",
       "      <td>0.000256</td>\n",
       "      <td>0.000282</td>\n",
       "      <td>0.000277</td>\n",
       "      <td>0.000299</td>\n",
       "      <td>0.000232</td>\n",
       "      <td>0.000291</td>\n",
       "      <td>0.000190</td>\n",
       "      <td>3</td>\n",
       "      <td>0.496360</td>\n",
       "      <td>2</td>\n",
       "    </tr>\n",
       "    <tr>\n",
       "      <th>2</th>\n",
       "      <td>0.000110</td>\n",
       "      <td>0.000139</td>\n",
       "      <td>0.000242</td>\n",
       "      <td>0.000183</td>\n",
       "      <td>0.000104</td>\n",
       "      <td>0.000101</td>\n",
       "      <td>0.000180</td>\n",
       "      <td>0.000082</td>\n",
       "      <td>0.000126</td>\n",
       "      <td>0.000086</td>\n",
       "      <td>...</td>\n",
       "      <td>0.000230</td>\n",
       "      <td>0.000304</td>\n",
       "      <td>0.000249</td>\n",
       "      <td>0.000423</td>\n",
       "      <td>0.000222</td>\n",
       "      <td>0.000193</td>\n",
       "      <td>0.000248</td>\n",
       "      <td>3</td>\n",
       "      <td>0.559581</td>\n",
       "      <td>3</td>\n",
       "    </tr>\n",
       "    <tr>\n",
       "      <th>3</th>\n",
       "      <td>0.000166</td>\n",
       "      <td>0.000274</td>\n",
       "      <td>0.000200</td>\n",
       "      <td>0.000235</td>\n",
       "      <td>0.000139</td>\n",
       "      <td>0.000087</td>\n",
       "      <td>0.000107</td>\n",
       "      <td>0.000096</td>\n",
       "      <td>0.000152</td>\n",
       "      <td>0.000086</td>\n",
       "      <td>...</td>\n",
       "      <td>0.000290</td>\n",
       "      <td>0.000294</td>\n",
       "      <td>0.000244</td>\n",
       "      <td>0.000594</td>\n",
       "      <td>0.000291</td>\n",
       "      <td>0.000264</td>\n",
       "      <td>0.000160</td>\n",
       "      <td>3</td>\n",
       "      <td>0.462914</td>\n",
       "      <td>4</td>\n",
       "    </tr>\n",
       "    <tr>\n",
       "      <th>4</th>\n",
       "      <td>0.000105</td>\n",
       "      <td>0.000187</td>\n",
       "      <td>0.000176</td>\n",
       "      <td>0.000260</td>\n",
       "      <td>0.000093</td>\n",
       "      <td>0.000105</td>\n",
       "      <td>0.000102</td>\n",
       "      <td>0.000060</td>\n",
       "      <td>0.000146</td>\n",
       "      <td>0.000107</td>\n",
       "      <td>...</td>\n",
       "      <td>0.000327</td>\n",
       "      <td>0.000276</td>\n",
       "      <td>0.000220</td>\n",
       "      <td>0.000494</td>\n",
       "      <td>0.000238</td>\n",
       "      <td>0.000189</td>\n",
       "      <td>0.000136</td>\n",
       "      <td>3</td>\n",
       "      <td>0.514266</td>\n",
       "      <td>5</td>\n",
       "    </tr>\n",
       "  </tbody>\n",
       "</table>\n",
       "<p>5 rows × 67 columns</p>\n",
       "</div>"
      ],
      "text/plain": [
       "        Fp1        Fz        F3        F7       FT9       FC5       FC1  \\\n",
       "0  0.000120  0.000249  0.000266  0.000320  0.000147  0.000192  0.000142   \n",
       "1  0.000077  0.000254  0.000188  0.000246  0.000135  0.000126  0.000168   \n",
       "2  0.000110  0.000139  0.000242  0.000183  0.000104  0.000101  0.000180   \n",
       "3  0.000166  0.000274  0.000200  0.000235  0.000139  0.000087  0.000107   \n",
       "4  0.000105  0.000187  0.000176  0.000260  0.000093  0.000105  0.000102   \n",
       "\n",
       "         C3        T7       CP5  ...        F6        F2       AF4       AF8  \\\n",
       "0  0.000087  0.000244  0.000116  ...  0.000184  0.000185  0.000222  0.000307   \n",
       "1  0.000092  0.000197  0.000109  ...  0.000256  0.000282  0.000277  0.000299   \n",
       "2  0.000082  0.000126  0.000086  ...  0.000230  0.000304  0.000249  0.000423   \n",
       "3  0.000096  0.000152  0.000086  ...  0.000290  0.000294  0.000244  0.000594   \n",
       "4  0.000060  0.000146  0.000107  ...  0.000327  0.000276  0.000220  0.000494   \n",
       "\n",
       "        TP9      TP10        Cz  target        rt  trial  \n",
       "0  0.000193  0.000245  0.000213       3  0.520900      1  \n",
       "1  0.000232  0.000291  0.000190       3  0.496360      2  \n",
       "2  0.000222  0.000193  0.000248       3  0.559581      3  \n",
       "3  0.000291  0.000264  0.000160       3  0.462914      4  \n",
       "4  0.000238  0.000189  0.000136       3  0.514266      5  \n",
       "\n",
       "[5 rows x 67 columns]"
      ]
     },
     "execution_count": 8,
     "metadata": {},
     "output_type": "execute_result"
    }
   ],
   "source": [
    "os.chdir(\"C:/Users/HP pavilion X360/Desktop/OSDA/big_homework/\")\n",
    "data = pd.read_csv('sternberg_diff_data.csv', index_col = 0)\n",
    "data.head()"
   ]
  },
  {
   "cell_type": "code",
   "execution_count": 9,
   "id": "57e53fac-1a00-4ece-a3cb-08111fe1e5c2",
   "metadata": {},
   "outputs": [],
   "source": [
    "data_3 = data[data.target == 3][:len(data[data.target ==15])]\n",
    "data_3_15 = pd.concat([data_3, data[data.target ==15]], axis = 0)\n",
    "y = data_3_15['target']\n",
    "y = 1*(y==15).values\n",
    "data_3_15.drop(['target', 'trial'], axis = 1, inplace = True)\n",
    "X = data_3_15"
   ]
  },
  {
   "cell_type": "code",
   "execution_count": null,
   "id": "8e9a3efe-bee3-4213-b5b7-ff89a4e4540a",
   "metadata": {},
   "outputs": [],
   "source": []
  },
  {
   "cell_type": "code",
   "execution_count": 10,
   "id": "135d74da-a7ec-46ab-852d-1d1ebc5ed937",
   "metadata": {},
   "outputs": [],
   "source": [
    "X_train, X_test, y_train, y_test = train_test_split(np.array(X), y, test_size = 0.3, stratify = y)"
   ]
  },
  {
   "cell_type": "code",
   "execution_count": 42,
   "id": "7ed41b4e-3935-41c9-ae03-900bf1b19bd0",
   "metadata": {},
   "outputs": [],
   "source": [
    "stsc = StandardScaler()\n",
    "stsc.fit(X_train)\n",
    "train = stsc.transform(X_train)\n",
    "test = stsc.transform(X_test)\n",
    "\n",
    "kbins = KBinsDiscretizer(n_bins=4, encode='ordinal', strategy='quantile', subsample=None).fit(train)\n",
    "new_train = pd.DataFrame(kbins.transform(train), columns = X.columns)\n",
    "new_test = pd.DataFrame(kbins.transform(test), columns = X.columns)"
   ]
  },
  {
   "cell_type": "code",
   "execution_count": 43,
   "id": "2d456bf5-ca22-4dcb-be3e-0514bc0b394d",
   "metadata": {},
   "outputs": [],
   "source": [
    "ohe = OneHotEncoder(drop = 'first').fit(new_train)\n",
    "ohe_train = ohe.transform(new_train).toarray()\n",
    "ohe_test = ohe.transform(new_test).toarray()\n",
    "\n",
    "columns = [i + ' ' + 'q' + str(j) for i in data_3_15.columns for j in [2,3,4]]"
   ]
  },
  {
   "cell_type": "code",
   "execution_count": null,
   "id": "ce7fba3c-f6e1-4a40-a601-6a74c4e5a0c5",
   "metadata": {},
   "outputs": [],
   "source": []
  },
  {
   "cell_type": "markdown",
   "id": "c91639d0-36a1-4cdd-a3e2-60c9ffebc2b6",
   "metadata": {},
   "source": [
    "## KNN"
   ]
  },
  {
   "cell_type": "code",
   "execution_count": 13,
   "id": "588a600d-4e15-416b-8763-127dbf88f7fb",
   "metadata": {},
   "outputs": [
    {
     "name": "stdout",
     "output_type": "stream",
     "text": [
      "Best params: {'metric': 'euclidean', 'n_neighbors': 6, 'weights': 'distance'}\n",
      "Accuracy: 0.7654941373534339\n",
      "f1: 0.7586206896551725\n"
     ]
    },
    {
     "data": {
      "image/png": "[encoded data removed]",
      "text/plain": [
       "<Figure size 640x480 with 2 Axes>"
      ]
     },
     "metadata": {},
     "output_type": "display_data"
    }
   ],
   "source": [
    "knn = KNeighborsClassifier()\n",
    "parameters = {'n_neighbors':np.arange(1, 30, 1), 'metric': ('euclidean', 'manhattan'),\n",
    "             'weights':('uniform', 'distance')}\n",
    "grid = GridSearchCV(knn, parameters, cv = 4)\n",
    "\n",
    "grid.fit(train, y_train)\n",
    "print(f'Best params: {grid.best_params_}')\n",
    "knn_pred = KNeighborsClassifier(metric = grid.best_params_['metric'], n_neighbors = grid.best_params_['n_neighbors'],\n",
    "                               weights = grid.best_params_['weights'])\n",
    "knn_pred.fit(train, y_train)\n",
    "\n",
    "y_pred = knn_pred.predict(test)\n",
    "\n",
    "contingency_matrix = metrics.cluster.contingency_matrix(y_pred,\n",
    "                                                      y_test)\n",
    "snx.heatmap(contingency_matrix, annot = True, fmt='')\n",
    "print(f'Accuracy: {metrics.accuracy_score(y_pred = y_pred, y_true = y_test)}')\n",
    "print(f'f1: {metrics.f1_score(y_pred = y_pred, y_true = y_test)}')"
   ]
  },
  {
   "cell_type": "code",
   "execution_count": 26,
   "id": "93562a8d-ea5c-4f13-bc24-fa359f2ecb1e",
   "metadata": {},
   "outputs": [],
   "source": []
  },
  {
   "cell_type": "code",
   "execution_count": null,
   "id": "87bce26f-4f65-453d-964a-a9ef0b332abd",
   "metadata": {},
   "outputs": [],
   "source": []
  },
  {
   "cell_type": "code",
   "execution_count": null,
   "id": "716e027f-0146-4cb8-aef0-2cbfe540f8ed",
   "metadata": {},
   "outputs": [],
   "source": []
  },
  {
   "cell_type": "markdown",
   "id": "1afafd26-b6af-4976-adde-e4fd0fd03ca0",
   "metadata": {},
   "source": [
    "## LogisticRegression"
   ]
  },
  {
   "cell_type": "code",
   "execution_count": 14,
   "id": "52af77a9-9014-4a3d-92e3-7525d71be6ec",
   "metadata": {},
   "outputs": [
    {
     "name": "stdout",
     "output_type": "stream",
     "text": [
      "Best params: {'C': 0.1, 'class_weight': 'balanced', 'penalty': 'l1', 'solver': 'liblinear'}\n",
      "Logistic Regression accuracy: 0.6800670016750419\n",
      "Logistic Regression f1: 0.6583184257602862\n"
     ]
    },
    {
     "data": {
      "image/png": "[encoded data removed]",
      "text/plain": [
       "<Figure size 640x480 with 2 Axes>"
      ]
     },
     "metadata": {},
     "output_type": "display_data"
    }
   ],
   "source": [
    "lr = LogisticRegression(max_iter = 10000, random_state = 42)\n",
    "parameters = {'C':np.arange(0.1, 10, 1), 'penalty': ('l2', 'l1'),\n",
    "             'class_weight': ['balanced'],\n",
    "             'solver' : ['saga', 'liblinear']}\n",
    "grid = GridSearchCV(lr, parameters, cv = 4, n_jobs = -2)\n",
    "\n",
    "grid.fit(train, y_train)\n",
    "print(f'Best params: {grid.best_params_}')\n",
    "    \n",
    "lr_pred = LogisticRegression(C = grid.best_params_['C'], penalty = grid.best_params_['penalty'],\n",
    "                               class_weight = grid.best_params_['class_weight'],\n",
    "                            solver = grid.best_params_['solver'])\n",
    "lr_pred.fit(train, y_train)\n",
    "\n",
    "y_pred = lr_pred.predict(test)\n",
    "\n",
    "contingency_matrix = metrics.cluster.contingency_matrix(y_pred, y_test)\n",
    "snx.heatmap(contingency_matrix, annot = True, fmt='')\n",
    "\n",
    "print(f'Logistic Regression accuracy: {metrics.accuracy_score(y_test, y_pred)}')\n",
    "print(f'Logistic Regression f1: {f1_score(y_test, y_pred)}')"
   ]
  },
  {
   "cell_type": "code",
   "execution_count": null,
   "id": "914e757d-6061-4f5b-8e41-085ab0aa442d",
   "metadata": {},
   "outputs": [],
   "source": []
  },
  {
   "cell_type": "markdown",
   "id": "17b9d335-58ed-4f67-9312-93a541022369",
   "metadata": {},
   "source": [
    "## XGBoost"
   ]
  },
  {
   "cell_type": "code",
   "execution_count": 15,
   "id": "a4efaf04-c8d2-4d0b-ad2b-8a07ca197317",
   "metadata": {},
   "outputs": [],
   "source": [
    "import pandas as pd\n",
    "import numpy as np\n",
    "import xgboost as xgb\n",
    "from sklearn.model_selection import train_test_split\n",
    "from sklearn.datasets import make_classification\n",
    "\n",
    "# X, y = make_classification(n_samples=500,class_sep=0.7)\n",
    "clf = xgb.XGBClassifier(tree_method=\"hist\", nfold=4, metrics = 'logloss', seed=42)\n",
    "data_dmatrix = xgb.DMatrix(data=train,label=y_train)\n",
    "params = {'objective':'binary:logistic','eval_metric':'logloss',\n",
    "          'eta':0.01,\n",
    "          'subsample':0.1}\n",
    "def fit_and_score(estimator, X_train, X_test, y_train, y_test):\n",
    "    \"\"\"Fit the estimator on the train set and score it on both sets\"\"\"\n",
    "    estimator.fit(X_train, y_train, eval_set=[(X_test, y_test)])\n",
    "\n",
    "    train_score = estimator.score(X_train, y_train)\n",
    "    test_score = estimator.score(X_test, y_test)\n",
    "\n",
    "    return estimator, train_score, test_score\n",
    "\n",
    "\n",
    "cv = StratifiedKFold(n_splits=4, shuffle=True, random_state=94)"
   ]
  },
  {
   "cell_type": "code",
   "execution_count": 16,
   "id": "3596e968-4a6a-4828-8c18-14702b68285f",
   "metadata": {},
   "outputs": [
    {
     "name": "stderr",
     "output_type": "stream",
     "text": [
      "C:\\Users\\HP pavilion X360\\AppData\\Local\\Programs\\Python\\Python311\\Lib\\site-packages\\xgboost\\core.py:160: UserWarning: [17:50:14] WARNING: C:\\buildkite-agent\\builds\\buildkite-windows-cpu-autoscaling-group-i-0750514818a16474a-1\\xgboost\\xgboost-ci-windows\\src\\learner.cc:742: \n",
      "Parameters: { \"metrics\", \"nfold\" } are not used.\n",
      "\n",
      "  warnings.warn(smsg, UserWarning)\n"
     ]
    },
    {
     "name": "stdout",
     "output_type": "stream",
     "text": [
      "Best params: {'alpha': 0.0, 'eta': 0.1, 'eval_metric': 'logloss', 'max_depth': 20, 'objective': 'binary:logistic', 'subsample': 0.5}\n"
     ]
    }
   ],
   "source": [
    "params = {'eta':np.linspace(0.1, 1.0, 5),\n",
    "          'subsample':[0.5, 0.7, 1],\n",
    "          'max_depth': [1, 5, 10, 20],\n",
    "          'eval_metric':['logloss'],\n",
    "          'alpha':np.linspace(0, 20, 5),\n",
    "         'objective':['binary:logistic']}\n",
    "\n",
    "grid = GridSearchCV(clf, params, cv = 4,  n_jobs = -2)\n",
    "\n",
    "grid.fit(train, y_train)\n",
    "print(f'Best params: {grid.best_params_}')"
   ]
  },
  {
   "cell_type": "code",
   "execution_count": 17,
   "id": "4169b117-8d65-4f92-9ab9-20cbc6bb9540",
   "metadata": {},
   "outputs": [
    {
     "name": "stdout",
     "output_type": "stream",
     "text": [
      "XGB accuracy: 0.7922948073701842\n",
      "XGB f1: 0.7891156462585034\n"
     ]
    },
    {
     "data": {
      "image/png": "[encoded data removed]",
      "text/plain": [
       "<Figure size 640x480 with 2 Axes>"
      ]
     },
     "metadata": {},
     "output_type": "display_data"
    }
   ],
   "source": [
    "xgb_reg = xgb.XGBClassifier(objective='binary:logistic',\n",
    "                           eval_metric = 'logloss',\n",
    "                           eta = grid.best_params_['eta'],\n",
    "                           subsample = grid.best_params_['subsample'],\n",
    "                           max_depth = grid.best_params_['max_depth'],\n",
    "                           alpha = grid.best_params_['alpha'])\n",
    "\n",
    "xgb_reg.fit(train, y_train)\n",
    "y_pred = xgb_reg.predict_proba(test)[:, 1] > .5\n",
    "\n",
    "contingency_matrix = metrics.cluster.contingency_matrix(y_test, y_pred)\n",
    "snx.heatmap(contingency_matrix, annot = True, fmt='')\n",
    "\n",
    "print(f'XGB accuracy: {metrics.accuracy_score(y_test, y_pred)}')\n",
    "print(f'XGB f1: {f1_score(y_test, y_pred)}')"
   ]
  },
  {
   "cell_type": "code",
   "execution_count": null,
   "id": "f446bdfa-de47-4dd5-96ca-c9342ba17efb",
   "metadata": {},
   "outputs": [],
   "source": []
  },
  {
   "cell_type": "code",
   "execution_count": 20,
   "id": "c3e41242-b609-472e-aeb6-33869fd76e90",
   "metadata": {},
   "outputs": [
    {
     "name": "stdout",
     "output_type": "stream",
     "text": [
      "\n"
     ]
    }
   ],
   "source": [
    "print()"
   ]
  },
  {
   "cell_type": "markdown",
   "id": "c252be37-025b-4c63-9747-f4e3c151e7e1",
   "metadata": {},
   "source": [
    "## Random Forest"
   ]
  },
  {
   "cell_type": "code",
   "execution_count": 18,
   "id": "5ffe9717-1139-45f3-8eb3-78a968cfdd1b",
   "metadata": {},
   "outputs": [
    {
     "name": "stdout",
     "output_type": "stream",
     "text": [
      "Best params: {'class_weight': 'balanced', 'criterion': 'gini', 'max_depth': 17, 'min_samples_split': 5}\n",
      "RFT accuracy: 0.7906197654941374\n",
      "RFT f1: 0.7833622183708839\n"
     ]
    },
    {
     "data": {
      "text/plain": [
       "<Axes: >"
      ]
     },
     "execution_count": 18,
     "metadata": {},
     "output_type": "execute_result"
    },
    {
     "data": {
      "image/png": "[encoded data removed]",
      "text/plain": [
       "<Figure size 640x480 with 2 Axes>"
      ]
     },
     "metadata": {},
     "output_type": "display_data"
    }
   ],
   "source": [
    "rfc = RandomForestClassifier(random_state = 42, n_jobs = -2)\n",
    "parameters = {'max_depth':np.arange(3, 30, 2),\n",
    "             'criterion':['gini', 'entropy'], 'min_samples_split': np.arange(3, 30, 2),\n",
    "             'class_weight':['balanced', 'balanced_subsample']}\n",
    "grid = GridSearchCV(rfc, parameters, cv = 4)\n",
    "\n",
    "grid.fit(train, y_train)\n",
    "print(f'Best params: {grid.best_params_}')\n",
    "rfc_pred = RandomForestClassifier(random_state = 42, max_depth = grid.best_params_['max_depth'],\n",
    "                                 criterion = grid.best_params_['criterion'],\n",
    "                                 min_samples_split = grid.best_params_['min_samples_split'],\n",
    "                                 class_weight = grid.best_params_['class_weight'])\n",
    "rfc_pred.fit(train, y_train)\n",
    "y_pred = rfc_pred.predict(test)\n",
    "\n",
    "contingency_matrix = metrics.cluster.contingency_matrix(y_pred, y_test)\n",
    "\n",
    "y_pred = rfc_pred.predict(test)\n",
    "print(f'RFT accuracy: {metrics.accuracy_score(y_test, y_pred)}')\n",
    "print(f'RFT f1: {f1_score(y_test, y_pred)}')\n",
    "snx.heatmap(contingency_matrix, annot = True, fmt='')"
   ]
  },
  {
   "cell_type": "code",
   "execution_count": null,
   "id": "dfb2c194-bb34-41d7-9e78-983d78e90dc9",
   "metadata": {},
   "outputs": [],
   "source": []
  },
  {
   "cell_type": "markdown",
   "id": "a452ff2a-1ff5-460b-b6f4-b76786507ae6",
   "metadata": {},
   "source": [
    "## FCALC"
   ]
  },
  {
   "cell_type": "code",
   "execution_count": 124,
   "id": "9c81e41b-654f-4929-a3cc-8b47e37a4e3c",
   "metadata": {},
   "outputs": [
    {
     "name": "stdout",
     "output_type": "stream",
     "text": [
      "{'0': [array([0.        , 0.58823529, 0.35555556]), array([0.        , 0.60087719, 0.24369748]), array([0.        , 0.56206089, 0.29323308]), array([0.        , 0.60386473, 0.40860215])], '3': [array([0., 0., 0.]), array([0., 0., 0.]), array([0., 0., 0.]), array([0., 0., 0.])], '6': [array([0., 0., 0.]), array([0., 0., 0.]), array([0., 0., 0.]), array([0., 0., 0.])], '9': [array([0., 0., 0.]), array([0., 0., 0.]), array([0., 0., 0.]), array([0., 0., 0.])]}\n"
     ]
    }
   ],
   "source": [
    "best_params = dict()\n",
    "kf = KFold(n_splits=4, shuffle = True, random_state=42)\n",
    "for train, test in kf.split(ohe_train_sel):\n",
    "    for alpha in np.arange(0, 10, 3):\n",
    "        if str(alpha) not in list(best_params.keys()):\n",
    "            best_params[str(alpha)]=[]\n",
    "        bin_cls = fcalc.classifier.BinarizedBinaryClassifier(ohe_train_sel[train],\n",
    "                                                             y_train.astype(int)[train], method = 'standard', alpha = alpha)\n",
    "        # bin_cls = fcalc.classifier.BinarizedBinaryClassifier(ohe_train.toarray()[train], y_train[train], method = 'standard')\n",
    "        bin_cls.predict(ohe_train_sel[test])\n",
    "        f1 = f1_score(y_train.astype(int)[test], bin_cls.predictions, average = None)\n",
    "        best_params[str(alpha)].append(f1)\n",
    "\n",
    "print(best_params)"
   ]
  },
  {
   "cell_type": "code",
   "execution_count": 126,
   "id": "475e2fb0-046d-400e-9760-afde8b41da7c",
   "metadata": {},
   "outputs": [
    {
     "name": "stdout",
     "output_type": "stream",
     "text": [
      "0.47738693467336685\n",
      "[0.         0.58366801 0.3011236 ]\n"
     ]
    },
    {
     "data": {
      "image/png": "[encoded data removed]",
      "text/plain": [
       "<Figure size 640x480 with 2 Axes>"
      ]
     },
     "metadata": {},
     "output_type": "display_data"
    }
   ],
   "source": [
    "bin_cls = fcalc.classifier.BinarizedBinaryClassifier(ohe_train_sel, y_train, method = 'standard', alpha = 0)\n",
    "bin_cls.predict(ohe_test_sel)\n",
    "y_pred = bin_cls.predictions\n",
    "\n",
    "contingency_matrix = metrics.cluster.contingency_matrix(y_pred, y_test)\n",
    "snx.heatmap(contingency_matrix, annot = True, fmt='')\n",
    "print(accuracy_score(y_test, y_pred))\n",
    "print(f1_score(y_test, y_pred, average = None))"
   ]
  },
  {
   "cell_type": "code",
   "execution_count": 54,
   "id": "36a313bc-8fcf-4113-aec3-7666f1f06861",
   "metadata": {},
   "outputs": [],
   "source": [
    "# fig, ax = plt.subplots(nrows=1, ncols=2, figsize=(10, 6), sharey=True)\n",
    "\n",
    "# common_params = {\n",
    "#     \"X\": ohe_train_sel,\n",
    "#     \"y\": y_train,\n",
    "#     \"train_sizes\": np.linspace(0.1, 1.0, 5),\n",
    "#     \"cv\": ShuffleSplit(n_splits=50, test_size=0.2, random_state=0),\n",
    "#     \"score_type\": \"both\",\n",
    "#     \"n_jobs\": 4,\n",
    "#     \"line_kw\": {\"marker\": \"o\"},\n",
    "#     \"std_display_style\": \"fill_between\",\n",
    "#     \"score_name\": \"Accuracy\",\n",
    "# }\n",
    "\n",
    "# for ax_idx, estimator in enumerate([bin_cls]):\n",
    "#     LearningCurveDisplay.from_estimator(estimator, **common_params, ax=ax[ax_idx])\n",
    "#     handles, label = ax[ax_idx].get_legend_handles_labels()\n",
    "#     ax[ax_idx].legend(handles[:2], [\"Training Score\", \"Test Score\"])\n",
    "#     ax[ax_idx].set_title(f\"Learning Curve for {estimator.__class__.__name__}\")"
   ]
  },
  {
   "cell_type": "code",
   "execution_count": 19,
   "id": "0506000c-5cf0-4709-9133-7af66805248d",
   "metadata": {
    "scrolled": true
   },
   "outputs": [
    {
     "name": "stdout",
     "output_type": "stream",
     "text": [
      "standard, alpha=0\n",
      "standard-support, alpha=0\n",
      "standard-ratio, alpha=0\n",
      "standard, alpha=3\n",
      "standard-support, alpha=3\n",
      "standard-ratio, alpha=3\n",
      "standard, alpha=6\n",
      "standard-support, alpha=6\n",
      "standard-ratio, alpha=6\n",
      "standard, alpha=9\n",
      "standard-support, alpha=9\n",
      "standard-ratio, alpha=9\n",
      "standard, alpha=0\n",
      "standard-support, alpha=0\n",
      "standard-ratio, alpha=0\n",
      "standard, alpha=3\n",
      "standard-support, alpha=3\n",
      "standard-ratio, alpha=3\n",
      "standard, alpha=6\n",
      "standard-support, alpha=6\n",
      "standard-ratio, alpha=6\n",
      "standard, alpha=9\n",
      "standard-support, alpha=9\n",
      "standard-ratio, alpha=9\n",
      "standard, alpha=0\n",
      "standard-support, alpha=0\n",
      "standard-ratio, alpha=0\n",
      "standard, alpha=3\n",
      "standard-support, alpha=3\n",
      "standard-ratio, alpha=3\n",
      "standard, alpha=6\n",
      "standard-support, alpha=6\n",
      "standard-ratio, alpha=6\n",
      "standard, alpha=9\n",
      "standard-support, alpha=9\n",
      "standard-ratio, alpha=9\n",
      "standard, alpha=0\n",
      "standard-support, alpha=0\n",
      "standard-ratio, alpha=0\n",
      "standard, alpha=3\n",
      "standard-support, alpha=3\n",
      "standard-ratio, alpha=3\n",
      "standard, alpha=6\n",
      "standard-support, alpha=6\n",
      "standard-ratio, alpha=6\n",
      "standard, alpha=9\n",
      "standard-support, alpha=9\n",
      "standard-ratio, alpha=9\n"
     ]
    }
   ],
   "source": [
    "best_params_f1 = dict()\n",
    "best_params_acc = dict()\n",
    "\n",
    "kf = KFold(n_splits=4, shuffle = True, random_state=42)\n",
    "for train_id, test_id in kf.split(train):\n",
    "    for alpha in np.arange(0, 10, 3):\n",
    "        for method in ['standard', 'standard-support', 'standard-ratio']:\n",
    "            print(f'{method}, alpha={alpha}')\n",
    "            if str(alpha) not in list(best_params_f1.keys()):\n",
    "                best_params_f1[f'method: {method}, alpha: {alpha}']=[]\n",
    "                best_params_acc[f'method: {method}, alpha: {alpha}']=[]\n",
    "            pat_cls = fcalc.classifier.PatternBinaryClassifier(train[train_id].astype(int), y_train.astype(int)[train_id], method = method, alpha = alpha)\n",
    "            pat_cls.predict(train[test_id].astype(int))\n",
    "            f1 = f1_score(y_train.astype(int)[test_id], pat_cls.predictions, average = None)\n",
    "            acc = accuracy_score(y_train.astype(int)[test_id], pat_cls.predictions)\n",
    "            best_params_f1[f'method: {method}, alpha: {alpha}'].append(f1)\n",
    "            best_params_acc[f'method: {method}, alpha: {alpha}'].append(acc)"
   ]
  },
  {
   "cell_type": "code",
   "execution_count": 24,
   "id": "97f3e8b3-6cce-4b94-9f7b-774f1213f578",
   "metadata": {},
   "outputs": [
    {
     "data": {
      "text/plain": [
       "{'method: standard, alpha: 0': [array([0.        , 0.5398773 , 0.53614458])],\n",
       " 'method: standard-support, alpha: 0': [array([0.        , 0.5578635 , 0.51410658])],\n",
       " 'method: standard-ratio, alpha: 0': [array([0.66538462, 0.        ])],\n",
       " 'method: standard, alpha: 3': [array([0., 0., 0.])],\n",
       " 'method: standard-support, alpha: 3': [array([0.        , 0.66794626])],\n",
       " 'method: standard-ratio, alpha: 3': [array([0.66538462, 0.        ])],\n",
       " 'method: standard, alpha: 6': [array([0., 0., 0.])],\n",
       " 'method: standard-support, alpha: 6': [array([0.        , 0.66794626])],\n",
       " 'method: standard-ratio, alpha: 6': [array([0.66538462, 0.        ])],\n",
       " 'method: standard, alpha: 9': [array([0., 0., 0.])],\n",
       " 'method: standard-support, alpha: 9': [array([0.        , 0.66794626])],\n",
       " 'method: standard-ratio, alpha: 9': [array([0.66538462, 0.        ])]}"
      ]
     },
     "execution_count": 24,
     "metadata": {},
     "output_type": "execute_result"
    }
   ],
   "source": [
    "best_params_f1"
   ]
  },
  {
   "cell_type": "code",
   "execution_count": null,
   "id": "bea35e80-bec8-42cb-bd58-e3e03877e102",
   "metadata": {},
   "outputs": [],
   "source": []
  },
  {
   "cell_type": "code",
   "execution_count": 29,
   "id": "98ec3691-421a-4013-a236-16f9abe3753f",
   "metadata": {},
   "outputs": [],
   "source": [
    "train_size = learning_curve.train_sizes"
   ]
  },
  {
   "cell_type": "code",
   "execution_count": 55,
   "id": "109cbb5b-7d86-405d-a6b9-275aeed1a94c",
   "metadata": {},
   "outputs": [
    {
     "data": {
      "text/plain": [
       "(array([-1.,  0.,  1.]), array([819, 288, 173], dtype=int64))"
      ]
     },
     "execution_count": 55,
     "metadata": {},
     "output_type": "execute_result"
    }
   ],
   "source": [
    "np.unique(y_pred, return_counts= True)"
   ]
  },
  {
   "cell_type": "code",
   "execution_count": null,
   "id": "50bdf986-8505-4bc6-a3f9-29b00aaf8032",
   "metadata": {},
   "outputs": [],
   "source": []
  },
  {
   "cell_type": "code",
   "execution_count": null,
   "id": "caf31e49-4a68-4ddc-85ec-11753dec71ed",
   "metadata": {},
   "outputs": [],
   "source": [
    "def alpha_weak(pos, neg, C=0.):\n",
    "    sup_pos = 2* np.sum(pos[1] <= len(neg[0]) * C) / len(pos[0])\n",
    "    sup_neg = np.sum(neg[1] <= len(pos[0]) * C) / len(neg[0])\n",
    "    \n",
    "    if sup_pos > sup_neg:\n",
    "        return 1\n",
    "    elif sup_pos == sup_neg:\n",
    "        return -1\n",
    "    else:\n",
    "        return 0\n",
    "\n",
    "def alpha_weak_support(pos, neg, C=0.):\n",
    "    sup_pos = 2* np.sum(pos[0][pos[1] <= len(neg[0]) * C]) / len(pos[0])**2\n",
    "    sup_neg = np.sum(neg[0][neg[1] <= len(pos[0]) * C]) / len(neg[0])**2\n",
    "    \n",
    "    if sup_pos > sup_neg:\n",
    "        return 1\n",
    "    elif sup_pos == sup_neg:\n",
    "        return -1\n",
    "    else:\n",
    "        return 0\n",
    "\n",
    "def ratio_support(pos, neg, C=1.):\n",
    "    sup_pos = 2* len(neg[0])*np.sum( pos[0][pos[0]/len(pos[0]) >= C * pos[1]/len(neg[0])] )\n",
    "    cont_pos = 0.5 * len(pos[0])*np.sum( pos[1][pos[0]/len(pos[0]) >= C * pos[1]/len(neg[0])] ) + 1e-6\n",
    "    sup_neg = len(pos[0])*np.sum( neg[0][neg[0]/len(neg[0]) >= C * neg[1]/len(pos[0])] )\n",
    "    cont_neg = len(neg[0])*np.sum( neg[1][neg[0]/len(neg[0]) >= C * neg[1]/len(pos[0])] ) + 1e-6\n",
    "    \n",
    "    if sup_pos/cont_pos > sup_neg/cont_neg:\n",
    "        return 1\n",
    "    elif sup_pos/cont_pos == sup_neg/cont_neg:\n",
    "        return -1\n",
    "    else:\n",
    "        return 0"
   ]
  },
  {
   "cell_type": "code",
   "execution_count": null,
   "id": "42cee569-40c0-4adc-813a-cd2bd9c63d90",
   "metadata": {},
   "outputs": [],
   "source": []
  },
  {
   "cell_type": "code",
   "execution_count": null,
   "id": "d322cd73-d478-4879-8b60-3ce25eccaa0d",
   "metadata": {},
   "outputs": [],
   "source": [
    "class FcaClassify:\n",
    "\n",
    "    def __init__(self, context, labels, support = None):\n",
    "        \n",
    "        self.context = context\n",
    "        self.labels = labels\n",
    "        \n",
    "        if support is None:\n",
    "            self.support = []\n",
    "        else:\n",
    "            self.support = support\n",
    "\n",
    "\n",
    "class BinBinClassifier(FcaClassify):\n",
    "    \n",
    "    def __init__(self, context, labels, support=None, method=\"standard\", alpha=0.):\n",
    "        super().__init__(context, labels, support)\n",
    "        self.method = method\n",
    "        self.alpha = alpha\n",
    "\n",
    "    def compute_support(self, test):\n",
    "        train_pos = self.context[self.labels == True]\n",
    "        train_neg = self.context[self.labels == False]\n",
    "\n",
    "        positive_support = np.zeros(shape=(len(test), len(train_pos)))\n",
    "        positive_counter = np.zeros(shape=(len(test), len(train_pos)))\n",
    "        negative_support = np.zeros(shape=(len(test), len(train_neg)))\n",
    "        negative_counter = np.zeros(shape=(len(test), len(train_neg)))\n",
    "\n",
    "        for i in range(len(test)):\n",
    "            intsec_pos = test[i].reshape(1, -1) & train_pos\n",
    "            n_support_pos = ((intsec_pos @ (~train_pos.T)) == 0).sum(axis=1)\n",
    "            n_counter_pos = ((intsec_pos @ (~train_neg.T)) == 0).sum(axis=1)\n",
    "\n",
    "            intsec_neg = test[i].reshape(1, -1) & train_neg\n",
    "            n_support_neg = ((intsec_neg @ (~train_neg.T)) == 0).sum(axis=1)\n",
    "            n_counter_neg = ((intsec_neg @ (~train_pos.T)) == 0).sum(axis=1)\n",
    "\n",
    "            positive_support[i] = n_support_pos\n",
    "            positive_counter[i] = n_counter_pos\n",
    "            negative_support[i] = n_support_neg\n",
    "            negative_counter[i] = n_counter_neg\n",
    "        \n",
    "        self.support = [np.array((positive_support, positive_counter)), \n",
    "                        np.array((negative_support, negative_counter))]\n",
    "\n",
    "    def predict(self, test):\n",
    "        self.compute_support(test)\n",
    "        self.predictions = np.zeros(len(test))\n",
    "\n",
    "        if self.method == \"standard\":\n",
    "            for i in range(len(test)):\n",
    "                self.predictions[i] = binary_decision_functions.alpha_weak(self.support[0][:,i], \n",
    "                                                                           self.support[1][:,i], \n",
    "                                                                           self.alpha)\n",
    "        elif self.method == \"standard-support\":\n",
    "            for i in range(len(test)):\n",
    "                self.predictions[i] = binary_decision_functions.alpha_weak_support(self.support[0][:,i], \n",
    "                                                                                   self.support[1][:,i], \n",
    "                                                                                   self.alpha)\n",
    "        elif self.method == \"ratio-support\":\n",
    "            for i in range(len(test)):\n",
    "                self.predictions[i] = binary_decision_functions.ratio_support(self.support[0][:,i], \n",
    "                                                                              self.support[1][:,i], \n",
    "                                                                              self.alpha)"
   ]
  },
  {
   "cell_type": "code",
   "execution_count": null,
   "id": "66e14a01-a4cd-49f9-8af9-ce4d868febbf",
   "metadata": {},
   "outputs": [],
   "source": []
  },
  {
   "cell_type": "code",
   "execution_count": 56,
   "id": "fb7717d0-aba9-4c4b-a26d-5a41e5b85fcc",
   "metadata": {},
   "outputs": [
    {
     "name": "stderr",
     "output_type": "stream",
     "text": [
      "C:\\Users\\HP pavilion X360\\AppData\\Local\\Programs\\Python\\Python311\\Lib\\site-packages\\sklearn\\metrics\\_classification.py:1471: UndefinedMetricWarning: Recall is ill-defined and being set to 0.0 in labels with no true samples. Use `zero_division` parameter to control this behavior.\n",
      "  _warn_prf(average, modifier, msg_start, len(result))\n",
      "C:\\Users\\HP pavilion X360\\AppData\\Local\\Programs\\Python\\Python311\\Lib\\site-packages\\sklearn\\metrics\\_classification.py:1471: UndefinedMetricWarning: Recall is ill-defined and being set to 0.0 in labels with no true samples. Use `zero_division` parameter to control this behavior.\n",
      "  _warn_prf(average, modifier, msg_start, len(result))\n",
      "C:\\Users\\HP pavilion X360\\AppData\\Local\\Programs\\Python\\Python311\\Lib\\site-packages\\sklearn\\metrics\\_classification.py:1471: UndefinedMetricWarning: Recall is ill-defined and being set to 0.0 in labels with no true samples. Use `zero_division` parameter to control this behavior.\n",
      "  _warn_prf(average, modifier, msg_start, len(result))\n",
      "C:\\Users\\HP pavilion X360\\AppData\\Local\\Programs\\Python\\Python311\\Lib\\site-packages\\sklearn\\metrics\\_classification.py:1471: UndefinedMetricWarning: Recall is ill-defined and being set to 0.0 in labels with no true samples. Use `zero_division` parameter to control this behavior.\n",
      "  _warn_prf(average, modifier, msg_start, len(result))\n",
      "C:\\Users\\HP pavilion X360\\AppData\\Local\\Programs\\Python\\Python311\\Lib\\site-packages\\sklearn\\metrics\\_classification.py:1471: UndefinedMetricWarning: Recall is ill-defined and being set to 0.0 in labels with no true samples. Use `zero_division` parameter to control this behavior.\n",
      "  _warn_prf(average, modifier, msg_start, len(result))\n",
      "C:\\Users\\HP pavilion X360\\AppData\\Local\\Programs\\Python\\Python311\\Lib\\site-packages\\sklearn\\metrics\\_classification.py:1471: UndefinedMetricWarning: Recall is ill-defined and being set to 0.0 in labels with no true samples. Use `zero_division` parameter to control this behavior.\n",
      "  _warn_prf(average, modifier, msg_start, len(result))\n",
      "C:\\Users\\HP pavilion X360\\AppData\\Local\\Programs\\Python\\Python311\\Lib\\site-packages\\sklearn\\metrics\\_classification.py:1471: UndefinedMetricWarning: Recall is ill-defined and being set to 0.0 in labels with no true samples. Use `zero_division` parameter to control this behavior.\n",
      "  _warn_prf(average, modifier, msg_start, len(result))\n",
      "C:\\Users\\HP pavilion X360\\AppData\\Local\\Programs\\Python\\Python311\\Lib\\site-packages\\sklearn\\metrics\\_classification.py:1471: UndefinedMetricWarning: Recall is ill-defined and being set to 0.0 in labels with no true samples. Use `zero_division` parameter to control this behavior.\n",
      "  _warn_prf(average, modifier, msg_start, len(result))\n",
      "C:\\Users\\HP pavilion X360\\AppData\\Local\\Programs\\Python\\Python311\\Lib\\site-packages\\sklearn\\metrics\\_classification.py:1471: UndefinedMetricWarning: Recall is ill-defined and being set to 0.0 in labels with no true samples. Use `zero_division` parameter to control this behavior.\n",
      "  _warn_prf(average, modifier, msg_start, len(result))\n",
      "C:\\Users\\HP pavilion X360\\AppData\\Local\\Programs\\Python\\Python311\\Lib\\site-packages\\sklearn\\metrics\\_classification.py:1471: UndefinedMetricWarning: Recall is ill-defined and being set to 0.0 in labels with no true samples. Use `zero_division` parameter to control this behavior.\n",
      "  _warn_prf(average, modifier, msg_start, len(result))\n",
      "C:\\Users\\HP pavilion X360\\AppData\\Local\\Programs\\Python\\Python311\\Lib\\site-packages\\sklearn\\metrics\\_classification.py:1471: UndefinedMetricWarning: Recall is ill-defined and being set to 0.0 in labels with no true samples. Use `zero_division` parameter to control this behavior.\n",
      "  _warn_prf(average, modifier, msg_start, len(result))\n",
      "C:\\Users\\HP pavilion X360\\AppData\\Local\\Programs\\Python\\Python311\\Lib\\site-packages\\sklearn\\metrics\\_classification.py:1471: UndefinedMetricWarning: Recall is ill-defined and being set to 0.0 in labels with no true samples. Use `zero_division` parameter to control this behavior.\n",
      "  _warn_prf(average, modifier, msg_start, len(result))\n",
      "C:\\Users\\HP pavilion X360\\AppData\\Local\\Programs\\Python\\Python311\\Lib\\site-packages\\sklearn\\metrics\\_classification.py:1471: UndefinedMetricWarning: Recall is ill-defined and being set to 0.0 in labels with no true samples. Use `zero_division` parameter to control this behavior.\n",
      "  _warn_prf(average, modifier, msg_start, len(result))\n",
      "C:\\Users\\HP pavilion X360\\AppData\\Local\\Programs\\Python\\Python311\\Lib\\site-packages\\sklearn\\metrics\\_classification.py:1471: UndefinedMetricWarning: Recall is ill-defined and being set to 0.0 in labels with no true samples. Use `zero_division` parameter to control this behavior.\n",
      "  _warn_prf(average, modifier, msg_start, len(result))\n",
      "C:\\Users\\HP pavilion X360\\AppData\\Local\\Programs\\Python\\Python311\\Lib\\site-packages\\sklearn\\metrics\\_classification.py:1471: UndefinedMetricWarning: Recall is ill-defined and being set to 0.0 in labels with no true samples. Use `zero_division` parameter to control this behavior.\n",
      "  _warn_prf(average, modifier, msg_start, len(result))\n",
      "C:\\Users\\HP pavilion X360\\AppData\\Local\\Programs\\Python\\Python311\\Lib\\site-packages\\sklearn\\metrics\\_classification.py:1471: UndefinedMetricWarning: Recall is ill-defined and being set to 0.0 in labels with no true samples. Use `zero_division` parameter to control this behavior.\n",
      "  _warn_prf(average, modifier, msg_start, len(result))\n",
      "C:\\Users\\HP pavilion X360\\AppData\\Local\\Programs\\Python\\Python311\\Lib\\site-packages\\sklearn\\metrics\\_classification.py:1471: UndefinedMetricWarning: Recall is ill-defined and being set to 0.0 in labels with no true samples. Use `zero_division` parameter to control this behavior.\n",
      "  _warn_prf(average, modifier, msg_start, len(result))\n",
      "C:\\Users\\HP pavilion X360\\AppData\\Local\\Programs\\Python\\Python311\\Lib\\site-packages\\sklearn\\metrics\\_classification.py:1471: UndefinedMetricWarning: Recall is ill-defined and being set to 0.0 in labels with no true samples. Use `zero_division` parameter to control this behavior.\n",
      "  _warn_prf(average, modifier, msg_start, len(result))\n",
      "C:\\Users\\HP pavilion X360\\AppData\\Local\\Programs\\Python\\Python311\\Lib\\site-packages\\sklearn\\metrics\\_classification.py:1471: UndefinedMetricWarning: Recall is ill-defined and being set to 0.0 in labels with no true samples. Use `zero_division` parameter to control this behavior.\n",
      "  _warn_prf(average, modifier, msg_start, len(result))\n",
      "C:\\Users\\HP pavilion X360\\AppData\\Local\\Programs\\Python\\Python311\\Lib\\site-packages\\sklearn\\metrics\\_classification.py:1471: UndefinedMetricWarning: Recall is ill-defined and being set to 0.0 in labels with no true samples. Use `zero_division` parameter to control this behavior.\n",
      "  _warn_prf(average, modifier, msg_start, len(result))\n"
     ]
    }
   ],
   "source": [
    "from sklearn.metrics import recall_score, roc_auc_score\n",
    "index = np.arange(0, ohe_train.shape[0])\n",
    "np.random.shuffle(index)\n",
    "kf = KFold(n_splits=10, shuffle = True, random_state=42)\n",
    "\n",
    "bin_cls_quality = dict()\n",
    "bin_cls_quality['train_score_acc'] = []\n",
    "bin_cls_quality['train_score_f1'] = []\n",
    "bin_cls_quality['train_score_recall'] = []\n",
    "bin_cls_quality['train_score_rocauc'] = []\n",
    "\n",
    "bin_cls_quality['test_score_acc'] = []\n",
    "bin_cls_quality['test_score_f1'] = []\n",
    "bin_cls_quality['test_score_recall'] = []\n",
    "bin_cls_quality['test_score_rocauc'] = []\n",
    "\n",
    "for size in train_size:\n",
    "  bin_cls = fcalc.classifier.BinarizedBinaryClassifier(ohe_train[index[:size]].astype(int), y_train[index[:size]].astype(int), method = 'standard', alpha = 0)\n",
    "  bin_cls.predict(ohe_train[index[:size]].astype(int))\n",
    "  y_pred_tr = bin_cls.predictions\n",
    "  bin_cls_quality['train_score_acc'].append(accuracy_score(y_train[index[:size]], y_pred_tr))\n",
    "  bin_cls_quality['train_score_f1'].append(f1_score(y_train[index[:size]], y_pred_tr, average = 'weighted'))\n",
    "  bin_cls_quality['train_score_f1'].append(recall_score(y_train[index[:size]], y_pred_tr, average = 'weighted'))\n",
    "  bin_cls_quality['test_score_rocauc'].append(roc_auc_score(y_train[index[:size]], y_pred_tr))\n",
    "\n",
    "  bin_cls.predict(ohe_train[index[size:]].astype(int))\n",
    "  y_pred = bin_cls.predictions\n",
    "  bin_cls_quality['test_score_acc'].append(accuracy_score(y_train[index[size:]], y_pred))\n",
    "  bin_cls_quality['test_score_f1'].append(f1_score(y_train[index[size:]], y_pred, average = 'weighted'))\n",
    "  bin_cls_quality['test_score_recall'].append(recall_score(y_train[index[size:]], y_pred, average = 'weighted'))\n",
    "  bin_cls_quality['test_score_rocauc'].append(roc_auc_score(y_train[index[size:]], y_pred))\n",
    "\n",
    "# contingency_matrix = metrics.cluster.contingency_matrix(y_test, y_pred)\n",
    "# snx.heatmap(contingency_matrix, annot = True, fmt='')"
   ]
  },
  {
   "cell_type": "code",
   "execution_count": 54,
   "id": "2ac290a5-52f9-4aff-b439-0b5320b79c0d",
   "metadata": {},
   "outputs": [
    {
     "data": {
      "text/plain": [
       "(1280,)"
      ]
     },
     "execution_count": 54,
     "metadata": {},
     "output_type": "execute_result"
    }
   ],
   "source": [
    "y_pred.shape"
   ]
  },
  {
   "cell_type": "code",
   "execution_count": 57,
   "id": "062e787c-2b24-4464-9811-63119d80c44a",
   "metadata": {},
   "outputs": [
    {
     "data": {
      "text/plain": [
       "{'train_score_acc': [0.07207207207207207,\n",
       "  0.2927927927927928,\n",
       "  0.3843843843843844,\n",
       "  0.3963963963963964,\n",
       "  0.37410071942446044,\n",
       "  0.3823088455772114,\n",
       "  0.39331619537275064,\n",
       "  0.4049493813273341,\n",
       "  0.407,\n",
       "  0.4181654676258993],\n",
       " 'train_score_f1': [0.12120194728890382,\n",
       "  0.07207207207207207,\n",
       "  0.39387874503948556,\n",
       "  0.2927927927927928,\n",
       "  0.4583083304927202,\n",
       "  0.3843843843843844,\n",
       "  0.45846283783783787,\n",
       "  0.3963963963963964,\n",
       "  0.40761775654780796,\n",
       "  0.37410071942446044,\n",
       "  0.4094028282010299,\n",
       "  0.38230884557721145,\n",
       "  0.43620328679642895,\n",
       "  0.39331619537275064,\n",
       "  0.45638930891670126,\n",
       "  0.4049493813273341,\n",
       "  0.4439968161574096,\n",
       "  0.407,\n",
       "  0.45138240889440207,\n",
       "  0.4181654676258993],\n",
       " 'train_score_recall': [],\n",
       " 'train_score_rocauc': [],\n",
       " 'test_score_acc': [0.13515625,\n",
       "  0.2540633019674936,\n",
       "  0.3431001890359168,\n",
       "  0.3738120380147835,\n",
       "  0.3784431137724551,\n",
       "  0.3798342541436464,\n",
       "  0.4029363784665579,\n",
       "  0.40039840637450197,\n",
       "  0.42710997442455245,\n",
       "  0.4444444444444444],\n",
       " 'test_score_f1': [0.21586361483220012,\n",
       "  0.3453202888946927,\n",
       "  0.4061705128194419,\n",
       "  0.43647650568197977,\n",
       "  0.417034888536087,\n",
       "  0.40518683277727596,\n",
       "  0.45595711418076884,\n",
       "  0.44787754246173206,\n",
       "  0.46213694772047187,\n",
       "  0.4790025591064777],\n",
       " 'test_score_recall': [0.13515625,\n",
       "  0.2540633019674936,\n",
       "  0.3431001890359168,\n",
       "  0.3738120380147835,\n",
       "  0.3784431137724551,\n",
       "  0.3798342541436464,\n",
       "  0.4029363784665579,\n",
       "  0.40039840637450197,\n",
       "  0.42710997442455245,\n",
       "  0.4444444444444444],\n",
       " 'test_score_rocauc': [0.4770657124268055,\n",
       "  0.49037820655239006,\n",
       "  0.49269480519480513,\n",
       "  0.48302745580142836,\n",
       "  0.5059562486463072,\n",
       "  0.48502278209595284,\n",
       "  0.5030740823407666,\n",
       "  0.5004237250336749,\n",
       "  0.49646684267743446,\n",
       "  0.49588033462240233,\n",
       "  0.5032772882575076,\n",
       "  0.47334783272283276,\n",
       "  0.4999471151303612,\n",
       "  0.4982108626198083,\n",
       "  0.5040526720803548,\n",
       "  0.4949485322150209,\n",
       "  0.4923915348572938,\n",
       "  0.5119403376323792,\n",
       "  0.49949849873168717,\n",
       "  0.5215677179962893]}"
      ]
     },
     "execution_count": 57,
     "metadata": {},
     "output_type": "execute_result"
    }
   ],
   "source": [
    "bin_cls_quality"
   ]
  },
  {
   "cell_type": "code",
   "execution_count": 28,
   "id": "da53eba8-2f8b-45eb-b705-83e5b62c6db2",
   "metadata": {
    "scrolled": true
   },
   "outputs": [
    {
     "data": {
      "image/png": "[encoded data removed]",
      "text/plain": [
       "<Figure size 640x480 with 1 Axes>"
      ]
     },
     "metadata": {},
     "output_type": "display_data"
    }
   ],
   "source": [
    "model_quality = dict()\n",
    "common_params = {\n",
    "    \"X\": train,\n",
    "    \"y\": y_train,\n",
    "    \"train_sizes\": np.linspace(0.1, 1.0, 10),\n",
    "    \"cv\": ShuffleSplit(n_splits=50, test_size=0.2, random_state=0),\n",
    "    \"score_type\": \"both\",\n",
    "    \"n_jobs\": 4,\n",
    "    \"line_kw\": {\"marker\": \"o\"},\n",
    "    \"std_display_style\": \"fill_between\",\n",
    "    \"score_name\": [\"Accuracy\", 'f1'],\n",
    "}\n",
    "\n",
    "for estimator in [lr_pred]:\n",
    "    model_quality[estimator.__class__.__name__] = dict()\n",
    "    learning_curve = LearningCurveDisplay.from_estimator(estimator, **common_params)\n",
    "    model_quality[estimator.__class__.__name__]['train_scores'] = learning_curve.train_scores.mean(axis = 1)\n",
    "    model_quality[estimator.__class__.__name__]['test_scores'] = learning_curve.test_scores.mean(axis = 1)\n",
    "    model_quality[estimator.__class__.__name__]['train_sizes'] = learning_curve.train_sizes"
   ]
  },
  {
   "cell_type": "code",
   "execution_count": 93,
   "id": "4f1fb60c-2cd2-44e1-aff6-8924677a56f1",
   "metadata": {},
   "outputs": [
    {
     "data": {
      "text/plain": [
       "{'train_scores': array([0.04592452, 0.07183721, 0.09122106, 0.10198845, 0.11072992,\n",
       "        0.11896716, 0.12745956, 0.13360336, 0.13646264, 0.14173895]),\n",
       " 'test_scores': array([-0.00650935,  0.0064752 ,  0.02042037,  0.03338824,  0.04338699,\n",
       "         0.05163831,  0.06073067,  0.0678175 ,  0.07180502,  0.07708531]),\n",
       " 'train_sizes': array([ 111,  222,  333,  444,  556,  667,  778,  889, 1000, 1112])}"
      ]
     },
     "execution_count": 93,
     "metadata": {},
     "output_type": "execute_result"
    }
   ],
   "source": [
    "model_quality['XGBRegressor']"
   ]
  },
  {
   "cell_type": "code",
   "execution_count": null,
   "id": "fe37e646-13df-4ec8-b57d-d594869b6386",
   "metadata": {},
   "outputs": [],
   "source": []
  },
  {
   "cell_type": "code",
   "execution_count": null,
   "id": "3a9e538e-a305-455c-8d53-97d267c8d6a9",
   "metadata": {},
   "outputs": [],
   "source": []
  }
 ],
 "metadata": {
  "kernelspec": {
   "display_name": "Python 3",
   "language": "python",
   "name": "python3"
  },
  "language_info": {
   "codemirror_mode": {
    "name": "ipython",
    "version": 3
   },
   "file_extension": ".py",
   "mimetype": "text/x-python",
   "name": "python",
   "nbconvert_exporter": "python",
   "pygments_lexer": "ipython3",
   "version": "3.11.5"
  }
 },
 "nbformat": 4,
 "nbformat_minor": 5
}
